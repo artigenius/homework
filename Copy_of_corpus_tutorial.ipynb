{
  "nbformat": 4,
  "nbformat_minor": 0,
  "metadata": {
    "colab": {
      "provenance": []
    },
    "kernelspec": {
      "name": "python3",
      "display_name": "Python 3"
    },
    "language_info": {
      "name": "python"
    }
  },
  "cells": [
    {
      "cell_type": "markdown",
      "source": [
        "# Лицензия"
      ],
      "metadata": {
        "id": "QVTnnVtQ8jO6"
      }
    },
    {
      "cell_type": "markdown",
      "source": [
        "MIT License\n",
        "\n",
        "Copyright (c) 2023 Victoria Firsanova\n",
        "\n",
        "Permission is hereby granted, free of charge, to any person obtaining a copy\n",
        "of this software and associated documentation files (the \"Software\"), to deal\n",
        "in the Software without restriction, including without limitation the rights\n",
        "to use, copy, modify, merge, publish, distribute, sublicense, and/or sell\n",
        "copies of the Software, and to permit persons to whom the Software is\n",
        "furnished to do so, subject to the following conditions:\n",
        "\n",
        "The above copyright notice and this permission notice shall be included in all\n",
        "copies or substantial portions of the Software.\n",
        "\n",
        "THE SOFTWARE IS PROVIDED \"AS IS\", WITHOUT WARRANTY OF ANY KIND, EXPRESS OR\n",
        "IMPLIED, INCLUDING BUT NOT LIMITED TO THE WARRANTIES OF MERCHANTABILITY,\n",
        "FITNESS FOR A PARTICULAR PURPOSE AND NONINFRINGEMENT. IN NO EVENT SHALL THE\n",
        "AUTHORS OR COPYRIGHT HOLDERS BE LIABLE FOR ANY CLAIM, DAMAGES OR OTHER\n",
        "LIABILITY, WHETHER IN AN ACTION OF CONTRACT, TORT OR OTHERWISE, ARISING FROM,\n",
        "OUT OF OR IN CONNECTION WITH THE SOFTWARE OR THE USE OR OTHER DEALINGS IN THE\n",
        "SOFTWARE."
      ],
      "metadata": {
        "id": "VSx3ap-H7czd"
      }
    },
    {
      "cell_type": "markdown",
      "source": [
        "# Импорт библиотек"
      ],
      "metadata": {
        "id": "c1Offge4klq7"
      }
    },
    {
      "cell_type": "code",
      "execution_count": 1,
      "metadata": {
        "id": "7VRPYOizkWgj"
      },
      "outputs": [],
      "source": [
        "from datetime import date, timedelta\n",
        "\n",
        "import requests\n",
        "from bs4 import BeautifulSoup\n",
        "\n",
        "import json"
      ]
    },
    {
      "cell_type": "markdown",
      "source": [
        "# Генерация ссылок\n",
        "\n",
        "1. Генерация списка дат\n",
        "\n",
        "https://lenta.ru/2023/09/15/\n",
        "\n",
        "делим ссылку на условно две части: хттп лента ру и дата"
      ],
      "metadata": {
        "id": "2fUlrBl5kp-2"
      }
    },
    {
      "cell_type": "code",
      "source": [
        "def generate_dates(start_date, end_date):\n",
        "  \"\"\"\n",
        "  Функция принимает на вход даты для генерации списка дат, возвращает список дат.\n",
        "  start_date и end_date являются классами типа date из модуля datetime\n",
        "  start_date: date()\n",
        "  end_date: date()\n",
        "  \"\"\"\n",
        "\n",
        "  # список дат\n",
        "\n",
        "  dates = []\n",
        "\n",
        "  # с помощью timedelta мы задаем какую разницу во времени мы отсчитываем\n",
        "  # поскольку нас интересуют статьи за каждый день, мы отсчитываем 1 день от каждой заданной даты\n",
        "  # например, мы берем дату 24.07.2021 в качестве начальной точки отсчета\n",
        "  # затем мы используем дельту равную одному дню и получаем дату 25.07.2021\n",
        "\n",
        "  delta = timedelta(days = 1) # задаем частоту\n",
        "\n",
        "  # цикл: до тех пор, пока первоначальная дата не совпадет с (меньше или равна) финальной\n",
        "  while start_date <= end_date:\n",
        "    # добавляем текущую (стартовую) дату в список дат\n",
        "    dates.append(start_date)\n",
        "    # используем timedelta: прибавляем 1 день к текущей (стартовой) дате\n",
        "    start_date += delta\n",
        "\n",
        "  # функция возвращает список дат\n",
        "\n",
        "  return dates"
      ],
      "metadata": {
        "id": "UaEFYvhfkbRx"
      },
      "execution_count": 2,
      "outputs": []
    },
    {
      "cell_type": "code",
      "source": [
        "# объекты типа date оперирует датами в формате (год, месяц, день)\n",
        "# задаем даты\n",
        "\n",
        "start_date = date(2023, 9, 22)\n",
        "end_date = date(2023, 9, 24)\n",
        "\n",
        "# применяем нашу функцию и смотрим результат\n",
        "\n",
        "dates = generate_dates(start_date, end_date)\n",
        "dates"
      ],
      "metadata": {
        "id": "BoSmj-Nnkt4E",
        "colab": {
          "base_uri": "https://localhost:8080/"
        },
        "outputId": "7c817166-b689-4c58-bc1f-770a6d4db18c"
      },
      "execution_count": 4,
      "outputs": [
        {
          "output_type": "execute_result",
          "data": {
            "text/plain": [
              "[datetime.date(2023, 9, 22),\n",
              " datetime.date(2023, 9, 23),\n",
              " datetime.date(2023, 9, 24)]"
            ]
          },
          "metadata": {},
          "execution_count": 4
        }
      ]
    },
    {
      "cell_type": "markdown",
      "source": [
        "2. Генерация ссылок для запроса по архивам"
      ],
      "metadata": {
        "id": "nWIx90_ok2ao"
      }
    },
    {
      "cell_type": "code",
      "source": [
        "def generate_links(website, dates):\n",
        "  \"\"\"\n",
        "  Функция для генерации ссылок. Принимает на вход названия новостных сайтов и\n",
        "  список ссылок.\n",
        "\n",
        "  website: str\n",
        "  dates: list\n",
        "  \"\"\"\n",
        "  # создаем список для хранения ссылок\n",
        "  links = []\n",
        "  # создаем временное хранилище для ссылок, которые мы будем записывать в список\n",
        "  temp = ''\n",
        "\n",
        "  # начинаем итерацию по всем элементам списка dates\n",
        "  for i in range(len(dates)):\n",
        "    # поспользуемся форматированием строки для компляции ссылок\n",
        "    # используем нашу структуру https://***.ru/news/yyyy/mm/dd\n",
        "    # форматированию подвергаются элементы ***, yyyy/mm/dd\n",
        "    # на место *** помещаем название сайта, записанное в переменную website\n",
        "    # на место yyyy/mm/dd помещаем значения из списка dates текущей итерации\n",
        "    # вспоминаем, как делать запрос к формату dates (см. ячейку выше)\n",
        "    # так, чтобы получить значение года, вводим dates[i].year, где\n",
        "    # > dates - обращение к списку дат\n",
        "    # > [i] - текущая итерация\n",
        "    # > year - извлечение года из формата date модуля datetime\n",
        "    year = dates[i].year\n",
        "    # к значению месяца нужно приписать 0 слева в том случае,\n",
        "    # если это значение меньше 10\n",
        "    # иначе мы не сможем сделать запросы к сайтам,\n",
        "    # потому что на сайтах используется формат вида 24-_0_7-2023\n",
        "    month = dates[i].month if dates[i].month > 9 else f'0{dates[i].month}'\n",
        "    # то же самое нужно сделать для дней\n",
        "    day = dates[i].day if dates[i].day > 9 else f'0{dates[i].day}'\n",
        "    temp = f'https://{website}.ru/news/{year}/{month}/{day}'\n",
        "    links.append(temp)\n",
        "  return links"
      ],
      "metadata": {
        "id": "xpSUCuOIkxrm"
      },
      "execution_count": 5,
      "outputs": []
    },
    {
      "cell_type": "code",
      "source": [
        "# генерация списка ссылок\n",
        "# добавим название сайта и дату\n",
        "\n",
        "links = generate_links(\"lenta\", dates)\n",
        "links"
      ],
      "metadata": {
        "id": "y_NsGb2_k58c",
        "colab": {
          "base_uri": "https://localhost:8080/"
        },
        "outputId": "a8cc8e77-2e6c-4796-c40d-6ea6918e9b4f"
      },
      "execution_count": 7,
      "outputs": [
        {
          "output_type": "execute_result",
          "data": {
            "text/plain": [
              "['https://lenta.ru/news/2023/09/22',\n",
              " 'https://lenta.ru/news/2023/09/23',\n",
              " 'https://lenta.ru/news/2023/09/24']"
            ]
          },
          "metadata": {},
          "execution_count": 7
        }
      ]
    },
    {
      "cell_type": "markdown",
      "source": [
        "# Выгрузка архивов"
      ],
      "metadata": {
        "id": "Rh0HeSoBlIhY"
      }
    },
    {
      "cell_type": "code",
      "source": [
        "sample = \"https://lenta.ru/articles/2023/09/15/nyfashionweek/\"\n",
        "r = requests.get(sample)\n",
        "r"
      ],
      "metadata": {
        "id": "bldCvq2KE5-3",
        "colab": {
          "base_uri": "https://localhost:8080/"
        },
        "outputId": "5df9e5c0-7185-47e8-db59-a7b61cb860c9"
      },
      "execution_count": 14,
      "outputs": [
        {
          "output_type": "execute_result",
          "data": {
            "text/plain": [
              "<Response [200]>"
            ]
          },
          "metadata": {},
          "execution_count": 14
        }
      ]
    },
    {
      "cell_type": "code",
      "source": [
        "soup = BeautifulSoup(r.content, 'html.parser')"
      ],
      "metadata": {
        "id": "L4xWR1L1FCD_"
      },
      "execution_count": 15,
      "outputs": []
    },
    {
      "cell_type": "markdown",
      "source": [
        "выдает исходный код страницы"
      ],
      "metadata": {
        "id": "ijs3wBV9K6oA"
      }
    },
    {
      "cell_type": "code",
      "source": [
        "soup"
      ],
      "metadata": {
        "id": "7ugCU6fEFHDp"
      },
      "execution_count": null,
      "outputs": []
    },
    {
      "cell_type": "markdown",
      "source": [
        "выдает текст страницы"
      ],
      "metadata": {
        "id": "ym8Sz7l3LB42"
      }
    },
    {
      "cell_type": "code",
      "source": [
        "soup.text"
      ],
      "metadata": {
        "id": "e70uE-GNK9zJ"
      },
      "execution_count": null,
      "outputs": []
    },
    {
      "cell_type": "code",
      "source": [
        "json.loads(soup.find('script', type='application/ld+json').text)['description']"
      ],
      "metadata": {
        "id": "e5c-ACLK2EVU",
        "colab": {
          "base_uri": "https://localhost:8080/",
          "height": 54
        },
        "outputId": "384cd944-912b-463b-ae43-57e0282654e2"
      },
      "execution_count": 18,
      "outputs": [
        {
          "output_type": "execute_result",
          "data": {
            "text/plain": [
              "'Завершилась первая из четырех Недель мод — дизайнеры со всего мира представили публике свои коллекции сезона весна-лето 2024. Несмотря на то что превалирующей тематикой шоу остается нагота, модельеры нашли новые способы удивить своих зрителей. Чем запомнилась Неделя моды в Нью-Йорке — в галерее «Ленты.ру». '"
            ],
            "application/vnd.google.colaboratory.intrinsic+json": {
              "type": "string"
            }
          },
          "metadata": {},
          "execution_count": 18
        }
      ]
    },
    {
      "cell_type": "code",
      "source": [
        "def scraping(links):\n",
        "  \"\"\"\n",
        "  Функция для скрейпинга веб-страниц.\n",
        "  Используется как для извлечения информации из архивов,\n",
        "  так и для извлечения информации с новостных страниц сайтов.\n",
        "\n",
        "  На вход принимается:\n",
        "  links: список ссылок (list)\n",
        "\n",
        "  Функция возвращает список собранных данных:\n",
        "  data: list\n",
        "  \"\"\"\n",
        "  # создаем хранилище для собранной информации\n",
        "  data = []\n",
        "  # извлекаем ссылку из нашего списка с помощью итерирования\n",
        "  for link in links:\n",
        "    try: #исключаем все ошибки\n",
        "      # делаем запрос к странице с помощью requests.get\n",
        "      r = requests.get(link)\n",
        "      # проверяем успешность запроса\n",
        "      status = r.status_code\n",
        "      # если запрос успешный, то есть возвращается значение 200\n",
        "      if status == 200:\n",
        "        # производим парсинг страницы с помощью HTML-парсера BeautifulSoup\n",
        "        soup = BeautifulSoup(r.content, 'html.parser')\n",
        "        # сохраняем в хранилище\n",
        "        data.append(soup)\n",
        "        # для дебагинга кода будем возвращать статус загрузки\n",
        "        print(f'Успешно выгружены данные со страницы {link}')\n",
        "      # если значение запроса иное, например, 404\n",
        "      else:\n",
        "        # возвращаем сообщение об ошибке\n",
        "        print(f'При попытке запроса произошла ошибка. Код {r.status_code}')\n",
        "    # прописываем действия на тот случай, если сделать запрос не удалось\n",
        "    except requests.exceptions.RequestException as e:\n",
        "      # возвращаем сообщение об ошибке\n",
        "      print(f'При попытке запроса произошла ошибка {e}')\n",
        "  # при успешном прохождении всех ссылок, получаем наши данные\n",
        "  return data"
      ],
      "metadata": {
        "id": "UTsoDyJMk-B1"
      },
      "execution_count": 19,
      "outputs": []
    },
    {
      "cell_type": "code",
      "source": [
        "# последовательно применяем нашу функцию к ссылкам\n",
        "\n",
        "archive = scraping(links)"
      ],
      "metadata": {
        "id": "p5paEI6KlMyv",
        "colab": {
          "base_uri": "https://localhost:8080/"
        },
        "outputId": "146254d3-9331-45c7-a469-34ea82c3e542"
      },
      "execution_count": 20,
      "outputs": [
        {
          "output_type": "stream",
          "name": "stdout",
          "text": [
            "Успешно выгружены данные со страницы https://lenta.ru/news/2023/09/22\n",
            "Успешно выгружены данные со страницы https://lenta.ru/news/2023/09/23\n",
            "Успешно выгружены данные со страницы https://lenta.ru/news/2023/09/24\n"
          ]
        }
      ]
    },
    {
      "cell_type": "markdown",
      "source": [
        "чтобы посмотреть весь архив"
      ],
      "metadata": {
        "id": "DnO6-rRUMzMq"
      }
    },
    {
      "cell_type": "code",
      "source": [
        "archive [0]"
      ],
      "metadata": {
        "id": "3MHurbr1Mt5F"
      },
      "execution_count": null,
      "outputs": []
    },
    {
      "cell_type": "markdown",
      "source": [
        "# Извлечение новостных страниц из архивов"
      ],
      "metadata": {
        "id": "hoAbEoduleTK"
      }
    },
    {
      "cell_type": "code",
      "source": [
        "# применим ту же функцию для пары тестовых страниц\n",
        "\n",
        "text_url = [\"https://lenta.ru/articles/2023/09/15/nyfashionweek/\", \"https://lenta.ru/articles/2023/09/15/soundoffreedom/\"]\n",
        "sample = scraping(text_url)"
      ],
      "metadata": {
        "id": "3KR28jMtlrSR",
        "colab": {
          "base_uri": "https://localhost:8080/"
        },
        "outputId": "588beb62-ab8f-418c-e414-d671647d6b42"
      },
      "execution_count": 27,
      "outputs": [
        {
          "output_type": "stream",
          "name": "stdout",
          "text": [
            "Успешно выгружены данные со страницы https://lenta.ru/articles/2023/09/15/nyfashionweek/\n",
            "Успешно выгружены данные со страницы https://lenta.ru/articles/2023/09/15/soundoffreedom/\n"
          ]
        }
      ]
    },
    {
      "cell_type": "code",
      "source": [
        "# предварительно зададим функцию для формирования ссылок\n",
        "\n",
        "def form_href(element):\n",
        "  \"\"\"\n",
        "  Функция принимает на вход элемент списка\n",
        "  из временного хранилища информации с архива сайта lenta (BeautifulSoup).\n",
        "\n",
        "  Функция возвращает сформированную ссылку для скрейпинга (str).\n",
        "  \"\"\"\n",
        "  # извлекаем из элемента ссылку\n",
        "  # более подробно работа с парсингом описана выше\n",
        "  href = element['href'] # пример извлечения: /news/2021/07/24/***/\n",
        "  # собираем ссылку\n",
        "  # префикс 'https://lenta.ru' соединяем с извлеменной ссылкой\n",
        "  return 'https://lenta.ru' + href"
      ],
      "metadata": {
        "id": "XIlZPzLcuqS9"
      },
      "execution_count": 28,
      "outputs": []
    },
    {
      "cell_type": "markdown",
      "source": [
        "json = dictionary\n",
        "\n",
        "мы храним его в фигурных скобках; имя словаря состоит из двух элементов: ключ и значение"
      ],
      "metadata": {
        "id": "uGgwJmi1OMVv"
      }
    },
    {
      "cell_type": "code",
      "source": [
        "def get_content(contents):\n",
        "  temp = json.loads(contents.find('script', type='application/ld+json').text)\n",
        "  content = {'headline': temp['headline'], 'description': temp['description'], 'body': temp['articleBody']}\n",
        "  return content"
      ],
      "metadata": {
        "id": "z9KAQWfO3rG3"
      },
      "execution_count": 45,
      "outputs": []
    },
    {
      "cell_type": "code",
      "source": [
        "# создаем хранилище для новостного контента\n",
        "\n",
        "content = []"
      ],
      "metadata": {
        "id": "jHzkLMeV3i_H"
      },
      "execution_count": 46,
      "outputs": []
    },
    {
      "cell_type": "code",
      "source": [
        "# проходим по каждому элементу архива,\n",
        "# то есть по данным за каждый день\n",
        "for page in archive:\n",
        "  # находим все элементы класса \"card-full-news _archive\"\n",
        "  # методом find_all из BeautifulSoup\n",
        "  # ранее мы выяснили, что именно в этом классе хранятся искомые ссылки\n",
        "  # в переменной temp хранится список (list) всех элементов класса \"card-full-news _archive\"\n",
        "\n",
        "  temp = page.find_all(\"a\", class_=\"card-full-news _archive\") #класс хранит ссылки на страницы в архиве\n",
        "\n",
        "  # проходим по всем элементам этого списка\n",
        "  # здесь используем созданную ранее функцию lenta_href для создания ссылок\n",
        "  # с помощью генератора списков создаем набор ссылок для каждого дня в архиве\n",
        "\n",
        "  temp_links = [form_href(element) for element in temp] #склеивает страницу и ссылку на нее\n",
        "\n",
        "  # используем созданную ранее функцию scraping для скрейпинга данных\n",
        "  # по этим ссылкам\n",
        "\n",
        "  contents = scraping(temp_links) #достает исходный код страницы\n",
        "\n",
        "  # добавляем извлеченную информацию в хранилище content\n",
        "  # contents хранит список данных за по каждой ссылке\n",
        "  # эти данные представляют собой объект BeautifulSoup\n",
        "  # с помощью get_content мы извлекаем текстовые данные из каждого элемента\n",
        "  # и с помощью генерации списков мы все это сохраняем в хранилище content\n",
        "\n",
        "  content.append([get_content(c) for c in contents]) #извлекает из зашифрованного скрипта информацию"
      ],
      "metadata": {
        "id": "oUIXsBJRuum1",
        "colab": {
          "base_uri": "https://localhost:8080/"
        },
        "outputId": "5ae0e600-2279-46f8-a6cf-575cd69899ff"
      },
      "execution_count": 47,
      "outputs": [
        {
          "output_type": "stream",
          "name": "stdout",
          "text": [
            "Успешно выгружены данные со страницы https://lenta.ru/news/2023/09/21/vzryv/\n",
            "Успешно выгружены данные со страницы https://lenta.ru/news/2023/09/22/way/\n",
            "Успешно выгружены данные со страницы https://lenta.ru/news/2023/09/22/358/\n",
            "Успешно выгружены данные со страницы https://lenta.ru/news/2023/09/22/meet/\n",
            "Успешно выгружены данные со страницы https://lenta.ru/news/2023/09/21/abrams/\n",
            "Успешно выгружены данные со страницы https://lenta.ru/news/2023/09/22/kolomoisky_aktivi/\n",
            "Успешно выгружены данные со страницы https://lenta.ru/news/2023/09/22/toplesgrey/\n",
            "Успешно выгружены данные со страницы https://lenta.ru/news/2023/09/22/paket/\n",
            "Успешно выгружены данные со страницы https://lenta.ru/news/2023/09/22/mirzoyan/\n",
            "Успешно выгружены данные со страницы https://lenta.ru/news/2023/09/22/serb/\n",
            "Успешно выгружены данные со страницы https://lenta.ru/news/2023/09/22/moldova/\n",
            "Успешно выгружены данные со страницы https://lenta.ru/news/2023/09/22/help/\n",
            "Успешно выгружены данные со страницы https://lenta.ru/news/2023/09/22/burkina/\n",
            "Успешно выгружены данные со страницы https://lenta.ru/news/2023/09/22/niger/\n",
            "Успешно выгружены данные со страницы https://lenta.ru/news/2023/09/22/-expelled-after-masturbation/\n",
            "Успешно выгружены данные со страницы https://lenta.ru/news/2023/09/22/stop_help/\n",
            "Успешно выгружены данные со страницы https://lenta.ru/news/2023/09/22/plan/\n",
            "Успешно выгружены данные со страницы https://lenta.ru/news/2023/09/22/face/\n",
            "Успешно выгружены данные со страницы https://lenta.ru/news/2023/09/22/endless/\n",
            "Успешно выгружены данные со страницы https://lenta.ru/news/2023/09/22/nujno/\n",
            "Успешно выгружены данные со страницы https://lenta.ru/news/2023/09/22/meeting/\n",
            "Успешно выгружены данные со страницы https://lenta.ru/news/2023/09/22/obsudili/\n",
            "Успешно выгружены данные со страницы https://lenta.ru/news/2023/09/22/starenie/\n",
            "Успешно выгружены данные со страницы https://lenta.ru/news/2023/09/22/help_usa/\n",
            "Успешно выгружены данные со страницы https://lenta.ru/news/2023/09/22/posolstvo/\n",
            "Успешно выгружены данные со страницы https://lenta.ru/news/2023/09/22/argus/\n",
            "Успешно выгружены данные со страницы https://lenta.ru/news/2023/09/22/visit/\n",
            "Успешно выгружены данные со страницы https://lenta.ru/news/2023/09/22/verbovka/\n",
            "Успешно выгружены данные со страницы https://lenta.ru/news/2023/09/22/gigibody/\n",
            "Успешно выгружены данные со страницы https://lenta.ru/news/2023/09/22/krah/\n",
            "Успешно выгружены данные со страницы https://lenta.ru/news/2023/09/23/roman_empire/\n",
            "Успешно выгружены данные со страницы https://lenta.ru/news/2023/09/23/kazan/\n",
            "Успешно выгружены данные со страницы https://lenta.ru/news/2023/09/22/kongress_ukrain/\n",
            "Успешно выгружены данные со страницы https://lenta.ru/news/2023/09/23/polsa/\n",
            "Успешно выгружены данные со страницы https://lenta.ru/news/2023/09/23/zhurova/\n",
            "Успешно выгружены данные со страницы https://lenta.ru/news/2023/09/23/nevoz/\n",
            "Успешно выгружены данные со страницы https://lenta.ru/news/2023/09/23/usloviya_mira/\n",
            "Успешно выгружены данные со страницы https://lenta.ru/news/2023/09/23/psheno/\n",
            "Успешно выгружены данные со страницы https://lenta.ru/news/2023/09/23/shtraf/\n",
            "Успешно выгружены данные со страницы https://lenta.ru/news/2023/09/23/perestrelka/\n",
            "Успешно выгружены данные со страницы https://lenta.ru/news/2023/09/23/granata/\n",
            "Успешно выгружены данные со страницы https://lenta.ru/news/2023/09/23/zabast/\n",
            "Успешно выгружены данные со страницы https://lenta.ru/news/2023/09/23/odessa/\n",
            "Успешно выгружены данные со страницы https://lenta.ru/news/2023/09/23/sanctions/\n",
            "Успешно выгружены данные со страницы https://lenta.ru/news/2023/09/23/lavrov/\n",
            "Успешно выгружены данные со страницы https://lenta.ru/news/2023/09/23/snaryad/\n",
            "Успешно выгружены данные со страницы https://lenta.ru/news/2023/09/23/thatswhy/\n",
            "Успешно выгружены данные со страницы https://lenta.ru/news/2023/09/23/nikanorov/\n",
            "Успешно выгружены данные со страницы https://lenta.ru/news/2023/09/23/mosh/\n",
            "Успешно выгружены данные со страницы https://lenta.ru/news/2023/09/23/interpol/\n",
            "Успешно выгружены данные со страницы https://lenta.ru/news/2023/09/23/nuclear_tests/\n",
            "Успешно выгружены данные со страницы https://lenta.ru/news/2023/09/23/zelenskiy/\n",
            "Успешно выгружены данные со страницы https://lenta.ru/news/2023/09/23/biber/\n",
            "Успешно выгружены данные со страницы https://lenta.ru/news/2023/09/23/ashton-chirillo/\n",
            "Успешно выгружены данные со страницы https://lenta.ru/news/2023/09/23/nepod/\n",
            "Успешно выгружены данные со страницы https://lenta.ru/news/2023/09/23/house/\n",
            "Успешно выгружены данные со страницы https://lenta.ru/news/2023/09/23/kontakt/\n",
            "Успешно выгружены данные со страницы https://lenta.ru/news/2023/09/23/cohesion/\n",
            "Успешно выгружены данные со страницы https://lenta.ru/news/2023/09/23/sdal/\n",
            "Успешно выгружены данные со страницы https://lenta.ru/news/2023/09/23/farmatsevt/\n",
            "Успешно выгружены данные со страницы https://lenta.ru/news/2023/09/24/killers/\n",
            "Успешно выгружены данные со страницы https://lenta.ru/news/2023/09/24/sdelaeett/\n",
            "Успешно выгружены данные со страницы https://lenta.ru/news/2023/09/23/wrong_fight/\n",
            "Успешно выгружены данные со страницы https://lenta.ru/news/2023/09/24/papa/\n",
            "Успешно выгружены данные со страницы https://lenta.ru/news/2023/09/24/vlaastii/\n",
            "Успешно выгружены данные со страницы https://lenta.ru/news/2023/09/24/cik/\n",
            "Успешно выгружены данные со страницы https://lenta.ru/news/2023/09/24/izbir/\n",
            "Успешно выгружены данные со страницы https://lenta.ru/news/2023/09/24/dnr/\n",
            "Успешно выгружены данные со страницы https://lenta.ru/news/2023/09/24/deti_usa/\n",
            "Успешно выгружены данные со страницы https://lenta.ru/news/2023/09/24/windows_update/\n",
            "Успешно выгружены данные со страницы https://lenta.ru/news/2023/09/24/uvazhaet/\n",
            "Успешно выгружены данные со страницы https://lenta.ru/news/2023/09/24/priinciip/\n",
            "Успешно выгружены данные со страницы https://lenta.ru/news/2023/09/24/sistema/\n",
            "Успешно выгружены данные со страницы https://lenta.ru/news/2023/09/24/levspartak/\n",
            "Успешно выгружены данные со страницы https://lenta.ru/news/2023/09/24/oon/\n",
            "Успешно выгружены данные со страницы https://lenta.ru/news/2023/09/24/pregnant/\n",
            "Успешно выгружены данные со страницы https://lenta.ru/news/2023/09/24/vybory/\n",
            "Успешно выгружены данные со страницы https://lenta.ru/news/2023/09/24/no_shutdown/\n",
            "Успешно выгружены данные со страницы https://lenta.ru/news/2023/09/24/razmeerr/\n",
            "Успешно выгружены данные со страницы https://lenta.ru/news/2023/09/24/gimn_crimea/\n",
            "Успешно выгружены данные со страницы https://lenta.ru/news/2023/09/24/palace/\n",
            "Успешно выгружены данные со страницы https://lenta.ru/news/2023/09/24/rashody/\n",
            "Успешно выгружены данные со страницы https://lenta.ru/news/2023/09/24/storm/\n",
            "Успешно выгружены данные со страницы https://lenta.ru/news/2023/09/24/nikto/\n",
            "Успешно выгружены данные со страницы https://lenta.ru/news/2023/09/24/kostomarov/\n",
            "Успешно выгружены данные со страницы https://lenta.ru/news/2023/09/24/knr/\n",
            "Успешно выгружены данные со страницы https://lenta.ru/news/2023/09/24/egipet/\n",
            "Успешно выгружены данные со страницы https://lenta.ru/news/2023/09/24/stroiikka/\n",
            "Успешно выгружены данные со страницы https://lenta.ru/news/2023/09/24/desantis/\n",
            "Успешно выгружены данные со страницы https://lenta.ru/news/2023/09/24/finland/\n"
          ]
        }
      ]
    },
    {
      "cell_type": "code",
      "source": [
        "len(content)"
      ],
      "metadata": {
        "colab": {
          "base_uri": "https://localhost:8080/"
        },
        "id": "_2NK-3FERIay",
        "outputId": "85ab2419-22dc-4219-bd0f-8a71a07d87c4"
      },
      "execution_count": 49,
      "outputs": [
        {
          "output_type": "execute_result",
          "data": {
            "text/plain": [
              "3"
            ]
          },
          "metadata": {},
          "execution_count": 49
        }
      ]
    },
    {
      "cell_type": "code",
      "source": [
        "len(content [0])"
      ],
      "metadata": {
        "colab": {
          "base_uri": "https://localhost:8080/"
        },
        "id": "5KAW5FWdRe3-",
        "outputId": "5aa00ff9-9eae-4a91-a229-d17b9818d26a"
      },
      "execution_count": 50,
      "outputs": [
        {
          "output_type": "execute_result",
          "data": {
            "text/plain": [
              "30"
            ]
          },
          "metadata": {},
          "execution_count": 50
        }
      ]
    },
    {
      "cell_type": "code",
      "source": [
        "content [0][2]"
      ],
      "metadata": {
        "colab": {
          "base_uri": "https://localhost:8080/"
        },
        "id": "bySekrE2Rk3N",
        "outputId": "6a8351de-5aa9-4ec0-b877-1b59f86c1bb1"
      },
      "execution_count": 51,
      "outputs": [
        {
          "output_type": "execute_result",
          "data": {
            "text/plain": [
              "{'headline': 'В США рассказали о показанной Шойгу в Иране «странной» ракете',\n",
              " 'description': 'Министру обороны России Сергей Шойгу в ходе визита в Тегеран показали «странную» барражирующую ракету класса «земля-воздух» иранской разработки, известную в США как 358. Об этом рассказывает The Drive. Издание пишет, что информации о 358 и ее возможностях в открытых источниках мало.',\n",
              " 'body': 'Министру обороны России Сергей Шойгу в ходе визита в Тегеран показали «странную» барражирующую ракету класса «земля-воздух» иранской разработки, известную в США как 358. Об этом рассказывает американское издание The Drive. Отмечается, что образцы этого оружия, о котором в США впервые узнали в 2019 году, Иран поставляет своим союзникам в Йемене и Ираке. Издание пишет, что информации о 358 и ее возможностях в открытых источниках мало. В частности, отмечается, что 2,4-метровая ракета цилиндрической формы имеет три группы крыльев, предназначенных для маневрирования и планирования в полете, и оснащена инерциальной и спутниковой навигационными системами. Запускается с земли 358 при помощи твердотопливного ускорителя, в дальнейшем движение происходит посредством воздушно-реактивной двигательной установки. По оценке американской стороны, на которую ссылается издание, изделие 358 скорее всего представляет собой необычное средство противовоздушной обороны (ПВО), предназначенное, в частности, для барражирования в воздухе, поиска целей и их уничтожения. «Концепция, лежащая в основе ракеты 358, очень интригует. Если оружие работает так, как описано, его можно будет запустить в прифронтовые районы, где ожидается прибытие дронов или вертолетов», — говорится в публикации. Отмечается, что противодействию 358 может мешать не только необычный режим работы ракеты, но и ее низкая стоимость вместе с простотой развертывания. Ранее Шойгу в ходе визита в Тегеран посетил выставку аэрокосмических сил Корпуса стражей исламской революции (КСИР) Ирана, где ему показали ракеты и беспилотники иранского производства.'}"
            ]
          },
          "metadata": {},
          "execution_count": 51
        }
      ]
    },
    {
      "cell_type": "markdown",
      "source": [
        "сохраняем дата сеты:\n",
        "\n",
        "1 чтобы они хорошо читались человеком\n",
        "2 хорошо читались машиной\n",
        "\n",
        "для этого хорошо подходят табличные форматы csv (данные через запятую) или tsv (данные через табуляцию)\n",
        "\n"
      ],
      "metadata": {
        "id": "zVJCUip2TI_i"
      }
    },
    {
      "cell_type": "code",
      "source": [
        "# сохраним наш корпус в отдельный файл\n",
        "with open(\"corpus.json\", \"w\", encoding=\"utf8\") as f:\n",
        "   json.dump(content, f, ensure_ascii=False)"
      ],
      "metadata": {
        "id": "koiNp1lKTAGv"
      },
      "execution_count": 52,
      "outputs": []
    },
    {
      "cell_type": "markdown",
      "source": [
        "Задание:\n",
        "\n",
        "- создать функцию, которая принимает на вход даты и возвращает корпус\n",
        "- функция должна line-by-line сохранять все в файл\n",
        "- \"поиграть\" с разметкой корпуса\n",
        "- сохранить в другом формате (csv, txt)\n",
        "- собрать корпус для другого издания\n",
        "- собрать более крупный корпус"
      ],
      "metadata": {
        "id": "FyT4-l1B5JHe"
      }
    }
  ]
}