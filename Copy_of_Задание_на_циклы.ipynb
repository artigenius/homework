{
  "nbformat": 4,
  "nbformat_minor": 0,
  "metadata": {
    "colab": {
      "provenance": []
    },
    "kernelspec": {
      "name": "python3",
      "display_name": "Python 3"
    },
    "language_info": {
      "name": "python"
    }
  },
  "cells": [
    {
      "cell_type": "markdown",
      "source": [
        "```Авторский курс Виктории Фирсановой по Python для Data Science и NLP. Разработан специально для петербургского кампуса НИУ ВШЭ```"
      ],
      "metadata": {
        "id": "SNwhjSmrI2L7"
      }
    },
    {
      "cell_type": "markdown",
      "source": [
        "Загружаем датасет киноотзывов с NLTK"
      ],
      "metadata": {
        "id": "ve58EM53HdHC"
      }
    },
    {
      "cell_type": "code",
      "execution_count": null,
      "metadata": {
        "colab": {
          "base_uri": "https://localhost:8080/"
        },
        "id": "m8TLWyIoG_kS",
        "outputId": "33929474-7c41-4501-bc3c-911c054c4433"
      },
      "outputs": [
        {
          "output_type": "stream",
          "name": "stderr",
          "text": [
            "[nltk_data] Downloading package movie_reviews to /root/nltk_data...\n",
            "[nltk_data]   Unzipping corpora/movie_reviews.zip.\n"
          ]
        },
        {
          "output_type": "execute_result",
          "data": {
            "text/plain": [
              "True"
            ]
          },
          "metadata": {},
          "execution_count": 1
        }
      ],
      "source": [
        "import nltk\n",
        "from nltk.corpus import movie_reviews\n",
        "\n",
        "nltk.download(\"movie_reviews\")"
      ]
    },
    {
      "cell_type": "code",
      "source": [
        "# Извлекаем положительные и негативные отзывы\n",
        "\n",
        "positive_reviews = movie_reviews.fileids(\"pos\")\n",
        "negative_reviews = movie_reviews.fileids(\"neg\")"
      ],
      "metadata": {
        "id": "xnNp8AGUHbTh"
      },
      "execution_count": null,
      "outputs": []
    },
    {
      "cell_type": "markdown",
      "source": [
        "**Задание 1**\n",
        "\n",
        "Посчитать среднюю длину положительных отзывов в словах"
      ],
      "metadata": {
        "id": "B1RLdPhnIcTy"
      }
    },
    {
      "cell_type": "code",
      "source": [
        "# считаем длину отзывов\n",
        "# создаем переменную, куда сохраним длину отзывов\n",
        "# здесь будет храниться _общее количество отзывов_\n",
        "total_length = 0\n",
        "# цикл для каждого отзыва в списке _положительных отзывов_\n",
        "for id in positive_reviews:\n",
        "    # извлекаем слова в каждом отзыве\n",
        "    words = movie_reviews.words(fileids=[id])\n",
        "    # добавляем в переменную total_length количество извлеченных слов (длину списка слов)\n",
        "    total_length += len(words)\n",
        "\n",
        "# делим _общее количество отзывов_ на количество положительных отзывов (длину списка положительных отзывов)\n",
        "average_length_positive = total_length / len(positive_reviews)\n",
        "print(f\"Средняя длина положительных отзывов: {average_length_positive:.2f} слов\")"
      ],
      "metadata": {
        "id": "FDeVLc-wH7bC",
        "colab": {
          "base_uri": "https://localhost:8080/"
        },
        "outputId": "303d60bd-387c-43ef-aa9d-04b6740b5c4e"
      },
      "execution_count": null,
      "outputs": [
        {
          "output_type": "stream",
          "name": "stdout",
          "text": [
            "Средняя длина положительных отзывов: 832.56 слов\n"
          ]
        }
      ]
    },
    {
      "cell_type": "markdown",
      "source": [
        "**Задание 2**\n",
        "\n",
        "Посчитать среднюю длину негативных отзывов в словах"
      ],
      "metadata": {
        "id": "XYqs6sMFIgA7"
      }
    },
    {
      "cell_type": "code",
      "source": [
        "total_length = 0\n",
        "for id in negative_reviews:\n",
        "    words = movie_reviews.words(fileids=[id])\n",
        "    total_length += len(words)\n",
        "\n",
        "average_length_negative = total_length / len(negative_reviews)\n",
        "print(f\"Средняя длина негативных отзывов: {average_length_negative:.2f} слов\")"
      ],
      "metadata": {
        "id": "Yb8LC0zrH5H0",
        "colab": {
          "base_uri": "https://localhost:8080/"
        },
        "outputId": "a47ecd95-41f3-40dc-e90b-a8ca1c5fd0aa"
      },
      "execution_count": null,
      "outputs": [
        {
          "output_type": "stream",
          "name": "stdout",
          "text": [
            "Средняя длина негативных отзывов: 751.26 слов\n"
          ]
        }
      ]
    },
    {
      "cell_type": "markdown",
      "source": [
        "Виктория Игоревна, я совершенно неуверена в полученном ответе. Поняла, что для меня концепт циклов и подсчета длины отзывов немного далек от понимания. Если неправильно, не ругайтесь, я обязательно научусь т_т"
      ],
      "metadata": {
        "id": "gNV_yfERfEOP"
      }
    }
  ]
}