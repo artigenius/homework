{
  "nbformat": 4,
  "nbformat_minor": 0,
  "metadata": {
    "colab": {
      "provenance": [],
      "include_colab_link": true
    },
    "kernelspec": {
      "name": "python3",
      "display_name": "Python 3"
    },
    "language_info": {
      "name": "python"
    }
  },
  "cells": [
    {
      "cell_type": "markdown",
      "metadata": {
        "id": "view-in-github",
        "colab_type": "text"
      },
      "source": [
        "<a href=\"https://colab.research.google.com/github/artigenius/homeworke/blob/main/exam_work.ipynb\" target=\"_parent\"><img src=\"https://colab.research.google.com/assets/colab-badge.svg\" alt=\"Open In Colab\"/></a>"
      ]
    },
    {
      "cell_type": "markdown",
      "source": [
        "# Импорт библиотек и загрузка данных"
      ],
      "metadata": {
        "id": "5Y1SHnawu0e0"
      }
    },
    {
      "cell_type": "markdown",
      "source": [
        "Загрузка данных"
      ],
      "metadata": {
        "id": "-2moqcC5vKSn"
      }
    },
    {
      "cell_type": "code",
      "source": [
        "!wget https://raw.githubusercontent.com/brunoklein99/deep-learning-notes/master/shakespeare.txt"
      ],
      "metadata": {
        "id": "CCRwrYb6vRxq",
        "colab": {
          "base_uri": "https://localhost:8080/"
        },
        "outputId": "37202db6-a24f-456f-c639-899ac7e03133"
      },
      "execution_count": null,
      "outputs": [
        {
          "output_type": "stream",
          "name": "stdout",
          "text": [
            "--2023-12-25 15:14:58--  https://raw.githubusercontent.com/brunoklein99/deep-learning-notes/master/shakespeare.txt\n",
            "Resolving raw.githubusercontent.com (raw.githubusercontent.com)... 185.199.108.133, 185.199.111.133, 185.199.109.133, ...\n",
            "Connecting to raw.githubusercontent.com (raw.githubusercontent.com)|185.199.108.133|:443... connected.\n",
            "HTTP request sent, awaiting response... 200 OK\n",
            "Length: 94275 (92K) [text/plain]\n",
            "Saving to: ‘shakespeare.txt’\n",
            "\n",
            "\rshakespeare.txt       0%[                    ]       0  --.-KB/s               \rshakespeare.txt     100%[===================>]  92.07K  --.-KB/s    in 0.002s  \n",
            "\n",
            "2023-12-25 15:14:58 (42.6 MB/s) - ‘shakespeare.txt’ saved [94275/94275]\n",
            "\n"
          ]
        }
      ]
    },
    {
      "cell_type": "markdown",
      "source": [
        "Импорт библиотек"
      ],
      "metadata": {
        "id": "yOG5HhETvaVW"
      }
    },
    {
      "cell_type": "code",
      "source": [
        "import nltk\n",
        "from nltk.corpus import stopwords\n",
        "from nltk.tokenize import word_tokenize\n",
        "from collections import Counter\n",
        "\n",
        "nltk.download('stopwords')\n",
        "nltk.download('punkt')"
      ],
      "metadata": {
        "id": "WEw4jS1QvZnj",
        "colab": {
          "base_uri": "https://localhost:8080/"
        },
        "outputId": "ea270a16-3b70-4875-d811-ef776be88560"
      },
      "execution_count": null,
      "outputs": [
        {
          "output_type": "stream",
          "name": "stderr",
          "text": [
            "[nltk_data] Downloading package stopwords to /root/nltk_data...\n",
            "[nltk_data]   Package stopwords is already up-to-date!\n",
            "[nltk_data] Downloading package punkt to /root/nltk_data...\n",
            "[nltk_data]   Package punkt is already up-to-date!\n"
          ]
        },
        {
          "output_type": "execute_result",
          "data": {
            "text/plain": [
              "True"
            ]
          },
          "metadata": {},
          "execution_count": 21
        }
      ]
    },
    {
      "cell_type": "markdown",
      "source": [
        "# Экзаменационное задание"
      ],
      "metadata": {
        "id": "SZmaaWA9wCbq"
      }
    },
    {
      "cell_type": "code",
      "source": [
        "def open_file(file_path):\n",
        "  with open('shakespeare.txt') as file:\n",
        "    text = file.read()\n",
        "  return text\n",
        "\n",
        "text = open_file('/content/shakespeare.txt')"
      ],
      "metadata": {
        "id": "Mz5pTfVFyPbA"
      },
      "execution_count": null,
      "outputs": []
    },
    {
      "cell_type": "code",
      "source": [
        "def tokenize_text(text):\n",
        "  tokens = word_tokenize(text) # токенизируем текст с помощью nltk\n",
        "  tokens = [word.lower() for word in tokens if word.isalpha()] # с помощью метода .isalpha приводим слова к нижнему регистру и удаляет пунктуацию\n",
        "  return tokens\n",
        "\n",
        "cleaned_text = tokenize_text(text)\n",
        "cleaned_text"
      ],
      "metadata": {
        "id": "T0fdBwxyrIXM"
      },
      "execution_count": null,
      "outputs": []
    },
    {
      "cell_type": "code",
      "source": [
        "def remove_stopwords(tokens):\n",
        "  stop_words = set(stopwords.words('english')) # создаем библиотеку стоп-слов\n",
        "  tokens_cleaned = [i for i in tokens if i.lower() not in stop_words] # проверяем каждое слово на его наличие в библиотеке стоп-слов, если нет - оставляем\n",
        "  return tokens_cleaned\n",
        "\n",
        "very_clean_text = remove_stopwords(cleaned_text)\n",
        "very_clean_text"
      ],
      "metadata": {
        "id": "mc1E1lQByLqU"
      },
      "execution_count": null,
      "outputs": []
    },
    {
      "cell_type": "code",
      "source": [
        "def word_frequency_analysis(file_path, n=5):\n",
        "    text = open_file(file_path) # открываем и читаем файл\n",
        "    tokens = tokenize_text(text) # токенизируем текст\n",
        "    very_clean_text = remove_stopwords(tokens) # удаляем из него все стоп-слова\n",
        "    word_freq = Counter(very_clean_text) # с помощью Counter подсчитываем частоту повторения каждого слова\n",
        "    freq_words = word_freq.most_common(n) # выводим n самых частотных слов, по умолчанию 5\n",
        "    return freq_words"
      ],
      "metadata": {
        "id": "2xEZ1YCazlJq"
      },
      "execution_count": 64,
      "outputs": []
    },
    {
      "cell_type": "code",
      "source": [
        "file_path = 'shakespeare.txt'\n",
        "print('Частотный словарь: ')\n",
        "for word, frequency in word_frequency_analysis(file_path):\n",
        "  print(f'{word}: {frequency}')"
      ],
      "metadata": {
        "id": "BZQ_ThBCzjdw",
        "colab": {
          "base_uri": "https://localhost:8080/"
        },
        "outputId": "b128d227-17dc-4795-cb4a-8dffcbe5f4ab"
      },
      "execution_count": 69,
      "outputs": [
        {
          "output_type": "stream",
          "name": "stdout",
          "text": [
            "Частотный словарь: \n",
            "thy: 287\n",
            "thou: 234\n",
            "love: 188\n",
            "thee: 162\n",
            "doth: 88\n"
          ]
        }
      ]
    },
    {
      "cell_type": "markdown",
      "source": [
        "Виктория Игоревна, я была неуверена в работе каждого модуля, поэтому вызывала их на протяжении всего кода. К счастью, все заработало :)"
      ],
      "metadata": {
        "id": "uDx-Jg5EvI6l"
      }
    }
  ]
}