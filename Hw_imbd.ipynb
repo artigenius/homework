{
  "cells": [
    {
      "cell_type": "code",
      "execution_count": null,
      "metadata": {
        "id": "awUPnZYZfWDK"
      },
      "outputs": [],
      "source": [
        "!pip install cinemagoer"
      ]
    },
    {
      "cell_type": "code",
      "execution_count": null,
      "metadata": {
        "id": "bt307Xznef2-"
      },
      "outputs": [],
      "source": [
        "from imdb import Cinemagoer\n",
        "\n",
        "\n",
        "ia = Cinemagoer()\n",
        "\n",
        "movie = ia.get_movie('6911608')\n",
        "\n",
        "sorted(movie.keys())\n"
      ]
    },
    {
      "cell_type": "code",
      "execution_count": null,
      "metadata": {
        "id": "AcPC-SZ7feNc"
      },
      "outputs": [],
      "source": [
        "actors_list = []\n",
        "for actor in movie['cast']:\n",
        "  actors_list.append(actor['name'])\n",
        "actors_list[:5]"
      ]
    },
    {
      "cell_type": "code",
      "execution_count": null,
      "metadata": {
        "id": "plwETT95f_Q7"
      },
      "outputs": [],
      "source": [
        "people = ia.search_person(actors_list[0])\n",
        "\n",
        "for person in people:\n",
        "  person = ia.get_person(people[0].personID)\n",
        "\n",
        "person.keys()\n",
        "person.items()"
      ]
    },
    {
      "cell_type": "code",
      "execution_count": null,
      "metadata": {
        "id": "XZh-MWaYwmjq"
      },
      "outputs": [],
      "source": [
        "film_list = []\n",
        "for title in person['filmography']['actress']:\n",
        "  temp = title['title']\n",
        "  film_list.append(temp)\n",
        "\n",
        "film_list"
      ]
    },
    {
      "cell_type": "code",
      "execution_count": null,
      "metadata": {
        "id": "hZI6c6dZ3RC5"
      },
      "outputs": [],
      "source": [
        "for title in films[:5]:\n",
        "    film_list = ia.search_movie(title)\n",
        "    film = ia.get_movie(film_list[0].movieID)\n",
        "\n",
        "    film_title = film.get('title')\n",
        "    film_year = film.get('year')\n",
        "    film_languages = film.get('languages')\n",
        "    film_rating = film.get('rating')\n",
        "\n",
        "    print(\"Title:\", film_title)\n",
        "    print(\"Year:\", film_year)\n",
        "    print(\"Languages:\", film_languages)\n",
        "    print(\"Rating:\", film_rating)\n",
        "    print()"
      ]
    },
    {
      "cell_type": "code",
      "execution_count": null,
      "metadata": {
        "id": "fMwaA7KA5Rt3"
      },
      "outputs": [],
      "source": [
        "genres = []\n",
        "\n",
        "for title in films[:5]:\n",
        "  film_list = ia.search_movie(title)\n",
        "  film = ia.get_movie(film_list[0].movieID)\n",
        "  temp = film['genres'][0]\n",
        "  genres.append(temp)\n",
        "\n",
        "genres = set(genres)"
      ]
    },
    {
      "cell_type": "code",
      "execution_count": null,
      "metadata": {
        "id": "XvGMY8TIm6oE"
      },
      "outputs": [],
      "source": [
        "actress = dict()\n",
        "actress['films'] = film_list[:5]\n",
        "actress['genres'] = genres\n",
        "actress"
      ]
    },
    {
      "cell_type": "code",
      "execution_count": null,
      "metadata": {
        "id": "E5Zt75fh6c1o"
      },
      "outputs": [],
      "source": [
        "temp = dict()\n",
        "temp[person['canonical name']] = actress\n",
        "temp[person['canonical name']]['films'] = []\n",
        "\n",
        "for title in films[:5]:\n",
        "    film_list = ia.search_movie(title)\n",
        "    film = ia.get_movie(film_list[0].movieID)\n",
        "    temp[person['canonical name']]['films'].append({\n",
        "        'title': film.get('title'),\n",
        "        'genres': film.get('genres', []),\n",
        "        'year': film.get('year'),\n",
        "        'languages': film.get('languages', []),\n",
        "        'rating': film.get('rating')\n",
        "    })\n",
        "\n",
        "temp"
      ]
    },
    {
      "cell_type": "code",
      "execution_count": null,
      "metadata": {
        "colab": {
          "base_uri": "https://localhost:8080/"
        },
        "id": "aVaEQaP_iW0V",
        "outputId": "2560a3e8-effa-463a-c309-b223d2693326"
      },
      "outputs": [
        {
          "data": {
            "text/plain": [
              "[{'Seyfried, Amanda': {'films': [{'title': \"My Ex-Friend's Wedding\",\n",
              "     'genres': ['Comedy'],\n",
              "     'year': 2024,\n",
              "     'languages': [],\n",
              "     'rating': None},\n",
              "    {'title': 'Seven Veils',\n",
              "     'genres': ['Drama'],\n",
              "     'year': 2023,\n",
              "     'languages': ['English'],\n",
              "     'rating': 7.5},\n",
              "    {'title': 'The Crowded Room',\n",
              "     'genres': ['Biography', 'Crime', 'Drama', 'Mystery', 'Thriller'],\n",
              "     'year': 2023,\n",
              "     'languages': ['English'],\n",
              "     'rating': 7.6},\n",
              "    {'title': 'Skin & Bone',\n",
              "     'genres': ['Short', 'Fantasy', 'Horror', 'Thriller'],\n",
              "     'year': 2022,\n",
              "     'languages': [],\n",
              "     'rating': 6.6},\n",
              "    {'title': 'The Dropout',\n",
              "     'genres': ['Biography', 'Drama'],\n",
              "     'year': 2022,\n",
              "     'languages': ['English'],\n",
              "     'rating': 7.5}],\n",
              "   'genres': {'Biography', 'Comedy', 'Drama', 'Short'}}}]"
            ]
          },
          "execution_count": 113,
          "metadata": {},
          "output_type": "execute_result"
        }
      ],
      "source": [
        "cards = []\n",
        "cards.append(temp)\n",
        "\n",
        "cards"
      ]
    },
    {
      "cell_type": "markdown",
      "metadata": {
        "id": "WlE5KhB57w3g"
      },
      "source": [
        "Дальше будет повторяться то же самое, но с попыткой сделать программу для 5 карточек актеров. Повтор идет только с целью не потерять уже написанный код :)"
      ]
    },
    {
      "cell_type": "code",
      "execution_count": 244,
      "metadata": {
        "colab": {
          "base_uri": "https://localhost:8080/"
        },
        "id": "r3_qj2ev8BXl",
        "outputId": "b6facb9a-e9fb-4366-a167-690850576afd"
      },
      "outputs": [
        {
          "output_type": "stream",
          "name": "stdout",
          "text": [
            "Requirement already satisfied: cinemagoer in /usr/local/lib/python3.10/dist-packages (2023.5.1)\n",
            "Requirement already satisfied: SQLAlchemy in /usr/local/lib/python3.10/dist-packages (from cinemagoer) (2.0.22)\n",
            "Requirement already satisfied: lxml in /usr/local/lib/python3.10/dist-packages (from cinemagoer) (4.9.3)\n",
            "Requirement already satisfied: typing-extensions>=4.2.0 in /usr/local/lib/python3.10/dist-packages (from SQLAlchemy->cinemagoer) (4.5.0)\n",
            "Requirement already satisfied: greenlet!=0.4.17 in /usr/local/lib/python3.10/dist-packages (from SQLAlchemy->cinemagoer) (3.0.0)\n"
          ]
        }
      ],
      "source": [
        "!pip install cinemagoer"
      ]
    },
    {
      "cell_type": "code",
      "execution_count": 245,
      "metadata": {
        "colab": {
          "base_uri": "https://localhost:8080/"
        },
        "id": "Q09VgxNe8Ec1",
        "outputId": "4d19b55b-56d1-44f7-f50b-23405198e81f"
      },
      "outputs": [
        {
          "output_type": "execute_result",
          "data": {
            "text/plain": [
              "['akas',\n",
              " 'art department',\n",
              " 'art direction',\n",
              " 'aspect ratio',\n",
              " 'assistant director',\n",
              " 'box office',\n",
              " 'camera and electrical department',\n",
              " 'canonical title',\n",
              " 'cast',\n",
              " 'casting department',\n",
              " 'casting director',\n",
              " 'certificates',\n",
              " 'cinematographer',\n",
              " 'color info',\n",
              " 'composer',\n",
              " 'costume department',\n",
              " 'costume designer',\n",
              " 'countries',\n",
              " 'country codes',\n",
              " 'cover url',\n",
              " 'director',\n",
              " 'distributors',\n",
              " 'editor',\n",
              " 'editorial department',\n",
              " 'full-size cover url',\n",
              " 'genres',\n",
              " 'imdbID',\n",
              " 'kind',\n",
              " 'language codes',\n",
              " 'languages',\n",
              " 'localized title',\n",
              " 'location management',\n",
              " 'long imdb canonical title',\n",
              " 'long imdb title',\n",
              " 'make up',\n",
              " 'miscellaneous crew',\n",
              " 'music department',\n",
              " 'original air date',\n",
              " 'original title',\n",
              " 'other companies',\n",
              " 'plot',\n",
              " 'plot outline',\n",
              " 'producer',\n",
              " 'production companies',\n",
              " 'production design',\n",
              " 'production manager',\n",
              " 'rating',\n",
              " 'runtimes',\n",
              " 'script department',\n",
              " 'set decoration',\n",
              " 'smart canonical title',\n",
              " 'smart long imdb canonical title',\n",
              " 'sound crew',\n",
              " 'sound mix',\n",
              " 'special effects',\n",
              " 'special effects companies',\n",
              " 'stunt performer',\n",
              " 'thanks',\n",
              " 'title',\n",
              " 'transportation department',\n",
              " 'videos',\n",
              " 'visual effects',\n",
              " 'votes',\n",
              " 'writer',\n",
              " 'year']"
            ]
          },
          "metadata": {},
          "execution_count": 245
        }
      ],
      "source": [
        "from imdb import Cinemagoer\n",
        "\n",
        "\n",
        "ia = Cinemagoer()\n",
        "\n",
        "movie = ia.get_movie('6911608')\n",
        "\n",
        "sorted(movie.keys())"
      ]
    },
    {
      "cell_type": "code",
      "execution_count": 246,
      "metadata": {
        "colab": {
          "base_uri": "https://localhost:8080/"
        },
        "id": "adPzec7c8Gw-",
        "outputId": "bf61f80a-2f3f-4cec-cfc4-062806852f6e"
      },
      "outputs": [
        {
          "output_type": "execute_result",
          "data": {
            "text/plain": [
              "['Amanda Seyfried', 'Andy Garcia', 'Celia Imrie', 'Lily James', 'Alexa Davies']"
            ]
          },
          "metadata": {},
          "execution_count": 246
        }
      ],
      "source": [
        "actors_list = []\n",
        "for actor in movie['cast']:\n",
        "  actors_list.append(actor['name'])\n",
        "\n",
        "#actors_list.remove('Andy Garcia') # удаляем актера потому что он мешает актрисам\n",
        "actors_list[:5]"
      ]
    },
    {
      "cell_type": "code",
      "execution_count": 255,
      "metadata": {
        "colab": {
          "base_uri": "https://localhost:8080/"
        },
        "id": "DHEP0SEB8JvF",
        "outputId": "bdab5725-9683-48bc-95bf-5c86fcf40d98"
      },
      "outputs": [
        {
          "output_type": "stream",
          "name": "stdout",
          "text": [
            "['headshot', 'imdbID', 'name', 'imdbIndex', 'filmography', 'canonical name', 'long imdb name', 'long imdb canonical name', 'full-size headshot']\n",
            "[('headshot', 'https://m.media-amazon.com/images/M/MV5BZjE2M2M3NDUtNDhhZC00MTU4LTg2NmUtYzZkZmYyYWFlY2U4XkEyXkFqcGdeQXVyMzQ0NTk5NzU@._V1_QL75_UY207_CR6,0,140,207_.jpg'), ('imdbID', '1086543'), ('name', 'Amanda Seyfried'), ('imdbIndex', 'I'), ('filmography', {'actress': [<Movie id:27002073[http] title:_My Ex-Friend's Wedding (2024)_>, <Movie id:26671415[http] title:_Seven Veils (2023)_>, <Movie id:14417718[http] title:_The Crowded Room (2023)_>, <Movie id:20783516[http] title:_Skin & Bone (2022)_>, <Movie id:10166622[http] title:_The Dropout (2022)_>, <Movie id:10925852[http] title:_A Mouthful of Air (2021)_>, <Movie id:12998214[http] title:_Birdwatching (None)_>, <Movie id:10962368[http] title:_Things Heard & Seen (2021)_>, <Movie id:10618286[http] title:_Mank (2020)_>, <Movie id:8201852[http] title:_You Should Have Left (2020)_>, <Movie id:3152592[http] title:_Scoob! (2020)_>, <Movie id:1478839[http] title:_The Art of Racing in the Rain (2019)_>, <Movie id:9578128[http] title:_When You Wish Upon a Pickle: A Sesame Street Special (2018)_>, <Movie id:8499702[http] title:_Holy Moses (2018)_>, <Movie id:6911608[http] title:_Mamma Mia! Here We Go Again (2018)_>, <Movie id:5397194[http] title:_Anon (None)_>, <Movie id:3721964[http] title:_Gringo (2018)_>, <Movie id:0182576[http] title:_Family Guy (2018)_>, <Movie id:6053438[http] title:_First Reformed (2017)_>, <Movie id:4093826[http] title:_Twin Peaks (2017)_>, <Movie id:5461956[http] title:_The Clapper (None)_>, <Movie id:5023260[http] title:_The Last Word (2017)_>, <Movie id:7452878[http] title:_Found Narratives (2016)_>, <Movie id:2279339[http] title:_Love the Coopers (2015)_>, <Movie id:2582502[http] title:_Fathers & Daughters (2015)_>, <Movie id:3332064[http] title:_Pan (2015)_>, <Movie id:2637276[http] title:_Ted 2 (2015)_>, <Movie id:1791682[http] title:_While We're Young (2014)_>, <Movie id:3137726[http] title:_Dog Food (2014)_>, <Movie id:2557490[http] title:_A Million Ways to Die in the West (2014)_>, <Movie id:2395695[http] title:_Cosmos: A Spacetime Odyssey (2014)_>, <Movie id:0848537[http] title:_Epic (2013)_>, <Movie id:1931435[http] title:_The Big Wedding (2013)_>, <Movie id:1426329[http] title:_Lovelace (2013)_>, <Movie id:1707386[http] title:_Les Misérables (2012)_>, <Movie id:1838544[http] title:_Gone (None)_>, <Movie id:2673194[http] title:_The Minutes (2012)_>, <Movie id:1827578[http] title:_The End of Love (2012)_>, <Movie id:1637688[http] title:_In Time (2011)_>, <Movie id:0421030[http] title:_Big Love (2011) (2006)_>, <Movie id:1509787[http] title:_A Bag of Hammers (2011)_>, <Movie id:1486185[http] title:_Red Riding Hood (2011)_>, <Movie id:0892318[http] title:_Letters to Juliet (2010)_>, <Movie id:0989757[http] title:_Dear John (None)_>, <Movie id:1352824[http] title:_Chloe (2009)_>, <Movie id:1131734[http] title:_Jennifer's Body (2009)_>, <Movie id:1134664[http] title:_Boogie Woogie (2009)_>, <Movie id:0397306[http] title:_American Dad! (2008)_>, <Movie id:1267394[http] title:_Official Selection (2008)_>, <Movie id:0795421[http] title:_Mamma Mia! (2008)_>, <Movie id:0473267[http] title:_Solstice (None)_>, <Movie id:3513484[http] title:_Narrative Directing Sample (2006)_>, <Movie id:0759482[http] title:_Justice (2006)_>, <Movie id:0807842[http] title:_Gypsies, Tramps & Thieves (2006)_>, <Movie id:0412253[http] title:_Veronica Mars (2006) (2004)_>, <Movie id:0247082[http] title:_CSI: Crime Scene Investigation (2006)_>, <Movie id:0439879[http] title:_Wildfire (2006)_>, <Movie id:0426883[http] title:_Alpha Dog (2006)_>, <Movie id:0416471[http] title:_American Gun (2005)_>, <Movie id:0412142[http] title:_House (2005)_>, <Movie id:0420015[http] title:_Nine Lives (2005)_>, <Movie id:0203259[http] title:_Law & Order: Special Victims Unit (2004)_>, <Movie id:0377092[http] title:_Mean Girls (2004)_>, <Movie id:0065272[http] title:_All My Children (2003)_>, <Movie id:0048845[http] title:_As the World Turns (2001) (1999)_>], 'producer': [<Movie id:20783516[http] title:_Skin & Bone (2022)_>, <Movie id:10166622[http] title:_The Dropout (2022)_>, <Movie id:10925852[http] title:_A Mouthful of Air (2021)_>, <Movie id:5023260[http] title:_The Last Word (2017)_>, <Movie id:1426329[http] title:_Lovelace (2013)_>], 'soundtrack': [<Movie id:3444938[http] title:_The Tonight Show Starring Jimmy Fallon (2021) (2018)_>, <Movie id:11692720[http] title:_Comic Relief: Mamma Mia! Here We Go Yet Again (2019)_>, <Movie id:3498954[http] title:_Everything Wrong with... (2019) (2018)_>, <Movie id:12916576[http] title:_Diminishing Returns (2018)_>, <Movie id:6911608[http] title:_Mamma Mia! Here We Go Again (2018)_>, <Movie id:2637276[http] title:_Ted 2 (2015)_>, <Movie id:1635327[http] title:_Nostalgia Critic (2015)_>, <Movie id:2461862[http] title:_The Oscars (2013)_>, <Movie id:1707386[http] title:_Les Misérables (2012)_>, <Movie id:2184336[http] title:_The 66th Annual Tony Awards (2012)_>, <Movie id:0989757[http] title:_Dear John (None)_>, <Movie id:1219288[http] title:_The 81st Annual Academy Awards (2009)_>, <Movie id:0421030[http] title:_Big Love (2009)_>, <Movie id:0795421[http] title:_Mamma Mia! (2008)_>, <Movie id:0412253[http] title:_Veronica Mars (2005)_>, <Movie id:0377092[http] title:_Mean Girls (2004)_>], 'thanks': [<Movie id:1602098[http] title:_Albert Nobbs (2011)_>], 'self': [<Movie id:0081857[http] title:_Entertainment Tonight (2023) (2008)_>, <Movie id:0167515[http] title:_Access Hollywood (2023) (2018)_>, <Movie id:0096636[http] title:_Live with Kelly and Mark (2023) (2013)_>, <Movie id:0072506[http] title:_Good Morning America (2023) (2021)_>, <Movie id:0044298[http] title:_Today (2023) (2014)_>, <Movie id:27515193[http] title:_Lancome: La Vie Est Belle (2023)_>, <Movie id:22092328[http] title:_The 29th Annual Screen Actors Guild Awards (2023)_>, <Movie id:21329444[http] title:_The 28th Annual Critics' Choice Awards (2023)_>, <Movie id:19394840[http] title:_The 74th Primetime Emmy Awards (2022)_>, <Movie id:15741658[http] title:_The Late Show Pod Show with Stephen Colbert (2022)_>, <Movie id:3697842[http] title:_The Late Show with Stephen Colbert (2022) (2019)_>, <Movie id:4267324[http] title:_Variety Studio: Actors on Actors (2022) (2021)_>, <Movie id:3444938[http] title:_The Tonight Show Starring Jimmy Fallon (2022) (2014)_>, <Movie id:9022950[http] title:_The Kelly Clarkson Show (2022) (2021)_>, <Movie id:0482346[http] title:_Entertainment Tonight Canada (2022)_>, <Movie id:8596744[http] title:_IMDb on the Scene - Interviews (2022)_>, <Movie id:3513388[http] title:_Late Night with Seth Meyers (2022) (2015)_>, <Movie id:0320037[http] title:_Jimmy Kimmel Live! (2022) (2011)_>, <Movie id:0911896[http] title:_Made in Hollywood (2021) (2010)_>, <Movie id:0379623[http] title:_The Ellen DeGeneres Show (2021) (2012)_>, <Movie id:1973047[http] title:_Dish Nation (2021)_>, <Movie id:0247094[http] title:_Extra (2021) (2020)_>, <Movie id:8638066[http] title:_Hollywood Insider (2021)_>, <Movie id:14477048[http] title:_Oscars: Into the Spotlight (2021)_>, <Movie id:10471902[http] title:_The Oscars (2021)_>, <Movie id:5106590[http] title:_IMDb Originals (2021)_>, <Movie id:14657566[http] title:_Sunday Sitdown with Willie Geist (2021)_>, <Movie id:8005764[http] title:_Sunday Today with Willie Geist (2021)_>, <Movie id:15590984[http] title:_Talk Easy with Sam Fragoso (2021)_>, <Movie id:14739860[http] title:_The Jess Cagle Podcast with Julia Cunningham (2021)_>, <Movie id:11589622[http] title:_2021 Golden Globe Awards (2021)_>, <Movie id:1811179[http] title:_Penn & Teller: Fool Us (2021)_>, <Movie id:16852598[http] title:_The Big Picture (2021)_>, <Movie id:1740718[http] title:_The Talk (2020)_>, <Movie id:0924651[http] title:_The Graham Norton Show (2020)_>, <Movie id:0390699[http] title:_Días de cine (2020) (2011)_>, <Movie id:13210296[http] title:_Mean Girls Reunion (2020)_>, <Movie id:6587354[http] title:_Hollywood First Look (2020)_>, <Movie id:0181261[http] title:_This Morning (2020) (2013)_>, <Movie id:9358842[http] title:_34th Film Independent Spirit Awards (2019)_>, <Movie id:8722360[http] title:_Meet the Film Makers: Mamma Mia! Here We Go Again (2018)_>, <Movie id:13600254[http] title:_Discernment: Contemplating 'First Reformed' (2018)_>, <Movie id:0381753[http] title:_Fantastic (2018)_>, <Movie id:0380100[http] title:_Dagsrevyen (2018)_>, <Movie id:3503424[http] title:_Celebrity Page (2018)_>, <Movie id:0844203[http] title:_The One Show (2018)_>, <Movie id:8847388[http] title:_Mamma Mia! Here We Go Again: HBO First Look (2018)_>, <Movie id:7635548[http] title:_33rd Film Independent Spirit Awards (2018)_>, <Movie id:21622374[http] title:_Informed Pregnancy Podcast (2017)_>, <Movie id:3884604[http] title:_Hollywood Today Live (2017)_>, <Movie id:5139360[http] title:_WGN Morning News (2017)_>, <Movie id:0430836[http] title:_The Insider (2017)_>, <Movie id:6691578[http] title:_5 Steps to Living Life to the Fullest (2016)_>, <Movie id:4044248[http] title:_The Fashion Fund (2016)_>, <Movie id:2576350[http] title:_Celebrity Style Story (2016)_>, <Movie id:3612488[http] title:_The Noite com Danilo Gentili (2015)_>, <Movie id:2049636[http] title:_Unity (2015)_>, <Movie id:0115383[http] title:_TFI Friday (2015)_>, <Movie id:5615488[http] title:_Live from the Red Carpet: The 2015 Tony Awards (2015)_>, <Movie id:4815396[http] title:_The 69th Annual Tony Awards (2015)_>, <Movie id:0123366[http] title:_The View (2015) (2008)_>, <Movie id:0115147[http] title:_The Daily Show (2015)_>, <Movie id:8361392[http] title:_Behind Lovelace (2014)_>, <Movie id:1468760[http] title:_Alan Carr: Chatty Man (2014)_>, <Movie id:3578774[http] title:_2014 MTV Movie Awards (2014)_>, <Movie id:3312962[http] title:_JT: Reflections (2013)_>, <Movie id:1231460[http] title:_Late Night with Jimmy Fallon (2013) (2010)_>, <Movie id:0106053[http] title:_Late Show with David Letterman (2013) (2010)_>, <Movie id:13645408[http] title:_Beyond the Trailer (2013)_>, <Movie id:2806252[http] title:_2013 MTV Movie Awards (2013)_>, <Movie id:2654656[http] title:_Nickelodeon Kids' Choice Awards 2013 (2013)_>, <Movie id:3665100[http] title:_Some Words to Make a Change (2013)_>, <Movie id:2461862[http] title:_The Oscars (2013)_>, <Movie id:2759310[http] title:_The Oscars Red Carpet Live (2013)_>, <Movie id:0111920[http] title:_Cinema 3 (2013) (2011)_>, <Movie id:2604420[http] title:_70th Golden Globe Awards (2013)_>, <Movie id:2622478[http] title:_18th Annual Critics' Choice Movie Awards (2013)_>, <Movie id:3110888[http] title:_Vivir de cine (2013)_>, <Movie id:1612376[http] title:_Janela Indiscreta (2013) (2010)_>, <Movie id:1172112[http] title:_Mezamashi TV (2012)_>, <Movie id:1637574[http] title:_Conan (2012)_>, <Movie id:1002838[http] title:_Chelsea Lately (2012) (2010)_>, <Movie id:0305109[http] title:_Smap×Smap (2012)_>, <Movie id:2184336[http] title:_The 66th Annual Tony Awards (2012)_>, <Movie id:2049323[http] title:_The Jonathan Ross Show (2012)_>, <Movie id:1489335[http] title:_ES.TV HD (2012)_>, <Movie id:0103569[http] title:_The Tonight Show with Jay Leno (2012) (2010)_>, <Movie id:0870872[http] title:_El hormiguero (2011)_>, <Movie id:21480862[http] title:_La boîte à questions (2011)_>, <Movie id:0426701[http] title:_Le grand journal de Canal+ (2011)_>, <Movie id:2090266[http] title:_Red Band Trailer Hosted by Diablo Cody (2011)_>, <Movie id:2215437[http] title:_Red Riding Hood: Red's Men (2011)_>, <Movie id:0262152[http] title:_Breakfast (2011)_>, <Movie id:1695352[http] title:_Daybreak (2011)_>, <Movie id:6282514[http] title:_The Role That Changed My Life (2011)_>, <Movie id:0498878[http] title:_Attack of the Show! (2011)_>, <Movie id:1434322[http] title:_Up Close with Carrie Keagan (2011)_>, <Movie id:1964876[http] title:_Letters to Juliet: A Courtyard in Verona (2010)_>, <Movie id:1966512[http] title:_Letters to Juliet: The Making of in Italia (2010)_>, <Movie id:1665406[http] title:_2010 MTV Movie Awards (2010)_>, <Movie id:0456031[http] title:_The Hour (2010)_>, <Movie id:1618221[http] title:_Mark at the Movies (2010)_>, <Movie id:7941356[http] title:_The Story of Braeden Reed (2010)_>, <Movie id:0437729[http] title:_The Late Late Show with Craig Ferguson (2010)_>, <Movie id:1509653[http] title:_Live from Studio Five (2010)_>, <Movie id:1016283[http] title:_Xposé (2010)_>, <Movie id:1400986[http] title:_The Rotten Tomatoes Show (2010)_>, <Movie id:1541775[http] title:_The 82nd Annual Academy Awards (2010)_>, <Movie id:1480165[http] title:_The Project (2010)_>, <Movie id:1095213[http] title:_TMZ on TV (2010)_>, <Movie id:1468820[http] title:_2009 Golden Globe Awards Red Carpet Special (2009)_>, <Movie id:1219288[http] title:_The 81st Annual Academy Awards (2009)_>, <Movie id:1297644[http] title:_The Movie Loft (2009)_>, <Movie id:1222814[http] title:_Golden Globe Awards (2009)_>, <Movie id:1525411[http] title:_Mamma Mia: The Making of Mamma Mia (2008)_>, <Movie id:0463399[http] title:_E! True Hollywood Story (2007)_>, <Movie id:0463853[http] title:_2005 MTV Movie Awards (2005)_>, <Movie id:0426832[http] title:_'Mean Girls': Only the Strong Survive (2004)_>, <Movie id:0408467[http] title:_The 30th Annual Daytime Emmy Awards (2003)_>, <Movie id:0421526[http] title:_18th Annual Soap Opera Digest Awards (2003)_>], 'archive footage': [<Movie id:0081857[http] title:_Entertainment Tonight (2023) (2015)_>, <Movie id:12336548[http] title:_The Hollywood Moment at Home Edition (2020)_>, <Movie id:7549864[http] title:_The IMDb Show (2018)_>, <Movie id:3503424[http] title:_Celebrity Page (2018) (2017)_>, <Movie id:0185065[http] title:_Fox and Friends (2017)_>, <Movie id:8884166[http] title:_Ted 2: Deleted Scenes (2015)_>, <Movie id:1002838[http] title:_Chelsea Lately (2014)_>, <Movie id:0430836[http] title:_The Insider (2014)_>, <Movie id:0463397[http] title:_Corazón de... (2013)_>, <Movie id:2894120[http] title:_Flirting with Danger (2012)_>, <Movie id:0911896[http] title:_Made in Hollywood (2012)_>, <Movie id:4684516[http] title:_Mamma Mia: Deleted Scenes (2008)_>, <Movie id:1287498[http] title:_Sexo en serie (2008)_>, <Movie id:0292845[http] title:_Soap Center (2003)_>]}), ('canonical name', 'Seyfried, Amanda'), ('long imdb name', 'Amanda Seyfried (I)'), ('long imdb canonical name', 'Seyfried, Amanda (I)'), ('full-size headshot', 'https://m.media-amazon.com/images/M/MV5BZjE2M2M3NDUtNDhhZC00MTU4LTg2NmUtYzZkZmYyYWFlY2U4XkEyXkFqcGdeQXVyMzQ0NTk5NzU@.jpg')]\n",
            "['headshot', 'imdbID', 'name', 'imdbIndex', 'filmography', 'canonical name', 'long imdb name', 'long imdb canonical name', 'full-size headshot']\n",
            "[('headshot', 'https://m.media-amazon.com/images/M/MV5BMjM3NDA5NTgxNl5BMl5BanBnXkFtZTgwMzU3NDc4NDE@._V1_QL75_UY207_CR13,0,140,207_.jpg'), ('imdbID', '0000412'), ('name', 'Andy Garcia'), ('imdbIndex', 'I'), ('filmography', {'actor': [<Movie id:1405502[http] title:_Hemingway & Fuentes (None)_>, <Movie id:8288048[http] title:_Artist in Residence (None)_>, <Movie id:10036324[http] title:_On Smoother Dirt (None)_>, <Movie id:28445058[http] title:_Land of Grace (None)_>, <Movie id:6142094[http] title:_The Ark: An Iron Sky Story (None)_>, <Movie id:2263648[http] title:_What About Love (2024)_>, <Movie id:15257160[http] title:_Pain Hustlers (2023)_>, <Movie id:3291150[http] title:_Expend4bles (2023)_>, <Movie id:20768712[http] title:_Book Club: The Next Chapter (2023)_>, <Movie id:14866108[http] title:_Miranda's Victim (2023)_>, <Movie id:13249596[http] title:_Father of the Bride (2022)_>, <Movie id:10308878[http] title:_Big Gold Brick (2022)_>, <Movie id:11237708[http] title:_Rebel (2021)_>, <Movie id:11083552[http] title:_Wrath of Man (2021)_>, <Movie id:3797512[http] title:_Barb and Star Go to Vista Del Mar (2021)_>, <Movie id:4439620[http] title:_Redemption Day (2021)_>, <Movie id:4549142[http] title:_Elena of Avalor (2020)_>, <Movie id:8045906[http] title:_Words on Bathroom Walls (2020)_>, <Movie id:10895658[http] title:_Flipped (2020)_>, <Movie id:6865630[http] title:_Ana (None)_>, <Movie id:8543390[http] title:_Modern Love (2019)_>, <Movie id:7736544[http] title:_3Below: Tales of Arcadia (2019) (2018)_>, <Movie id:3813094[http] title:_Headlock (2019)_>, <Movie id:7959026[http] title:_The Mule (2018)_>, <Movie id:1311076[http] title:_My Dinner with Hervé (2018)_>, <Movie id:6911608[http] title:_Mamma Mia! Here We Go Again (2018)_>, <Movie id:6857166[http] title:_Book Club (None)_>, <Movie id:2237324[http] title:_Bent (None)_>, <Movie id:1981128[http] title:_Geostorm (2017)_>, <Movie id:6744198[http] title:_Seven Bucks Digital Studios (2017)_>, <Movie id:1355644[http] title:_Passengers (None)_>, <Movie id:1542768[http] title:_True Memoirs of an International Assassin (2016)_>, <Movie id:1472584[http] title:_Max Steel (2016)_>, <Movie id:2891574[http] title:_Ballers (2016)_>, <Movie id:1289401[http] title:_Ghostbusters (2016)_>, <Movie id:1018501[http] title:_Valley of the Wolves: Ambush (2014)_>, <Movie id:1216491[http] title:_Kill the Messenger (2014)_>, <Movie id:1924435[http] title:_Let's Be Cops (2014)_>, <Movie id:2357291[http] title:_Rio 2 (2014)_>, <Movie id:2481480[http] title:_Rob the Mob (2014)_>, <Movie id:3072182[http] title:_Christmas in Conway (2013)_>, <Movie id:2561882[http] title:_Doll & Em (2013)_>, <Movie id:1483324[http] title:_At Middleton (2013)_>, <Movie id:1922679[http] title:_Open Road (2013)_>, <Movie id:2490142[http] title:_Dora's Royal Rescue (2012)_>, <Movie id:0235917[http] title:_Dora the Explorer (2012)_>, <Movie id:2083379[http] title:_A Dark Truth (2012)_>, <Movie id:1566501[http] title:_Outlaws (2012)_>, <Movie id:0096697[http] title:_The Simpsons (2011)_>, <Movie id:1486193[http] title:_5 Days of War (2011)_>, <Movie id:1663193[http] title:_Across the Line: The Exodus of Charlie Wright (2010)_>, <Movie id:1111918[http] title:_The Line (2009)_>, <Movie id:1174730[http] title:_City Island (2009)_>, <Movie id:0838232[http] title:_The Pink Panther 2 (2009)_>, <Movie id:1153096[http] title:_Tigri di carta (2008)_>, <Movie id:1014775[http] title:_Beverly Hills Chihuahua (2008)_>, <Movie id:0808399[http] title:_New York, I Love You (2008)_>, <Movie id:0496806[http] title:_Ocean's Thirteen (2007)_>, <Movie id:0485851[http] title:_The Air I Breathe (2007)_>, <Movie id:0475394[http] title:_Smokin' Aces (2006)_>, <Movie id:0310460[http] title:_George Lopez (2006)_>, <Movie id:0421384[http] title:_The Valley of the Wolves (2005)_>, <Movie id:0343996[http] title:_The Lost City (2005)_>, <Movie id:0349903[http] title:_Ocean's Twelve (2004)_>, <Movie id:0367188[http] title:_Modigliani (2004)_>, <Movie id:0368836[http] title:_The Lazarus Child (2004)_>, <Movie id:0315297[http] title:_Twisted (None)_>, <Movie id:0248124[http] title:_Just Like Mona (2003)_>, <Movie id:0397800[http] title:_JoJo's Circus (2003)_>, <Movie id:0310910[http] title:_Confidence (2003)_>, <Movie id:0157246[http] title:_Will & Grace (2003)_>, <Movie id:0106004[http] title:_Frasier (2001)_>, <Movie id:0240772[http] title:_Ocean's Eleven (2001)_>, <Movie id:0265307[http] title:_The Man from Elysian Fields (2001)_>, <Movie id:0258967[http] title:_The Unsaid (2001)_>, <Movie id:0236285[http] title:_For Love or Country: The Arturo Sandoval Story (2000)_>, <Movie id:0210149[http] title:_Lakeboat (2000)_>, <Movie id:0181040[http] title:_Swing Vote (1999)_>, <Movie id:0123221[http] title:_Just the Ticket (1998)_>, <Movie id:0118966[http] title:_Desperate Measures (1998)_>, <Movie id:0119311[http] title:_Hoodlum (1997)_>, <Movie id:0117106[http] title:_Death in Granada (1996)_>, <Movie id:0119783[http] title:_Night Falls on Manhattan (1996)_>, <Movie id:0114536[http] title:_Steal Big Steal Little (1995)_>, <Movie id:0114660[http] title:_Things to Do in Denver When You're Dead (1995)_>, <Movie id:0111693[http] title:_When a Man Loves a Woman (1994)_>, <Movie id:10474154[http] title:_Gloria Estefan: I See Your Smile (1993)_>, <Movie id:0104549[http] title:_Jennifer 8 (1992)_>, <Movie id:0104412[http] title:_Hero (None)_>, <Movie id:0101669[http] title:_Dead Again (1991)_>, <Movie id:0099674[http] title:_The Godfather Part III (1990)_>, <Movie id:0100606[http] title:_A Show of Force (1990)_>, <Movie id:0099850[http] title:_Internal Affairs (1990)_>, <Movie id:0096933[http] title:_Black Rain (1989)_>, <Movie id:0094885[http] title:_Blood Money (1988)_>, <Movie id:0094644[http] title:_American Roulette (1988)_>, <Movie id:0094027[http] title:_Stand and Deliver (1988)_>, <Movie id:0094226[http] title:_The Untouchables (1987)_>, <Movie id:0090568[http] title:_8 Million Ways to Die (1986)_>, <Movie id:0088520[http] title:_Foley Square (1986)_>, <Movie id:0088476[http] title:_Alfred Hitchcock Presents (1985)_>, <Movie id:0089572[http] title:_The Mean Season (1985)_>, <Movie id:0086677[http] title:_Brothers (1984)_>, <Movie id:0086765[http] title:_Murder, She Wrote (1984)_>, <Movie id:0081873[http] title:_Hill Street Blues (1984) (1981)_>, <Movie id:0087635[http] title:_The Lonely Guy (1984)_>, <Movie id:0086011[http] title:_A Night in Heaven (1983)_>, <Movie id:0079246[http] title:_Guaguasi (1983)_>, <Movie id:0085016[http] title:_For Love and Honor (1983)_>, <Movie id:0085254[http] title:_Blue Skies Again (1983)_>, <Movie id:0078562[http] title:_Archie Bunker's Place (1979)_>, <Movie id:0264317[http] title:_¿Qué pasa, U.S.A.? (1978)_>], 'producer': [<Movie id:1405502[http] title:_Hemingway & Fuentes (None)_>, <Movie id:13249596[http] title:_Father of the Bride (2022)_>, <Movie id:9180480[http] title:_Miss Angela (2021)_>, <Movie id:8205900[http] title:_Santurce (2019)_>, <Movie id:1483324[http] title:_At Middleton (2013)_>, <Movie id:2083379[http] title:_A Dark Truth (2012)_>, <Movie id:1466058[http] title:_Magic City Memoirs (2011)_>, <Movie id:0364151[http] title:_American Masters (2010)_>, <Movie id:1174730[http] title:_City Island (2009)_>, <Movie id:1209312[http] title:_Cachao: Uno Mas (2008)_>, <Movie id:0343996[http] title:_The Lost City (2005)_>, <Movie id:0367188[http] title:_Modigliani (2004)_>, <Movie id:0265307[http] title:_The Man from Elysian Fields (2001)_>, <Movie id:0258967[http] title:_The Unsaid (2001)_>, <Movie id:0236285[http] title:_For Love or Country: The Arturo Sandoval Story (2000)_>, <Movie id:0181040[http] title:_Swing Vote (1999)_>, <Movie id:0123221[http] title:_Just the Ticket (1998)_>, <Movie id:0106501[http] title:_Cachao... Como Su Ritmo No Hay Dos (1993)_>], 'director': [<Movie id:1405502[http] title:_Hemingway & Fuentes (None)_>, <Movie id:0368479[http] title:_Cold Case (2007)_>, <Movie id:0310460[http] title:_George Lopez (2007)_>, <Movie id:0343996[http] title:_The Lost City (2005)_>, <Movie id:0484378[http] title:_¡Ahora sí! (2003)_>, <Movie id:0395683[http] title:_Nuestra Navidad 2003 (2003)_>, <Movie id:0106501[http] title:_Cachao... Como Su Ritmo No Hay Dos (1993)_>], 'soundtrack': [<Movie id:13249596[http] title:_Father of the Bride (2022)_>, <Movie id:10308878[http] title:_Big Gold Brick (2022)_>, <Movie id:12916576[http] title:_Diminishing Returns (2018)_>, <Movie id:6911608[http] title:_Mamma Mia! Here We Go Again (2018)_>, <Movie id:2357291[http] title:_Rio 2 (2014)_>, <Movie id:1483324[http] title:_At Middleton (2013)_>, <Movie id:0343996[http] title:_The Lost City (2005)_>, <Movie id:0349903[http] title:_Ocean's Twelve (2004)_>, <Movie id:0123221[http] title:_Just the Ticket (1998)_>, <Movie id:0114536[http] title:_Steal Big Steal Little (1995)_>, <Movie id:0105807[http] title:_When the Party's Over (1992)_>], 'music department': [<Movie id:0343996[http] title:_The Lost City (2005)_>, <Movie id:0117106[http] title:_Death in Granada (1996)_>], 'writer': [<Movie id:1405502[http] title:_Hemingway & Fuentes (None)_>], 'composer': [<Movie id:0343996[http] title:_The Lost City (2005)_>], 'thanks': [<Movie id:15382078[http] title:_End of the Road (None)_>, <Movie id:3284166[http] title:_Tomas Milian: Acting on Instinct (2013)_>, <Movie id:6274698[http] title:_Behind the Truth (2013)_>, <Movie id:1508274[http] title:_George Lopez: Tall, Dark & Chicano (2009)_>, <Movie id:1148297[http] title:_Smokin' Aces: The Big Gun (2007)_>, <Movie id:0975673[http] title:_George Lopez: America's Mexican (2007)_>, <Movie id:3622818[http] title:_Out There with Melissa DiMarco (2006)_>, <Movie id:0428682[http] title:_The Inspectors: Clues to the Crime (2004)_>, <Movie id:1013685[http] title:_Poetry, Passion, the Postman: The Poetic Return of Pablo Neruda (1996)_>, <Movie id:0101961[http] title:_The Godfather Family: A Look Inside (1990)_>], 'self': [<Movie id:2825202[http] title:_King Cake: The New Orleans Mardi Gras Story (2023)_>, <Movie id:19316410[http] title:_Who's Talking to Chris Wallace (2023)_>, <Movie id:0167515[http] title:_Access Hollywood (2023)_>, <Movie id:22498916[http] title:_Sean Connery vs James Bond (2022)_>, <Movie id:6484074[http] title:_Legacy: The True Story of the LA Lakers (2022)_>, <Movie id:25969826[http] title:_Watch What Happens Live with Andy Cohen (2022)_>, <Movie id:2057880[http] title:_Watch What Happens Live with Andy Cohen (2022)_>, <Movie id:1740718[http] title:_The Talk (2022) (2018)_>, <Movie id:0096636[http] title:_Live with Kelly and Mark (2022)_>, <Movie id:0044298[http] title:_Today (2022) (1989)_>, <Movie id:0081857[http] title:_Entertainment Tonight (2022) (2008)_>, <Movie id:2835562[http] title:_The Morning Show (2022)_>, <Movie id:0911896[http] title:_Made in Hollywood (2022) (2010)_>, <Movie id:12690356[http] title:_GMA3: What You Need to Know (2022)_>, <Movie id:12058860[http] title:_WTF with Marc Maron (2022)_>, <Movie id:9180480[http] title:_Miss Angela (2021)_>, <Movie id:15560488[http] title:_Clint Eastwood: A Cinematic Legacy (2021)_>, <Movie id:8638066[http] title:_Hollywood Insider (2021)_>, <Movie id:0072506[http] title:_Good Morning America (2021) (1989)_>, <Movie id:0320037[http] title:_Jimmy Kimmel Live! (2021) (2005)_>, <Movie id:7391454[http] title:_Arturo Sandoval: Journey to a Dream (2020)_>, <Movie id:10214696[http] title:_E poi c'è Cattelan (2020)_>, <Movie id:5161934[http] title:_NBA on ESPN (2020)_>, <Movie id:11428168[http] title:_2019 U.S. Open: Woodland Peaks at Pebble Beach (2019)_>, <Movie id:9310604[http] title:_That Click (2019)_>, <Movie id:0364151[http] title:_American Masters (2019)_>, <Movie id:0390699[http] title:_Días de cine (2019) (1999)_>, <Movie id:9019434[http] title:_Book Club: Casting Book Club (2018)_>, <Movie id:9019474[http] title:_Book Club: Location, Location, Location (2018)_>, <Movie id:0381753[http] title:_Fantastic (2018)_>, <Movie id:8847388[http] title:_Mamma Mia! Here We Go Again: HBO First Look (2018)_>, <Movie id:12713086[http] title:_FOLCS Conversations (2018)_>, <Movie id:0217211[http] title:_Loose Women (2018) (2010)_>, <Movie id:3503424[http] title:_Celebrity Page (2018)_>, <Movie id:4280606[http] title:_The Late Late Show with James Corden (2018)_>, <Movie id:1973047[http] title:_Dish Nation (2018)_>, <Movie id:7901236[http] title:_Nespresso: Comin' Home (2017)_>, <Movie id:6944934[http] title:_8 Million Ways to Die: Andy Garcia (2017)_>, <Movie id:7162074[http] title:_Hollywoods Master Storytellers: Andy Garcia (2017)_>, <Movie id:8300268[http] title:_On the Scene with Lindalee (2016)_>, <Movie id:5129770[http] title:_The 2015 HOLA Awards (2016)_>, <Movie id:0159876[http] title:_Great Performances (2015) (2009)_>, <Movie id:4779366[http] title:_Hard Rock Rising Miami Beach 100th Birthday Music Festival (2015)_>, <Movie id:6272954[http] title:_Kill the Messenger: The All-Star Cast (2015)_>, <Movie id:4171972[http] title:_John Paul II in America: Uniting a Continent (2014)_>, <Movie id:5368216[http] title:_Rotten Tomatoes (2014)_>, <Movie id:1637574[http] title:_Conan (2014)_>, <Movie id:3234862[http] title:_Reel Junkie (2014)_>, <Movie id:2322438[http] title:_Larry King Now (2014)_>, <Movie id:2099467[http] title:_The Queen Latifah Show (2014)_>, <Movie id:11242328[http] title:_Christmas in Conway: A Look Behind the Scenes (2013)_>, <Movie id:2620792[http] title:_Nash (2013)_>, <Movie id:11367568[http] title:_Lee Trevino: An American Champion (2013)_>, <Movie id:6274698[http] title:_Behind the Truth (2013)_>, <Movie id:2081226[http] title:_Cubamerican (2013)_>, <Movie id:2461960[http] title:_2012 ALMA Awards (2012)_>, <Movie id:0437729[http] title:_The Late Late Show with Craig Ferguson (2012) (2006)_>, <Movie id:1674783[http] title:_The Savoy King: Chick Webb & the Music That Changed America (2012)_>, <Movie id:1500570[http] title:_Hannity (2012)_>, <Movie id:2149692[http] title:_Forbidden Voices (2012)_>, <Movie id:2187205[http] title:_WrestleMania XXVIII (2012)_>, <Movie id:1049406[http] title:_Pablo (2012)_>, <Movie id:1987585[http] title:_I Ain't Scared of You: A Tribute to Bernie Mac (2011)_>, <Movie id:0315699[http] title:_Programa do Jô (2011)_>, <Movie id:1833708[http] title:_His Way (2011)_>, <Movie id:1642102[http] title:_In the House with Peter Bart & Peter Guber (2011)_>, <Movie id:1855560[http] title:_Here Comes the Wolf: The Pandemic Hoax (2010)_>, <Movie id:2268730[http] title:_Talk Stoop (2010)_>, <Movie id:1628033[http] title:_Top Gear (2010)_>, <Movie id:0262152[http] title:_Breakfast (2010)_>, <Movie id:1649948[http] title:_The 5 O'Clock Show (2010)_>, <Movie id:5611414[http] title:_Red Carpet Report (2010)_>, <Movie id:3138746[http] title:_Alex Zane's GuestList (2010)_>, <Movie id:0305056[http] title:_Last Call with Carson Daly (2010)_>, <Movie id:1062773[http] title:_Secret's Out (2010)_>, <Movie id:1261356[http] title:_The Wendy Williams Show (2010)_>, <Movie id:0403813[http] title:_Tavis Smiley (2010)_>, <Movie id:1619013[http] title:_25th Film Independent Spirit Awards (2010)_>, <Movie id:15417032[http] title:_Artists for Haiti: Somos el mundo 25 por Haiti (2010)_>, <Movie id:1488098[http] title:_Soul Red: Yusaku Matsuda (2009)_>, <Movie id:1464482[http] title:_The National Parks: America's Best Idea (2009)_>, <Movie id:1297644[http] title:_The Movie Loft (2009)_>, <Movie id:1051944[http] title:_The Morning Show with Mike & Juliet (2009)_>, <Movie id:1334557[http] title:_Samuel L. Jackson: An American Cinematheque Tribute (2008)_>, <Movie id:0312202[http] title:_Seitenblicke (2008)_>, <Movie id:0814046[http] title:_Celia: The Queen (2008)_>, <Movie id:1209312[http] title:_Cachao: Uno Mas (2008)_>, <Movie id:1220876[http] title:_Classical Baby (I'm Grown Up Now): The Poetry Show (2008)_>, <Movie id:1434322[http] title:_Up Close with Carrie Keagan (2008)_>, <Movie id:15441582[http] title:_AFI Life Achievement Award (2007) (2006)_>, <Movie id:1051975[http] title:_2007 ALMA Awards (2007)_>, <Movie id:0318220[http] title:_HBO First Look (2007) (2001)_>, <Movie id:0872065[http] title:_Weekend Sunrise (2007)_>, <Movie id:0478995[http] title:_Class Act (2006)_>, <Movie id:2162641[http] title:_Hollywood's Master Storytellers, Andy Garcia Live (2006)_>, <Movie id:21974286[http] title:_Festival de Cine Global de Santo Domingo (2006)_>, <Movie id:0307787[http] title:_Na plovárne (2006)_>, <Movie id:0905969[http] title:_Black Rain: Making the Film - Part 1 (2006)_>, <Movie id:0905971[http] title:_Black Rain: Post-Production (2006)_>, <Movie id:0905972[http] title:_Black Rain: The Script, the Cast (2006)_>, <Movie id:0782027[http] title:_2006 ALMA Awards (2006)_>, <Movie id:0270116[http] title:_Charlie Rose (2006) (1997)_>, <Movie id:0819123[http] title:_Sacred Waters (2006)_>, <Movie id:0261475[http] title:_Hollywood Greats (2006)_>, <Movie id:0390776[http] title:_Shootout (2006) (2004)_>, <Movie id:0475467[http] title:_Magacine (2005)_>, <Movie id:0473408[http] title:_All-Star Cup 2005 (2005)_>, <Movie id:0445772[http] title:_Tsunami Aid: A Concert of Hope (2005)_>, <Movie id:0443419[http] title:_The 10th Annual Critics' Choice Awards (2005)_>, <Movie id:0429056[http] title:_San Francisco: Scene of the Crime (2004)_>, <Movie id:0396982[http] title:_Dennis Miller (2004)_>, <Movie id:0123366[http] title:_The View (2004)_>, <Movie id:1034056[http] title:_Les nouveaux refus (2004)_>, <Movie id:0320991[http] title:_Tout le monde en parle (2004)_>, <Movie id:0426701[http] title:_Le grand journal de Canal+ (2004)_>, <Movie id:0428436[http] title:_Creating a Twisted Web of Intrigue (2004)_>, <Movie id:0106052[http] title:_Late Night with Conan O'Brien (2004) (1999)_>, <Movie id:0376434[http] title:_Tinseltown TV (2004)_>, <Movie id:0224861[http] title:_The Directors (2003) (1999)_>, <Movie id:0092322[http] title:_Biography (2003)_>, <Movie id:0338587[http] title:_The Caroline Rhea Show (2003)_>, <Movie id:0192906[http] title:_The Late Late Show with Craig Kilborn (2002)_>, <Movie id:0361181[http] title:_Festival Pass with Chris Gore (2002)_>, <Movie id:2170514[http] title:_Gala Paramount Pictures Celebrates 90th Anniversary with 90 Stars for 90 Years (2002)_>, <Movie id:0324947[http] title:_2002 MTV Movie Awards (2002)_>, <Movie id:0324946[http] title:_2002 ALMA Awards (2002)_>, <Movie id:0499177[http] title:_'Ocean's Eleven': The Look of the Con (2002)_>, <Movie id:0875128[http] title:_Jose Marti: Legacy of Freedom (2002)_>, <Movie id:0312304[http] title:_The 2002 IFP/West Independent Spirit Awards (2002)_>, <Movie id:0364916[http] title:_The 59th Annual Golden Globe Awards (2002)_>, <Movie id:0106053[http] title:_Late Show with David Letterman (2001) (1995)_>, <Movie id:0905794[http] title:_Hollywood Profile (2001)_>, <Movie id:0297959[http] title:_I Love Lucy's 50th Anniversary Special (2001)_>, <Movie id:0315113[http] title:_The 53rd Annual Primetime Emmy Awards (2001)_>, <Movie id:0296503[http] title:_America: A Tribute to Heroes (2001)_>, <Movie id:0230234[http] title:_A Galaxy Far, Far Away (2001)_>, <Movie id:0278269[http] title:_The 43rd Annual Grammy Awards (2001)_>, <Movie id:1401892[http] title:_The 58th Annual Golden Globe Awards 2001 (2001)_>, <Movie id:0275796[http] title:_The World Sports Awards (2001)_>, <Movie id:1521185[http] title:_Lux (2000)_>, <Movie id:0115338[http] title:_The Rosie O'Donnell Show (2000) (1997)_>, <Movie id:0295837[http] title:_The 1st Annual Latin Grammy Awards (2000)_>, <Movie id:0343328[http] title:_2000 Blockbuster Entertainment Awards (2000)_>, <Movie id:0169455[http] title:_Inside the Actors Studio (2000)_>, <Movie id:0934362[http] title:_The 27th Annual American Music Awards (2000)_>, <Movie id:1379655[http] title:_A Home for the Holidays (1999)_>, <Movie id:1105292[http] title:_The Peculiar Memories of Bruce Robinson (1999)_>, <Movie id:6708040[http] title:_The Making of 'Things to Do in Denver When You're Dead' (1999)_>, <Movie id:1576469[http] title:_Tarzan in Concert with Phil Collins (1999)_>, <Movie id:0329832[http] title:_Frostrup on Sunday (1999)_>, <Movie id:0241090[http] title:_Caiga quien caiga (1999) (1997)_>, <Movie id:0241097[http] title:_Crónicas marcianas (1999)_>, <Movie id:0266221[http] title:_The 71st Annual Academy Awards (1999)_>, <Movie id:1199429[http] title:_1997 Hispanic Heritage Awards (1997)_>, <Movie id:0958888[http] title:_World's Coolest Bachelors (1997)_>, <Movie id:1038936[http] title:_Osados (1997)_>, <Movie id:0373558[http] title:_Lo + plus (1997)_>, <Movie id:0375308[http] title:_Efecto F (1997)_>, <Movie id:0383787[http] title:_Hoy es posible (1997)_>, <Movie id:1800384[http] title:_54th Golden Globe Awards (1997)_>, <Movie id:1013685[http] title:_Poetry, Passion, the Postman: The Poetic Return of Pablo Neruda (1996)_>, <Movie id:0120986[http] title:_Maury (1996)_>, <Movie id:0830845[http] title:_¿Adiós patria? (1996)_>, <Movie id:0896232[http] title:_Intimate Portrait (1996)_>, <Movie id:0111920[http] title:_Cinema 3 (1996)_>, <Movie id:3279036[http] title:_1996 Blockbuster Entertainment Awards (1996)_>, <Movie id:0289044[http] title:_The 38th Annual Grammy Awards (1996)_>, <Movie id:0167962[http] title:_Gloria Estefan: Everlasting Gloria (1995)_>, <Movie id:0246938[http] title:_Somos un solo pueblo (1995)_>, <Movie id:0185822[http] title:_Showbiz Today (1995)_>, <Movie id:1570361[http] title:_Macy's Thanksgiving Day Parade (1995)_>, <Movie id:6581590[http] title:_Cannes Film Festival (1995)_>, <Movie id:2170668[http] title:_The 1994 Annual Diversity Awards (1994)_>, <Movie id:0103569[http] title:_The Tonight Show with Jay Leno (1994) (1992)_>, <Movie id:1677636[http] title:_The 51st Annual Golden Globe Awards (1994)_>, <Movie id:0106501[http] title:_Cachao... Como Su Ritmo No Hay Dos (1993)_>, <Movie id:0103580[http] title:_The Whoopi Goldberg Show (1993)_>, <Movie id:0083441[http] title:_Late Night with David Letterman (1993)_>, <Movie id:0200358[http] title:_Omnibus (1992)_>, <Movie id:0384193[http] title:_Hurricane Relief (1992)_>, <Movie id:0266218[http] title:_The 63rd Annual Academy Awards (1991)_>, <Movie id:2224475[http] title:_The 6th Annual Independent Spirit Awards (1991)_>, <Movie id:2108622[http] title:_The 43rd Annual Writers Guild Awards (1991)_>, <Movie id:0881176[http] title:_The 48th Annual Golden Globe Awards 1991 (1991)_>, <Movie id:0101961[http] title:_The Godfather Family: A Look Inside (1990)_>, <Movie id:5497892[http] title:_The Untouchables: The Men (1987)_>, <Movie id:0267726[http] title:_The Making of 'The Mean Season' (1985)_>], 'archive footage': [<Movie id:0081857[http] title:_Entertainment Tonight (2022) (2017)_>, <Movie id:12336548[http] title:_The Hollywood Moment at Home Edition (2020)_>, <Movie id:5745106[http] title:_Chroma (2017)_>, <Movie id:6736812[http] title:_The Green Fog (2017)_>, <Movie id:16369126[http] title:_Raphaël Mezrahi - Les inédits mais pas que... (2016)_>, <Movie id:6272974[http] title:_Crack in America (2015)_>, <Movie id:6272988[http] title:_Filming in Georgia (2015)_>, <Movie id:0447759[http] title:_Gente (2013)_>, <Movie id:1600392[http] title:_Behind the Scenes with Joe Carnahan (2010)_>, <Movie id:1111941[http] title:_Premio Donostia a Richard Gere (2007)_>, <Movie id:0475467[http] title:_Magacine (2005)_>, <Movie id:0430727[http] title:_The Untouchables: The Script, the Cast (2004)_>, <Movie id:0403738[http] title:_Celebrities Uncensored (2004)_>, <Movie id:0338817[http] title:_The Bronze Screen: 100 Years of the Latino Image in American Cinema (2001)_>, <Movie id:0150742[http] title:_The Godfather Trilogy: 1901-1980 (1992)_>, <Movie id:0081873[http] title:_Hill Street Blues (1984)_>]}), ('canonical name', 'Garcia, Andy'), ('long imdb name', 'Andy Garcia (I)'), ('long imdb canonical name', 'Garcia, Andy (I)'), ('full-size headshot', 'https://m.media-amazon.com/images/M/MV5BMjM3NDA5NTgxNl5BMl5BanBnXkFtZTgwMzU3NDc4NDE@.jpg')]\n",
            "['headshot', 'imdbID', 'name', 'filmography', 'canonical name', 'long imdb name', 'long imdb canonical name', 'full-size headshot']\n",
            "[('headshot', 'https://m.media-amazon.com/images/M/MV5BOGFiNTNmNTQtODVjZS00YTQ0LWJmZjMtMWFmZTdjNWY0MGEyXkEyXkFqcGdeQXVyNTQ0NDA1OTA@._V1_QL75_UY207_CR11,0,140,207_.jpg'), ('imdbID', '0408309'), ('name', 'Celia Imrie'), ('filmography', {'actress': [<Movie id:4887164[http] title:_Genuine Fakes (None)_>, <Movie id:6115864[http] title:_The Inn at the Edge of the World (None)_>, <Movie id:19887550[http] title:_Good Grief (None)_>, <Movie id:26739027[http] title:_Down, Down, Down (2023)_>, <Movie id:10276482[http] title:_Love Again (None)_>, <Movie id:17491088[http] title:_The Diplomat (2023)_>, <Movie id:27546876[http] title:_Bedtime Stories of the Ingleside Inn (2023)_>, <Movie id:23177868[http] title:_Mummies (2023)_>, <Movie id:14677812[http] title:_Fifty-Four Days (2022)_>, <Movie id:20561114[http] title:_Christmas on Mistletoe Farm (2022)_>, <Movie id:4370596[http] title:_Better Things (2022) (2016)_>, <Movie id:8258926[http] title:_Short Adam (2021)_>, <Movie id:16421260[http] title:_Beauty and the Beast: A Comic Relief Pantomime for Christmas (2021)_>, <Movie id:15665584[http] title:_The Jungle Book: The Mowgli Stories (2021)_>, <Movie id:5378246[http] title:_Louisa: An Amazing Adventure (2021)_>, <Movie id:6658720[http] title:_Keeping Faith (2021) (2020)_>, <Movie id:9448932[http] title:_Love Sarah (2020)_>, <Movie id:10559076[http] title:_After Ever After (2019)_>, <Movie id:6326262[http] title:_One Day Notice (2019)_>, <Movie id:7789396[http] title:_One Evening in June (2018)_>, <Movie id:8094320[http] title:_Nativity Rocks! (2018)_>, <Movie id:2386237[http] title:_Malevolent (None)_>, <Movie id:7411444[http] title:_Hang Ups (2018)_>, <Movie id:6911608[http] title:_Mamma Mia! Here We Go Again (2018)_>, <Movie id:8161190[http] title:_To Provide All People (2018)_>, <Movie id:6586318[http] title:_Patrick Melrose (2018)_>, <Movie id:4538916[http] title:_Finding Your Feet (2017)_>, <Movie id:6572702[http] title:_Monster Family (2017)_>, <Movie id:5851904[http] title:_The Big Bad Fox and Other Tales (2017)_>, <Movie id:4731136[http] title:_A Cure for Wellness (2016)_>, <Movie id:1473832[http] title:_Bridget Jones's Baby (2016)_>, <Movie id:2112096[http] title:_Absolutely Fabulous: The Movie (2016)_>, <Movie id:4532368[http] title:_DC's Legends of Tomorrow (2016)_>, <Movie id:4068586[http] title:_Year by the Sea (2016)_>, <Movie id:2582590[http] title:_Vicious (2015)_>, <Movie id:2445178[http] title:_Molly Moon and the Incredible Book of Hypnotism (2015)_>, <Movie id:2555736[http] title:_The Second Best Exotic Marigold Hotel (2015)_>, <Movie id:4899442[http] title:_What We Did on Our Holiday: Deleted Scenes (2015)_>, <Movie id:3558642[http] title:_Nativity 3: Dude, Where's My Donkey?! (2014)_>, <Movie id:2725962[http] title:_What We Did on Our Holiday (2014)_>, <Movie id:3620824[http] title:_Our Zoo (2014)_>, <Movie id:2211457[http] title:_Blandings (2014)_>, <Movie id:2234261[http] title:_The Love Punch (2013)_>, <Movie id:0406404[http] title:_Coming Up (2013)_>, <Movie id:2974556[http] title:_Love & Marriage (2013)_>, <Movie id:0436992[http] title:_Doctor Who (2013)_>, <Movie id:0874608[http] title:_Inspector Lewis (2012)_>, <Movie id:1869152[http] title:_Titanic (2012)_>, <Movie id:1798657[http] title:_Madame Ida (2012)_>, <Movie id:1601464[http] title:_Acts of Godfrey (2012)_>, <Movie id:2136967[http] title:_Hacks (2012)_>, <Movie id:2074248[http] title:_The Bleak Old Shop of Stuff (2011)_>, <Movie id:1379721[http] title:_My Angel (2011)_>, <Movie id:1412386[http] title:_The Best Exotic Marigold Hotel (2011)_>, <Movie id:1843973[http] title:_Lost Connection (2011)_>, <Movie id:1685518[http] title:_The Road to Coronation Street (2010)_>, <Movie id:1612087[http] title:_The Man Who Married Himself (2010)_>, <Movie id:1182350[http] title:_You Will Meet a Tall Dark Stranger (2010)_>, <Movie id:1527785[http] title:_The Visit (None)_>, <Movie id:0974077[http] title:_Cranford (2009)_>, <Movie id:1210106[http] title:_St Trinian's 2: The Legend of Fritton's Gold (2009)_>, <Movie id:1565402[http] title:_Conversation Piece (2009)_>, <Movie id:0841961[http] title:_Kingdom (2009) (2007)_>, <Movie id:4431288[http] title:_After You've Gone: Deleted Scenes (2008)_>, <Movie id:0927170[http] title:_After You've Gone (2008) (2007)_>, <Movie id:1290411[http] title:_Player (2008)_>, <Movie id:0964587[http] title:_St. Trinian's (2007)_>, <Movie id:0959393[http] title:_The Commander: The Devil You Know (2007)_>, <Movie id:0312895[http] title:_The Last Detective (2007)_>, <Movie id:0154094[http] title:_Where the Heart Is (2006)_>, <Movie id:0094525[http] title:_Poirot (2006)_>, <Movie id:0450235[http] title:_Acorn Antiques: The Musical (2006)_>, <Movie id:7211136[http] title:_Acorn Antiques the Musical: 'Macaroons!' (2006)_>, <Movie id:7211066[http] title:_Acorn Antiques the Musical: 'Tip Top Tap' (2006)_>, <Movie id:7211048[http] title:_Acorn Antiques the Musical: Bo Beaumont - A Short History (2006)_>, <Movie id:7211088[http] title:_Acorn Antiques the Musical: Triplet Trauma (2006)_>, <Movie id:0778760[http] title:_The Lavender List (2006)_>, <Movie id:0396752[http] title:_Nanny McPhee (2005)_>, <Movie id:0421994[http] title:_Imagine Me & You (2005)_>, <Movie id:0419256[http] title:_Wah-Wah (2005)_>, <Movie id:0436608[http] title:_Mr. Harvey Lights a Candle (2005)_>, <Movie id:4142468[http] title:_Calendar Girls: Deleted Scenes (2004)_>, <Movie id:1734537[http] title:_Marple (2004)_>, <Movie id:0317198[http] title:_Bridget Jones: The Edge of Reason (2004)_>, <Movie id:0360201[http] title:_Wimbledon (2004)_>, <Movie id:0758928[http] title:_Reuben Don't Take Your Love to Town (2004)_>, <Movie id:0118363[http] title:_Jonathan Creek (2004)_>, <Movie id:0408381[http] title:_Doc Martin (2004)_>, <Movie id:0215418[http] title:_Hilltop Hospital (2003)_>, <Movie id:0276053[http] title:_Out of Bounds (2003)_>, <Movie id:0337909[http] title:_Calendar Girls (2003)_>, <Movie id:0281491[http] title:_Still Game (2003)_>, <Movie id:0352716[http] title:_The Planman (2003)_>, <Movie id:0324937[http] title:_Doctor Zhivago (2002)_>, <Movie id:0321897[http] title:_Daniel Deronda (2002)_>, <Movie id:0327392[http] title:_A Is for Acid (2002)_>, <Movie id:0324036[http] title:_Sparkhouse (2002)_>, <Movie id:0295303[http] title:_Heartlands (2002)_>, <Movie id:0283054[http] title:_Thunderpants (2002)_>, <Movie id:0314097[http] title:_The Gathering Storm (2002)_>, <Movie id:0101114[http] title:_Heartbeat (2002)_>, <Movie id:0167701[http] title:_Randall & Hopkirk (2001)_>, <Movie id:0105929[http] title:_Absolutely Fabulous (2001) (1995)_>, <Movie id:0278675[http] title:_Revelation (2001)_>, <Movie id:0118401[http] title:_Midsomer Murders (2001)_>, <Movie id:0266994[http] title:_Station Jim (2001)_>, <Movie id:0246134[http] title:_Lucky Break (2001)_>, <Movie id:0243155[http] title:_Bridget Jones's Diary (2001)_>, <Movie id:0187622[http] title:_Baddiel's Syndrome (2001)_>, <Movie id:0278548[http] title:_Love in a Cold Climate (2001)_>, <Movie id:0147760[http] title:_Dalziel and Pascoe (2000)_>, <Movie id:0197154[http] title:_Gormenghast (2000)_>, <Movie id:0161140[http] title:_Dinnerladies (2000) (1998)_>, <Movie id:0214301[http] title:_Wetty Hainthropp Investigates (1999)_>, <Movie id:0216621[http] title:_A Christmas Carol (1999)_>, <Movie id:0120915[http] title:_Star Wars: Episode I - The Phantom Menace (1999)_>, <Movie id:0172025[http] title:_Microsoap (1998)_>, <Movie id:0358517[http] title:_Hiccup (1998)_>, <Movie id:0150915[http] title:_Hilary and Jackie (1998)_>, <Movie id:0142031[http] title:_Duck Patrol (1998)_>, <Movie id:0142671[http] title:_Mr. White Goes to Westminster (1997)_>, <Movie id:0221859[http] title:_The Canterville Ghost (1997)_>, <Movie id:0123351[http] title:_The History of Tom Jones, a Foundling (1997)_>, <Movie id:0118755[http] title:_The Borrowers (1997)_>, <Movie id:0439426[http] title:_Absolutely Fabulous: Absolutely Not! (1997)_>, <Movie id:0126750[http] title:_Into the Blue (None)_>, <Movie id:0118516[http] title:_Wokenwell (1997)_>, <Movie id:0119315[http] title:_Hospital! (1997)_>, <Movie id:0884772[http] title:_Snap (1997)_>, <Movie id:0111750[http] title:_The Writing on the Wall (1996)_>, <Movie id:0288343[http] title:_Black Hearts in Battersea (1996) (1995)_>, <Movie id:0177448[http] title:_Jackanory (1995)_>, <Movie id:0108727[http] title:_Class Act (1995)_>, <Movie id:0113403[http] title:_A Midwinter's Tale (1995)_>, <Movie id:1204217[http] title:_Call up the Stars (1995)_>, <Movie id:0297626[http] title:_Screen Two (1995) (1990)_>, <Movie id:0096555[http] title:_Casualty (1995)_>, <Movie id:0110977[http] title:_The Return of the Native (1994)_>, <Movie id:0109836[http] title:_Frankenstein (1994)_>, <Movie id:0297625[http] title:_Screen One (1994)_>, <Movie id:0293739[http] title:_The Riff Raff Element (1994) (1993)_>, <Movie id:0109541[http] title:_A Dark Adapted Eye (1994)_>, <Movie id:1049304[http] title:_Screenplay (1993)_>, <Movie id:1059847[http] title:_The Brown Man (1993)_>, <Movie id:0155991[http] title:_A Question of Guilt (1993)_>, <Movie id:0105956[http] title:_Bonjour la Classe (1993)_>, <Movie id:0103845[http] title:_Blue Black Permanent (1992)_>, <Movie id:1016029[http] title:_Thacker (1992)_>, <Movie id:0149540[http] title:_Van der Valk (1992)_>, <Movie id:0206000[http] title:_The Harmfulness of Tobacco (1991)_>, <Movie id:0096704[http] title:_Stay Lucky (1991)_>, <Movie id:1778975[http] title:_All Good Things (1991)_>, <Movie id:0101077[http] title:_The Darling Buds of May (1991)_>, <Movie id:1615489[http] title:_4 Play (1991)_>, <Movie id:0090477[http] title:_Lovejoy (1991)_>, <Movie id:0100955[http] title:_The World of Eddie Weary (1990)_>, <Movie id:0098032[http] title:_Oranges Are Not the Only Fruit (1990)_>, <Movie id:0285410[http] title:_Victoria Wood (1989)_>, <Movie id:0096700[http] title:_Snakes and Ladders (1989)_>, <Movie id:0097931[http] title:_Murder by Moonlight (1989)_>, <Movie id:0400036[http] title:_Storyboard (1989)_>, <Movie id:0137051[http] title:_The Justice Game (1989)_>, <Movie id:0094519[http] title:_The New Statesman (1989) (1988)_>, <Movie id:0296309[http] title:_Blind Justice (1988)_>, <Movie id:0088621[http] title:_Taggart (1988)_>, <Movie id:0260818[http] title:_Comic Relief (1988)_>, <Movie id:0224822[http] title:_Acorn Antiques (1987)_>, <Movie id:0149542[http] title:_Victoria Wood: As Seen on TV (1987) (1985)_>, <Movie id:0091203[http] title:_Highlander (1986)_>, <Movie id:0290962[http] title:_Gems (1985)_>, <Movie id:0086582[http] title:_The Wicked Lady (1983)_>, <Movie id:0081831[http] title:_Bergerac (1983)_>, <Movie id:0423993[http] title:_Cloud Howe (1982)_>, <Movie id:7196130[http] title:_'81 Take 2 (1981)_>, <Movie id:0170989[http] title:_The Nightmare Man (1981)_>, <Movie id:0078690[http] title:_Shoestring (1980)_>, <Movie id:0078703[http] title:_To the Manor Born (1980) (1979)_>, <Movie id:0077413[http] title:_Death on the Nile (1978)_>, <Movie id:0958967[http] title:_BBC2 Play of the Week (1978)_>, <Movie id:0066722[http] title:_Upstairs, Downstairs (1974)_>, <Movie id:0071628[http] title:_House of Whipcord (1974)_>, <Movie id:0069739[http] title:_Assassin (1973)_>, <Movie id:0069584[http] title:_The Fenn Street Gang (1971)_>], 'soundtrack': [<Movie id:12916576[http] title:_Diminishing Returns (2018)_>, <Movie id:6911608[http] title:_Mamma Mia! Here We Go Again (2018)_>], 'thanks': [<Movie id:4920934[http] title:_Film Journeys (2018)_>, <Movie id:4304748[http] title:_Julie Walters: A Life on Screen (2014)_>], 'self': [<Movie id:12681262[http] title:_Isolation Interviews (2022)_>, <Movie id:13471320[http] title:_Love Your Weekend with Alan Titchmarsh (2021)_>, <Movie id:4666458[http] title:_Talking Pictures (2021) (2020)_>, <Movie id:0298674[http] title:_Lorraine (2021) (2019)_>, <Movie id:13265848[http] title:_The Savoy (2020)_>, <Movie id:1631912[http] title:_CBeebies Bedtime Story (2019) (2018)_>, <Movie id:0181261[http] title:_This Morning (2018) (2005)_>, <Movie id:0844203[http] title:_The One Show (2018) (2010)_>, <Movie id:1248244[http] title:_Child Genius (2017) (2014)_>, <Movie id:6667482[http] title:_Our Friend Victoria (2017)_>, <Movie id:6837758[http] title:_Acorn Antiques Health Spa (2017)_>, <Movie id:6771754[http] title:_Our Friend Victoria - Episode 2: Trailer (2017)_>, <Movie id:6754390[http] title:_Our Friend Victoria: Two Soups (2017)_>, <Movie id:6080356[http] title:_Richard E. Grant on Ealing Comedies (2016)_>, <Movie id:5711892[http] title:_Let's Do It: A Tribute to Victoria Wood (2016)_>, <Movie id:0911896[http] title:_Made in Hollywood (2015)_>, <Movie id:0192897[http] title:_Film '72 (2015)_>, <Movie id:0924651[http] title:_The Graham Norton Show (2015)_>, <Movie id:0808084[http] title:_Mark Lawson Talks to... (2015)_>, <Movie id:4304748[http] title:_Julie Walters: A Life on Screen (2014)_>, <Movie id:10792846[http] title:_Bafta's 60 Seconds With... (2014)_>, <Movie id:3740216[http] title:_Arqiva British Academy Television Awards (2014)_>, <Movie id:3692102[http] title:_Weekend Kitchen with Waitrose (2014)_>, <Movie id:7268514[http] title:_Remembering Douglas Camfield (2013)_>, <Movie id:0217211[http] title:_Loose Women (2013) (2009)_>, <Movie id:0887237[http] title:_South Today (2013)_>, <Movie id:2367277[http] title:_In Love with... (2012)_>, <Movie id:5173200[http] title:_The Best Exotic Marigold Hotel: Behind the Story: Lights, Colours and Smiles (2012)_>, <Movie id:0429466[http] title:_Who Do You Think You Are? (2012)_>, <Movie id:1695352[http] title:_Daybreak (2012)_>, <Movie id:14054416[http] title:_The TV Book Club (2011)_>, <Movie id:1734539[http] title:_Paul O'Grady Live (2011)_>, <Movie id:1137419[http] title:_The Alan Titchmarsh Show (2011)_>, <Movie id:0262152[http] title:_Breakfast (2011)_>, <Movie id:1733300[http] title:_The People Speak UK (2010)_>, <Movie id:4583362[http] title:_Cranford in Detail (2009)_>, <Movie id:3508436[http] title:_Victoria Wood: Seen on TV (2009)_>, <Movie id:0431559[http] title:_The New Paul O'Grady Show (2009) (2005)_>, <Movie id:1101386[http] title:_Movie Connections (2009)_>, <Movie id:4431294[http] title:_After You've Gone: Outtakes (2008)_>, <Movie id:4592194[http] title:_Stanley Baxter: Now and Then (2008)_>, <Movie id:1458535[http] title:_Behind the Scenes: Agatha Christie's Poirot (2006)_>, <Movie id:0372053[http] title:_Comedy Connections (2006)_>, <Movie id:1166817[http] title:_The King's Head: A Maverick in London (2006)_>, <Movie id:6214750[http] title:_Victoria Wood's Making of Acorn Antiques: The Musical! (2005)_>, <Movie id:0343315[http] title:_Today with Des and Mel (2005)_>, <Movie id:0446066[http] title:_Victoria Wood: A BAFTA Tribute (2005)_>, <Movie id:3681724[http] title:_Britain's Favourite Comedian (2004)_>, <Movie id:0778582[http] title:_'Calendar Girls': Creating the Calendar (2004)_>, <Movie id:0416421[http] title:_Seven Ages of Britain (2003)_>, <Movie id:0360281[http] title:_Loose Lips (2003)_>, <Movie id:0369176[http] title:_The Terry and Gaby Show (2003)_>, <Movie id:0796171[http] title:_Timeshift (2003)_>, <Movie id:0299144[http] title:_The Sketch Show Story (2001)_>, <Movie id:0181260[http] title:_This Is Your Life (2001) (1991)_>, <Movie id:3581970[http] title:_Victoria Wood with All the Trimmings Outtakes (2000)_>, <Movie id:0272343[http] title:_Victoria Wood: With All the Trimmings (2000)_>, <Movie id:0267187[http] title:_Heroes of Comedy (1999)_>, <Movie id:0200358[http] title:_Omnibus (1999)_>, <Movie id:0270760[http] title:_Best of British (1998)_>, <Movie id:2704386[http] title:_Borrowers in the Making (1998)_>, <Movie id:0118386[http] title:_Light Lunch (1997)_>, <Movie id:0996568[http] title:_Conjuring Shakespeare (1997)_>, <Movie id:2241091[http] title:_Comic Relief (1995)_>, <Movie id:0284621[http] title:_Victoria Wood's All Day Breakfast (1992)_>, <Movie id:0274435[http] title:_Comic Relief (1991)_>, <Movie id:0274434[http] title:_A Night of Comic Relief 2 (1989)_>, <Movie id:0213466[http] title:_An Audience with Victoria Wood (1988)_>, <Movie id:0268889[http] title:_Acting (1987)_>], 'archive footage': [<Movie id:8509502[http] title:_Victoria Wood - From Soup to Nuts (2018)_>, <Movie id:8128646[http] title:_Dinnerladies Diaries (2018)_>, <Movie id:7778760[http] title:_Everyone wanted to be in Vic's Christmas Specials (2017)_>, <Movie id:7778696[http] title:_She asked me if I minded (2017)_>, <Movie id:6855938[http] title:_The Making of Acorn Antiques (2017)_>, <Movie id:6667482[http] title:_Our Friend Victoria (2017)_>, <Movie id:6754380[http] title:_Our Friend Victoria: Bingo Sketch (2017)_>, <Movie id:6754394[http] title:_Our Friend Victoria: Trail (2017)_>, <Movie id:3644198[http] title:_Good Morning Britain (2016)_>, <Movie id:4956964[http] title:_Victoria Derbyshire (2016)_>, <Movie id:7029168[http] title:_Victoria Wood Was a Great Giggler (2016)_>, <Movie id:0283794[http] title:_BBC News at Six (2016)_>, <Movie id:0283706[http] title:_BBC News at Ten (2016)_>, <Movie id:0302151[http] title:_BBC North West Tonight (2016)_>, <Movie id:0163471[http] title:_Newsnight (2016)_>, <Movie id:5656202[http] title:_RIP: Comedian Victoria Wood Passes Away at 62 (2016)_>, <Movie id:0357396[http] title:_Sky News at Five (2016)_>, <Movie id:6845058[http] title:_Victoria Wood: A Look Back on Her Life - BBC Newsnight (2016)_>, <Movie id:5654040[http] title:_Victoria Wood's Funniest Moments (2016)_>, <Movie id:5591560[http] title:_The Brontes at the BBC (2016)_>, <Movie id:0429466[http] title:_Who Do You Think You Are? (2014)_>, <Movie id:7141818[http] title:_Julie Walters: 'I Hope There Are Some Skeletons' (2014)_>, <Movie id:1802530[http] title:_The Many Faces of... (2013)_>, <Movie id:3529910[http] title:_Victoria Wood's Nice Cup of Tea (2013)_>, <Movie id:2403007[http] title:_Tales of Television Centre (2012)_>, <Movie id:5056268[http] title:_Thora Hird Tribute (2011)_>, <Movie id:2004853[http] title:_My Favourite Joke (2011)_>, <Movie id:7141844[http] title:_Mrs Overall Needs Time Off (2011)_>, <Movie id:7143900[http] title:_Acorn Antiques (2009)_>, <Movie id:1246607[http] title:_Beautiful People (2009)_>, <Movie id:1151057[http] title:_The Cult of... (2008)_>, <Movie id:0077082[http] title:_The South Bank Show (2007) (1996)_>, <Movie id:1273661[http] title:_Greatest TV Comedy Moments (2005)_>, <Movie id:0778583[http] title:_'Calendar Girls': The Naked Truth (2004)_>, <Movie id:3816948[http] title:_Bridget Jones's Diary: Behind the Scenes - Resolutions of a Tragic Spinster (2001)_>, <Movie id:4775748[http] title:_Gabrielle: Out of Reach (2001)_>, <Movie id:4746312[http] title:_Comic Relief Presents the Pick of the Nose (1998)_>, <Movie id:0479585[http] title:_Comic Relief: Behind the Nose (1992)_>]}), ('canonical name', 'Imrie, Celia'), ('long imdb name', 'Celia Imrie'), ('long imdb canonical name', 'Imrie, Celia'), ('full-size headshot', 'https://m.media-amazon.com/images/M/MV5BOGFiNTNmNTQtODVjZS00YTQ0LWJmZjMtMWFmZTdjNWY0MGEyXkEyXkFqcGdeQXVyNTQ0NDA1OTA@.jpg')]\n",
            "['headshot', 'imdbID', 'name', 'imdbIndex', 'filmography', 'canonical name', 'long imdb name', 'long imdb canonical name', 'full-size headshot']\n",
            "[('headshot', 'https://m.media-amazon.com/images/M/MV5BMTgxMjM2NTAyMV5BMl5BanBnXkFtZTgwOTU4NjU2NDE@._V1_QL75_UX140_CR0,1,140,207_.jpg'), ('imdbID', '4141252'), ('name', 'Lily James'), ('imdbIndex', 'I'), ('filmography', {'actress': [<Movie id:20201748[http] title:_Greedy People (None)_>, <Movie id:11539996[http] title:_Relay (None)_>, <Movie id:21064584[http] title:_The Iron Claw (2023)_>, <Movie id:21824548[http] title:_Finally Dawn (2023)_>, <Movie id:13430858[http] title:_What's Love Got to Do with It? (2022)_>, <Movie id:19656038[http] title:_BareFace: A Night of Mistakes (2022)_>, <Movie id:13659418[http] title:_Pam & Tommy (2022)_>, <Movie id:16421260[http] title:_Beauty and the Beast: A Comic Relief Pantomime for Christmas (2021)_>, <Movie id:10556338[http] title:_The Pursuit of Love (2021)_>, <Movie id:3661210[http] title:_The Dig (2021)_>, <Movie id:2235695[http] title:_Rebecca (None)_>, <Movie id:8419594[http] title:_Rare Beasts (2019)_>, <Movie id:8079248[http] title:_Yesterday (None)_>, <Movie id:9861332[http] title:_One Red Nose and a Wedding (2019)_>, <Movie id:9652730[http] title:_All About Eve (2019)_>, <Movie id:6911608[http] title:_Mamma Mia! Here We Go Again (2018)_>, <Movie id:6418918[http] title:_Little Woods (2018)_>, <Movie id:1289403[http] title:_The Guernsey Literary and Potato Peel Pie Society (2018)_>, <Movie id:5688932[http] title:_Sorry to Bother You (2018)_>, <Movie id:4555426[http] title:_Darkest Hour (2017)_>, <Movie id:3890160[http] title:_Baby Driver (2017)_>, <Movie id:6219898[http] title:_The Tale of Thomas Burberry (2016)_>, <Movie id:4721124[http] title:_The Exception (2016)_>, <Movie id:5943392[http] title:_Branagh Theatre Live: Romeo and Juliet (2016)_>, <Movie id:3910804[http] title:_War & Peace (2016)_>, <Movie id:1374989[http] title:_Pride and Prejudice and Zombies (2016)_>, <Movie id:1606375[http] title:_Downton Abbey (2015) (2012)_>, <Movie id:2503944[http] title:_Burnt (None)_>, <Movie id:1661199[http] title:_Cinderella (None)_>, <Movie id:2956070[http] title:_Silent Treatment (None)_>, <Movie id:1700808[http] title:_Fast Girls (2012)_>, <Movie id:1441940[http] title:_Broken (None)_>, <Movie id:1646987[http] title:_Wrath of the Titans (2012)_>, <Movie id:2287671[http] title:_Chemistry (None)_>, <Movie id:1000734[http] title:_Secret Diary of a Call Girl (2011)_>, <Movie id:4875480[http] title:_Chloe and Will's Hot Date Night (2011)_>, <Movie id:1804877[http] title:_Just William (2010)_>], 'producer': [<Movie id:10556338[http] title:_The Pursuit of Love (2021)_>], 'soundtrack': [<Movie id:13659418[http] title:_Pam & Tommy (2022)_>, <Movie id:8079248[http] title:_Yesterday (None)_>, <Movie id:11692720[http] title:_Comic Relief: Mamma Mia! Here We Go Yet Again (2019)_>, <Movie id:12916576[http] title:_Diminishing Returns (2018)_>, <Movie id:3444938[http] title:_The Tonight Show Starring Jimmy Fallon (2018)_>, <Movie id:6911608[http] title:_Mamma Mia! Here We Go Again (2018)_>, <Movie id:1661199[http] title:_Cinderella (None)_>], 'self': [<Movie id:10832454[http] title:_Baywatch: The Documentary (None)_>, <Movie id:22179736[http] title:_EE BAFTA Film Awards (2023)_>, <Movie id:21329444[http] title:_The 28th Annual Critics' Choice Awards (2023)_>, <Movie id:22176310[http] title:_80th Golden Globe Awards (2023)_>, <Movie id:0081857[http] title:_Entertainment Tonight (2022) (2015)_>, <Movie id:19394840[http] title:_The 74th Primetime Emmy Awards (2022)_>, <Movie id:15275848[http] title:_Bild Live (2022)_>, <Movie id:4267324[http] title:_Variety Studio: Actors on Actors (2022)_>, <Movie id:10471904[http] title:_The Oscars (2022)_>, <Movie id:0247094[http] title:_Extra (2022) (2015)_>, <Movie id:17023122[http] title:_The 37th Film Independent Spirit Awards (2022)_>, <Movie id:14953392[http] title:_Fan Questions (2022)_>, <Movie id:4280606[http] title:_The Late Late Show with James Corden (2022) (2016)_>, <Movie id:0320037[http] title:_Jimmy Kimmel Live! (2022)_>, <Movie id:15779382[http] title:_One Night Only. Dubai (2021)_>, <Movie id:4932500[http] title:_IMDb on the Scene (2020)_>, <Movie id:3503424[http] title:_Celebrity Page (2020) (2017)_>, <Movie id:3444938[http] title:_The Tonight Show Starring Jimmy Fallon (2020) (2018)_>, <Movie id:1973047[http] title:_Dish Nation (2020) (2018)_>, <Movie id:0044298[http] title:_Today (2020) (2017)_>, <Movie id:1245693[http] title:_Made in Hollywood: Teen Edition (2020)_>, <Movie id:11338406[http] title:_EE British Academy Film Awards (2020)_>, <Movie id:0924651[http] title:_The Graham Norton Show (2019) (2016)_>, <Movie id:0911896[http] title:_Made in Hollywood (2018) (2015)_>, <Movie id:8596744[http] title:_IMDb on the Scene - Interviews (2018)_>, <Movie id:8722360[http] title:_Meet the Film Makers: Mamma Mia! Here We Go Again (2018)_>, <Movie id:0381753[http] title:_Fantastic (2018)_>, <Movie id:0167515[http] title:_Access Hollywood (2018)_>, <Movie id:3644198[http] title:_Good Morning Britain (2018)_>, <Movie id:8847388[http] title:_Mamma Mia! Here We Go Again: HBO First Look (2018)_>, <Movie id:0844203[http] title:_The One Show (2018) (2016)_>, <Movie id:8096514[http] title:_Darkest Hour: Gary Oldman - Becoming Churchill (2018)_>, <Movie id:8074606[http] title:_Darkest Hour: Into Darkest Hour (2018)_>, <Movie id:7866928[http] title:_The EE British Academy Film Awards (2018)_>, <Movie id:7862844[http] title:_Darkest Hour: Meet the Filmmakers (2018)_>, <Movie id:6635044[http] title:_75th Golden Globe Awards (2018)_>, <Movie id:3513388[http] title:_Late Night with Seth Meyers (2017)_>, <Movie id:0096636[http] title:_Live with Kelly and Mark (2017) (2015)_>, <Movie id:3234862[http] title:_Reel Junkie (2017)_>, <Movie id:3770700[http] title:_Wimbledon (2016)_>, <Movie id:5440526[http] title:_The 24th Annual Movieguide Awards (2016)_>, <Movie id:0192897[http] title:_Film '72 (2016)_>, <Movie id:1434322[http] title:_Up Close with Carrie Keagan (2016)_>, <Movie id:9814578[http] title:_Justine Magazine: \"Pride and Prejudice and Zombies\" Cast Play Guys vs. Girls Game! (2016)_>, <Movie id:4578636[http] title:_The Timey Wimey Show (2016)_>, <Movie id:0072506[http] title:_Good Morning America (2016) (2015)_>, <Movie id:3884604[http] title:_Hollywood Today Live (2016)_>, <Movie id:4399942[http] title:_73rd Golden Globe Awards (2016)_>, <Movie id:1740718[http] title:_The Talk (2016)_>, <Movie id:10792846[http] title:_Bafta's 60 Seconds With... (2015)_>, <Movie id:0390699[http] title:_Días de cine (2015)_>, <Movie id:0827947[http] title:_Rachael Ray (2015)_>, <Movie id:0106053[http] title:_Late Show with David Letterman (2015)_>, <Movie id:8300268[http] title:_On the Scene with Lindalee (2015)_>, <Movie id:4264964[http] title:_Evening Urgant (2015)_>, <Movie id:4307936[http] title:_Text Santa 2014 (2014)_>, <Movie id:1908337[http] title:_The Big Picture (2012)_>], 'archive footage': [<Movie id:0081857[http] title:_Entertainment Tonight (2022) (2015)_>, <Movie id:0166442[http] title:_Inside Edition (2021)_>, <Movie id:3503424[http] title:_Celebrity Page (2020)_>, <Movie id:11143198[http] title:_420 AWARDS - 2nd Annual Event (2020)_>, <Movie id:12300660[http] title:_2019: A Year in the Life of a Year (2020)_>, <Movie id:9522296[http] title:_Andrew Davies: Rewriting the Classics (2018)_>, <Movie id:8559272[http] title:_Mamma Mia! Here We Go Again: Waterloo (2018)_>, <Movie id:0247094[http] title:_Extra (2016)_>, <Movie id:0072562[http] title:_Saturday Night Live (2015)_>]}), ('canonical name', 'James, Lily'), ('long imdb name', 'Lily James (I)'), ('long imdb canonical name', 'James, Lily (I)'), ('full-size headshot', 'https://m.media-amazon.com/images/M/MV5BMTgxMjM2NTAyMV5BMl5BanBnXkFtZTgwOTU4NjU2NDE@.jpg')]\n",
            "['headshot', 'imdbID', 'name', 'filmography', 'canonical name', 'long imdb name', 'long imdb canonical name', 'full-size headshot']\n",
            "[('headshot', 'https://m.media-amazon.com/images/M/MV5BYTc0NWQwMTktMTNiZi00YjE5LWJmNjMtMTE3ZjE5ZDRjZGQwXkEyXkFqcGdeQXVyNTUzMzM0MTA@._V1_QL75_UY207_CR5,0,140,207_.jpg'), ('imdbID', '4061475'), ('name', 'Alexa Davies'), ('filmography', {'actress': [<Movie id:10062652[http] title:_Cobra (2023) (2021)_>, <Movie id:13323596[http] title:_The Long Shadow (2023)_>, <Movie id:15309272[http] title:_Funny Woman (2023)_>, <Movie id:20674440[http] title:_Sneakerhead (2022)_>, <Movie id:18777240[http] title:_The Debutante (2022)_>, <Movie id:7428760[http] title:_Four Lives (2022)_>, <Movie id:13802894[http] title:_I Am a Unicorn (2021)_>, <Movie id:7559438[http] title:_Dead Pixels (2021) (2019)_>, <Movie id:10535076[http] title:_Honour (2020)_>, <Movie id:9148706[http] title:_Misbehaviour (2020)_>, <Movie id:11110622[http] title:_The Murders at White House Farm (2020)_>, <Movie id:0115355[http] title:_Silent Witness (2020)_>, <Movie id:6911608[http] title:_Mamma Mia! Here We Go Again (2018)_>, <Movie id:8086260[http] title:_Down the Caravan (2018)_>, <Movie id:4082744[http] title:_Detectorists (2017) (2015)_>, <Movie id:3747572[http] title:_Grantchester (2017)_>, <Movie id:5761478[http] title:_Harlots (2017)_>, <Movie id:6256478[http] title:_Sticky (None)_>, <Movie id:4827986[http] title:_The Sense of an Ending (2017)_>, <Movie id:3149010[http] title:_Suspects (2016)_>, <Movie id:5921086[http] title:_Avatards (2016)_>, <Movie id:4370528[http] title:_The Five (2016)_>, <Movie id:3434132[http] title:_Raised by Wolves (2016) (2013)_>, <Movie id:3059304[http] title:_Spaceship (2016)_>, <Movie id:4658612[http] title:_Cradle to Grave (2015)_>, <Movie id:3152000[http] title:_Dusha shpiona (2015)_>, <Movie id:1727770[http] title:_Absolutely Anything (2015)_>, <Movie id:3149038[http] title:_A Brilliant Young Mind (2014)_>, <Movie id:2222352[http] title:_Cuckoo (2014)_>, <Movie id:3621220[http] title:_Trying Again (2014)_>, <Movie id:0184122[http] title:_Holby City (2014)_>, <Movie id:2186373[http] title:_The Midnight Beast (2014)_>, <Movie id:2543814[http] title:_Bunking Off (2012)_>, <Movie id:1804497[http] title:_Little Crackers (2012)_>, <Movie id:0241383[http] title:_Doctors (2012)_>, <Movie id:0362357[http] title:_New Tricks (2012)_>, <Movie id:1703923[http] title:_Vinyl (2012)_>], 'soundtrack': [<Movie id:12916576[http] title:_Diminishing Returns (2018)_>, <Movie id:6911608[http] title:_Mamma Mia! Here We Go Again (2018)_>, <Movie id:1703923[http] title:_Vinyl (2012)_>], 'self': [<Movie id:1237577[http] title:_Central Tonight (2019)_>, <Movie id:8847388[http] title:_Mamma Mia! Here We Go Again: HBO First Look (2018)_>, <Movie id:1468760[http] title:_Alan Carr: Chatty Man (2016)_>, <Movie id:2326935[http] title:_Sunday Brunch (2015)_>], 'archive footage': [<Movie id:8559272[http] title:_Mamma Mia! Here We Go Again: Waterloo (2018)_>, <Movie id:5532338[http] title:_Too Much TV (2016)_>]}), ('canonical name', 'Davies, Alexa'), ('long imdb name', 'Alexa Davies'), ('long imdb canonical name', 'Davies, Alexa'), ('full-size headshot', 'https://m.media-amazon.com/images/M/MV5BYTc0NWQwMTktMTNiZi00YjE5LWJmNjMtMTE3ZjE5ZDRjZGQwXkEyXkFqcGdeQXVyNTUzMzM0MTA@.jpg')]\n"
          ]
        }
      ],
      "source": [
        "num = 0 # номер актера в первичном списке actors\n",
        "target_actors = [] # список нужных актеров\n",
        "for actor in actors_list[:5]:\n",
        "  people = ia.search_person(actors_list[num])\n",
        "  person = ia.get_person(people[0].personID)\n",
        "  target_actors.append(person)\n",
        "  num+=1\n",
        "\n",
        "for actor in target_actors:\n",
        "  print(actor.keys())\n",
        "  print(actor.items())"
      ]
    },
    {
      "cell_type": "code",
      "execution_count": 248,
      "metadata": {
        "colab": {
          "base_uri": "https://localhost:8080/"
        },
        "id": "iXRJ2kOLUnOn",
        "outputId": "dd5e5cb5-ae70-41df-e244-d466dfdb0671"
      },
      "outputs": [
        {
          "output_type": "execute_result",
          "data": {
            "text/plain": [
              "[[\"My Ex-Friend's Wedding\",\n",
              "  'Seven Veils',\n",
              "  'The Crowded Room',\n",
              "  'Skin & Bone',\n",
              "  'The Dropout'],\n",
              " ['Hemingway & Fuentes',\n",
              "  'Artist in Residence',\n",
              "  'On Smoother Dirt',\n",
              "  'Land of Grace',\n",
              "  'The Ark: An Iron Sky Story'],\n",
              " ['Genuine Fakes',\n",
              "  'The Inn at the Edge of the World',\n",
              "  'Good Grief',\n",
              "  'Down, Down, Down',\n",
              "  'Love Again'],\n",
              " ['Greedy People',\n",
              "  'Relay',\n",
              "  'The Iron Claw',\n",
              "  'Finally Dawn',\n",
              "  \"What's Love Got to Do with It?\"],\n",
              " ['Cobra', 'The Long Shadow', 'Funny Woman', 'Sneakerhead', 'The Debutante']]"
            ]
          },
          "metadata": {},
          "execution_count": 248
        }
      ],
      "source": [
        "film_list = []\n",
        "\n",
        "for actor in target_actors[:5]:\n",
        "  actor_films = [] # фильмы каждого актера\n",
        "\n",
        "  if 'actress' in actor['filmography']:\n",
        "    for title in actor['filmography']['actress'][:5]:\n",
        "      actor_films.append(title['title'])\n",
        "  elif 'actor' in actor['filmography']:\n",
        "    for title in actor['filmography']['actor'][:5]:\n",
        "      actor_films.append(title['title'])\n",
        "\n",
        "  film_list.append(actor_films)\n",
        "\n",
        "film_list"
      ]
    },
    {
      "cell_type": "code",
      "execution_count": 249,
      "metadata": {
        "id": "57mJjBEKBzqR",
        "colab": {
          "base_uri": "https://localhost:8080/"
        },
        "outputId": "7b01ed13-1e68-4fd6-a116-afeb8ff01f00"
      },
      "outputs": [
        {
          "output_type": "execute_result",
          "data": {
            "text/plain": [
              "[\"My Ex-Friend's Wedding\",\n",
              " 2024,\n",
              " None,\n",
              " None,\n",
              " 'Seven Veils',\n",
              " 2023,\n",
              " ['English'],\n",
              " 7.5,\n",
              " 'The Crowded Room',\n",
              " 2023,\n",
              " ['English'],\n",
              " 7.6,\n",
              " 'Skin & Bone',\n",
              " 2022,\n",
              " None,\n",
              " 6.6,\n",
              " 'The Dropout',\n",
              " 2022,\n",
              " ['English'],\n",
              " 7.5,\n",
              " 'Hemingway & Fuentes - IMDb',\n",
              " None,\n",
              " ['English'],\n",
              " None,\n",
              " 'Artist in Residence - IMDb',\n",
              " None,\n",
              " ['English'],\n",
              " None,\n",
              " 'On Smoother Dirt - IMDb',\n",
              " None,\n",
              " ['English'],\n",
              " None,\n",
              " 'Land of Grace - IMDb',\n",
              " None,\n",
              " ['English'],\n",
              " None,\n",
              " 'The Ark: An Iron Sky Story - IMDb',\n",
              " None,\n",
              " ['Chinese', 'English'],\n",
              " None,\n",
              " 'Genuine Fakes - IMDb',\n",
              " None,\n",
              " ['English'],\n",
              " None,\n",
              " 'The Inn at the Edge of the World - IMDb',\n",
              " None,\n",
              " ['English'],\n",
              " None,\n",
              " 'Good Grief - IMDb',\n",
              " None,\n",
              " ['English'],\n",
              " None,\n",
              " 'Down Low',\n",
              " 2023,\n",
              " ['English'],\n",
              " 5.3,\n",
              " 'Love Again',\n",
              " 2023,\n",
              " ['English'],\n",
              " 5.9,\n",
              " 'Greedy People - IMDb',\n",
              " None,\n",
              " ['English'],\n",
              " None,\n",
              " 'Relay - IMDb',\n",
              " None,\n",
              " None,\n",
              " None,\n",
              " 'The Iron Claw',\n",
              " 2023,\n",
              " ['English'],\n",
              " None,\n",
              " 'Finally Dawn',\n",
              " 2023,\n",
              " ['English', 'Italian'],\n",
              " 5.6,\n",
              " \"What's Love Got to Do with It?\",\n",
              " 2022,\n",
              " ['English', 'Urdu', 'Arabic'],\n",
              " 6.3,\n",
              " 'Cobra',\n",
              " 2020,\n",
              " ['English'],\n",
              " 6.4,\n",
              " 'The Long Shadow',\n",
              " 2023,\n",
              " ['English'],\n",
              " 8.0,\n",
              " 'Funny Woman',\n",
              " 2023,\n",
              " ['English'],\n",
              " 7.4,\n",
              " 'Sneakerhead',\n",
              " 2022,\n",
              " ['English'],\n",
              " 6.5,\n",
              " 'The Reluctant Debutante',\n",
              " 1958,\n",
              " ['English'],\n",
              " 6.7]"
            ]
          },
          "metadata": {},
          "execution_count": 249
        }
      ],
      "source": [
        "film_list_new = []\n",
        "\n",
        "for actor in film_list:\n",
        "  for title in actor:\n",
        "    film_list_temp = ia.search_movie(title)\n",
        "\n",
        "    film = ia.get_movie(film_list_temp[0].movieID)\n",
        "\n",
        "    film_title = film.get('title')\n",
        "    film_year = film.get('year')\n",
        "    film_languages = film.get('languages')\n",
        "    film_rating = film.get('rating')\n",
        "\n",
        "    film_list_new.append(film_title)\n",
        "    film_list_new.append(film_year)\n",
        "    film_list_new.append(film_languages)\n",
        "    film_list_new.append(film_rating)\n",
        "\n",
        "film_list_new"
      ]
    },
    {
      "cell_type": "code",
      "execution_count": 250,
      "metadata": {
        "colab": {
          "base_uri": "https://localhost:8080/"
        },
        "id": "0TG8PEoFB0Rh",
        "outputId": "4161fe6f-32a8-43a1-ef5a-b88033a3b2f0"
      },
      "outputs": [
        {
          "output_type": "execute_result",
          "data": {
            "text/plain": [
              "['Comedy',\n",
              " 'Drama',\n",
              " 'Biography',\n",
              " 'Short',\n",
              " 'Biography',\n",
              " 'Biography',\n",
              " 'Drama',\n",
              " 'Biography',\n",
              " 'Action',\n",
              " 'Action',\n",
              " 'Drama',\n",
              " 'Drama',\n",
              " 'Comedy',\n",
              " 'Comedy',\n",
              " 'Comedy',\n",
              " 'Comedy',\n",
              " 'Thriller',\n",
              " 'Biography',\n",
              " 'Drama',\n",
              " 'Comedy',\n",
              " 'Drama',\n",
              " 'Crime',\n",
              " 'Comedy',\n",
              " 'Comedy',\n",
              " 'Comedy']"
            ]
          },
          "metadata": {},
          "execution_count": 250
        }
      ],
      "source": [
        "genres = []\n",
        "for actor in film_list:\n",
        "  for title in actor:\n",
        "    film_list_temp = ia.search_movie(title)\n",
        "    film = ia.get_movie(film_list_temp[0].movieID)\n",
        "    temp = film['genres'][0]\n",
        "    genres.append(temp)\n",
        "\n",
        "genres\n",
        "\n",
        "\n",
        "\n",
        "#for title in films[:5]:\n",
        "  #film_list = ia.search_movie(title)\n",
        "  #film = ia.get_movie(film_list[0].movieID)\n",
        "  #temp = film['genres'][0]\n",
        "  #genres.append(temp)\n",
        "\n",
        "#genres = set(genres)"
      ]
    },
    {
      "cell_type": "code",
      "source": [
        "target_actors"
      ],
      "metadata": {
        "colab": {
          "base_uri": "https://localhost:8080/"
        },
        "id": "HTrrRKuY1Yv3",
        "outputId": "9449631f-e891-47b7-c16f-bf540332ac8a"
      },
      "execution_count": 256,
      "outputs": [
        {
          "output_type": "execute_result",
          "data": {
            "text/plain": [
              "[<Person id:1086543[http] name:_Amanda Seyfried (I)_>,\n",
              " <Person id:0000412[http] name:_Andy Garcia (I)_>,\n",
              " <Person id:0408309[http] name:_Celia Imrie_>,\n",
              " <Person id:4141252[http] name:_Lily James (I)_>,\n",
              " <Person id:4061475[http] name:_Alexa Davies_>]"
            ]
          },
          "metadata": {},
          "execution_count": 256
        }
      ]
    },
    {
      "cell_type": "code",
      "execution_count": null,
      "metadata": {
        "id": "RiH9JNWeB2wU"
      },
      "outputs": [],
      "source": [
        "target_actors_fin = dict()\n",
        "target_actors_fin['films'] = film_list_new\n",
        "target_actors_fin['genres'] = genres\n",
        "target_actors_fin"
      ]
    },
    {
      "cell_type": "code",
      "execution_count": 263,
      "metadata": {
        "colab": {
          "base_uri": "https://localhost:8080/"
        },
        "id": "Yougg6JbB5Qs",
        "outputId": "66418958-2058-4571-eb5d-8d0eecce19ff"
      },
      "outputs": [
        {
          "output_type": "execute_result",
          "data": {
            "text/plain": [
              "{'Alexa Davies': {'films': [\"My Ex-Friend's Wedding\",\n",
              "   2024,\n",
              "   None,\n",
              "   None,\n",
              "   'Seven Veils',\n",
              "   2023,\n",
              "   ['English'],\n",
              "   7.5,\n",
              "   'The Crowded Room',\n",
              "   2023,\n",
              "   ['English'],\n",
              "   7.6,\n",
              "   'Skin & Bone',\n",
              "   2022,\n",
              "   None,\n",
              "   6.6,\n",
              "   'The Dropout',\n",
              "   2022,\n",
              "   ['English'],\n",
              "   7.5,\n",
              "   'Hemingway & Fuentes - IMDb',\n",
              "   None,\n",
              "   ['English'],\n",
              "   None,\n",
              "   'Artist in Residence - IMDb',\n",
              "   None,\n",
              "   ['English'],\n",
              "   None,\n",
              "   'On Smoother Dirt - IMDb',\n",
              "   None,\n",
              "   ['English'],\n",
              "   None,\n",
              "   'Land of Grace - IMDb',\n",
              "   None,\n",
              "   ['English'],\n",
              "   None,\n",
              "   'The Ark: An Iron Sky Story - IMDb',\n",
              "   None,\n",
              "   ['Chinese', 'English'],\n",
              "   None,\n",
              "   'Genuine Fakes - IMDb',\n",
              "   None,\n",
              "   ['English'],\n",
              "   None,\n",
              "   'The Inn at the Edge of the World - IMDb',\n",
              "   None,\n",
              "   ['English'],\n",
              "   None,\n",
              "   'Good Grief - IMDb',\n",
              "   None,\n",
              "   ['English'],\n",
              "   None,\n",
              "   'Down Low',\n",
              "   2023,\n",
              "   ['English'],\n",
              "   5.3,\n",
              "   'Love Again',\n",
              "   2023,\n",
              "   ['English'],\n",
              "   5.9,\n",
              "   'Greedy People - IMDb',\n",
              "   None,\n",
              "   ['English'],\n",
              "   None,\n",
              "   'Relay - IMDb',\n",
              "   None,\n",
              "   None,\n",
              "   None,\n",
              "   'The Iron Claw',\n",
              "   2023,\n",
              "   ['English'],\n",
              "   None,\n",
              "   'Finally Dawn',\n",
              "   2023,\n",
              "   ['English', 'Italian'],\n",
              "   5.6,\n",
              "   \"What's Love Got to Do with It?\",\n",
              "   2022,\n",
              "   ['English', 'Urdu', 'Arabic'],\n",
              "   6.3,\n",
              "   'Cobra',\n",
              "   2020,\n",
              "   ['English'],\n",
              "   6.4,\n",
              "   'The Long Shadow',\n",
              "   2023,\n",
              "   ['English'],\n",
              "   8.0,\n",
              "   'Funny Woman',\n",
              "   2023,\n",
              "   ['English'],\n",
              "   7.4,\n",
              "   'Sneakerhead',\n",
              "   2022,\n",
              "   ['English'],\n",
              "   6.5,\n",
              "   'The Reluctant Debutante',\n",
              "   1958,\n",
              "   ['English'],\n",
              "   6.7],\n",
              "  'genres': ['Comedy',\n",
              "   'Drama',\n",
              "   'Biography',\n",
              "   'Short',\n",
              "   'Biography',\n",
              "   'Biography',\n",
              "   'Drama',\n",
              "   'Biography',\n",
              "   'Action',\n",
              "   'Action',\n",
              "   'Drama',\n",
              "   'Drama',\n",
              "   'Comedy',\n",
              "   'Comedy',\n",
              "   'Comedy',\n",
              "   'Comedy',\n",
              "   'Thriller',\n",
              "   'Biography',\n",
              "   'Drama',\n",
              "   'Comedy',\n",
              "   'Drama',\n",
              "   'Crime',\n",
              "   'Comedy',\n",
              "   'Comedy',\n",
              "   'Comedy']}}"
            ]
          },
          "metadata": {},
          "execution_count": 263
        }
      ],
      "source": [
        "# здесь код недописан. я запуталась, что делать дальше. признаю поражение...\n",
        "\n",
        "\n",
        "#for actor in film_list:\n",
        "  #for title in actor:\n",
        "\n",
        "temp = dict()\n",
        "for actor in target_actors:\n",
        "  temp[person['name']] = actor\n",
        "\n",
        "\n",
        "  for title in films:\n",
        "      film_list_new = ia.search_movie(title)\n",
        "      film = ia.get_movie(film_list_new[0].movieID)\n",
        "      temp[person['name']]['films'].append({\n",
        "        'title': film.get('title'),\n",
        "        'genres': film.get('genres', []),\n",
        "        'year': film.get('year'),\n",
        "        'languages': film.get('languages', []),\n",
        "        'rating': film.get('rating')\n",
        "    })\n",
        "\n",
        "temp\n"
      ]
    },
    {
      "cell_type": "code",
      "source": [
        "  for title in films:\n",
        "      film_list_new = ia.search_movie(title)\n",
        "      film = ia.get_movie(film_list_new[0].movieID)\n",
        "      temp[person['name']]['films'].append({\n",
        "        'title': film.get('title'),\n",
        "        'genres': film.get('genres', []),\n",
        "        'year': film.get('year'),\n",
        "        'languages': film.get('languages', []),\n",
        "        'rating': film.get('rating')\n",
        "    })\n",
        "\n",
        "temp"
      ],
      "metadata": {
        "id": "NB5bdmBG17c9"
      },
      "execution_count": null,
      "outputs": []
    },
    {
      "cell_type": "code",
      "execution_count": null,
      "metadata": {
        "id": "xb1N2zzFB7-6"
      },
      "outputs": [],
      "source": [
        "cards = []\n",
        "cards.append(temp)\n",
        "\n",
        "cards"
      ]
    }
  ],
  "metadata": {
    "colab": {
      "provenance": []
    },
    "kernelspec": {
      "display_name": "Python 3",
      "name": "python3"
    },
    "language_info": {
      "name": "python"
    }
  },
  "nbformat": 4,
  "nbformat_minor": 0
}