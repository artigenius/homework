{
  "nbformat": 4,
  "nbformat_minor": 0,
  "metadata": {
    "colab": {
      "provenance": []
    },
    "kernelspec": {
      "name": "python3",
      "display_name": "Python 3"
    },
    "language_info": {
      "name": "python"
    }
  },
  "cells": [
    {
      "cell_type": "markdown",
      "source": [
        "```\n",
        "MIT License\n",
        "\n",
        "Copyright (c) 2023 Victoria Firsanova\n",
        "\n",
        "Permission is hereby granted, free of charge, to any person obtaining a copy of this software and associated documentation files (the \"Software\"), to deal in the Software without restriction, including without limitation the rights to use, copy, modify, merge, publish, distribute, sublicense, and/or sell copies of the Software, and to permit persons to whom the Software is furnished to do so, subject to the following conditions:\n",
        "\n",
        "The above copyright notice and this permission notice shall be included in all copies or substantial portions of the Software.\n",
        "\n",
        "THE SOFTWARE IS PROVIDED \"AS IS\", WITHOUT WARRANTY OF ANY KIND, EXPRESS OR IMPLIED, INCLUDING BUT NOT LIMITED TO THE WARRANTIES OF MERCHANTABILITY, FITNESS FOR A PARTICULAR PURPOSE AND NONINFRINGEMENT. IN NO EVENT SHALL THE AUTHORS OR COPYRIGHT HOLDERS BE LIABLE FOR ANY CLAIM, DAMAGES OR OTHER LIABILITY, WHETHER IN AN ACTION OF CONTRACT, TORT OR OTHERWISE, ARISING FROM, OUT OF OR IN CONNECTION WITH THE SOFTWARE OR THE USE OR OTHER DEALINGS IN THE SOFTWARE.\n",
        "```"
      ],
      "metadata": {
        "id": "6cQvzaYa5Z9C"
      }
    },
    {
      "cell_type": "markdown",
      "source": [
        "Работаем с Cinemagoer: https://cinemagoer.github.io/"
      ],
      "metadata": {
        "id": "NDJ9wtCQ24UT"
      }
    },
    {
      "cell_type": "code",
      "source": [
        "!pip install cinemagoer"
      ],
      "metadata": {
        "id": "dZB9wR7Cq6DP",
        "colab": {
          "base_uri": "https://localhost:8080/"
        },
        "outputId": "6ba8bbb9-bddf-4614-f9ba-3b4ca39d0b89"
      },
      "execution_count": null,
      "outputs": [
        {
          "output_type": "stream",
          "name": "stdout",
          "text": [
            "Collecting cinemagoer\n",
            "  Downloading cinemagoer-2023.5.1-py3-none-any.whl (297 kB)\n",
            "\u001b[?25l     \u001b[90m━━━━━━━━━━━━━━━━━━━━━━━━━━━━━━━━━━━━━━━━\u001b[0m \u001b[32m0.0/297.2 kB\u001b[0m \u001b[31m?\u001b[0m eta \u001b[36m-:--:--\u001b[0m\r\u001b[2K     \u001b[91m━━━━━━━━━━━━━━━━━━━\u001b[0m\u001b[90m╺\u001b[0m\u001b[90m━━━━━━━━━━━━━━━━━━━━\u001b[0m \u001b[32m143.4/297.2 kB\u001b[0m \u001b[31m4.4 MB/s\u001b[0m eta \u001b[36m0:00:01\u001b[0m\r\u001b[2K     \u001b[90m━━━━━━━━━━━━━━━━━━━━━━━━━━━━━━━━━━━━━━━━\u001b[0m \u001b[32m297.2/297.2 kB\u001b[0m \u001b[31m5.9 MB/s\u001b[0m eta \u001b[36m0:00:00\u001b[0m\n",
            "\u001b[?25hRequirement already satisfied: SQLAlchemy in /usr/local/lib/python3.10/dist-packages (from cinemagoer) (2.0.21)\n",
            "Requirement already satisfied: lxml in /usr/local/lib/python3.10/dist-packages (from cinemagoer) (4.9.3)\n",
            "Requirement already satisfied: typing-extensions>=4.2.0 in /usr/local/lib/python3.10/dist-packages (from SQLAlchemy->cinemagoer) (4.5.0)\n",
            "Requirement already satisfied: greenlet!=0.4.17 in /usr/local/lib/python3.10/dist-packages (from SQLAlchemy->cinemagoer) (3.0.0)\n",
            "Installing collected packages: cinemagoer\n",
            "Successfully installed cinemagoer-2023.5.1\n"
          ]
        }
      ]
    },
    {
      "cell_type": "code",
      "execution_count": null,
      "metadata": {
        "id": "Zn7ebKaSjSmK"
      },
      "outputs": [],
      "source": [
        "from imdb import Cinemagoer\n",
        "\n",
        "# создаем класс Cinemagoer\n",
        "ia = Cinemagoer()\n",
        "\n",
        "# получаем информацию про фильм по ID в IMDB https://www.imdb.com/title/tt###\n",
        "movie = ia.get_movie('1517268')"
      ]
    },
    {
      "cell_type": "code",
      "source": [
        "# посмотрим, какая информация нам доступна\n",
        "sorted(movie.keys())"
      ],
      "metadata": {
        "id": "TjihNPcKxD7s",
        "colab": {
          "base_uri": "https://localhost:8080/"
        },
        "outputId": "db58d4d7-c7e8-407b-fffc-caf01fdbe84f"
      },
      "execution_count": null,
      "outputs": [
        {
          "output_type": "execute_result",
          "data": {
            "text/plain": [
              "['akas',\n",
              " 'animation department',\n",
              " 'art department',\n",
              " 'art direction',\n",
              " 'aspect ratio',\n",
              " 'assistant director',\n",
              " 'box office',\n",
              " 'camera and electrical department',\n",
              " 'canonical title',\n",
              " 'cast',\n",
              " 'casting department',\n",
              " 'casting director',\n",
              " 'certificates',\n",
              " 'cinematographer',\n",
              " 'color info',\n",
              " 'composer',\n",
              " 'costume department',\n",
              " 'costume designer',\n",
              " 'countries',\n",
              " 'country codes',\n",
              " 'cover url',\n",
              " 'director',\n",
              " 'distributors',\n",
              " 'editor',\n",
              " 'editorial department',\n",
              " 'full-size cover url',\n",
              " 'genres',\n",
              " 'imdbID',\n",
              " 'kind',\n",
              " 'language codes',\n",
              " 'languages',\n",
              " 'localized title',\n",
              " 'location management',\n",
              " 'long imdb canonical title',\n",
              " 'long imdb title',\n",
              " 'make up',\n",
              " 'miscellaneous crew',\n",
              " 'music department',\n",
              " 'original air date',\n",
              " 'original title',\n",
              " 'other companies',\n",
              " 'plot',\n",
              " 'producer',\n",
              " 'production companies',\n",
              " 'production design',\n",
              " 'production manager',\n",
              " 'rating',\n",
              " 'runtimes',\n",
              " 'script department',\n",
              " 'set decoration',\n",
              " 'smart canonical title',\n",
              " 'smart long imdb canonical title',\n",
              " 'sound crew',\n",
              " 'sound mix',\n",
              " 'special effects',\n",
              " 'special effects companies',\n",
              " 'stunt performer',\n",
              " 'synopsis',\n",
              " 'thanks',\n",
              " 'title',\n",
              " 'transportation department',\n",
              " 'videos',\n",
              " 'visual effects',\n",
              " 'votes',\n",
              " 'writer',\n",
              " 'year']"
            ]
          },
          "metadata": {},
          "execution_count": 3
        }
      ]
    },
    {
      "cell_type": "markdown",
      "source": [
        "# Задачи на работу со строками"
      ],
      "metadata": {
        "id": "YN57OZzX0A-t"
      }
    },
    {
      "cell_type": "code",
      "source": [
        "# для каждого актера фильма\n",
        "# выведите на экран одной строкой\n",
        "# FirstName LastName is an actor in MovieName\n",
        "# используйте конкатенацию и форматирование строк\n",
        "# hint: actor['name'] - имя актера\n",
        "# movie['original title'] - название фильма\n",
        "for actor in movie['cast']:\n",
        "  print(\"{}stars in {}\".format(actor['name'], movie['original title']))"
      ],
      "metadata": {
        "id": "IHmsLx-YyPCG",
        "colab": {
          "base_uri": "https://localhost:8080/"
        },
        "outputId": "a2174efc-f168-4c37-942d-192016a00c8d"
      },
      "execution_count": null,
      "outputs": [
        {
          "output_type": "stream",
          "name": "stdout",
          "text": [
            "Margot Robbiestars in Barbie\n",
            "Issa Raestars in Barbie\n",
            "Kate McKinnonstars in Barbie\n",
            "Alexandra Shippstars in Barbie\n",
            "Emma Mackeystars in Barbie\n",
            "Hari Nefstars in Barbie\n",
            "Sharon Rooneystars in Barbie\n",
            "Ana Cruz Kaynestars in Barbie\n",
            "Ritu Aryastars in Barbie\n",
            "Dua Lipastars in Barbie\n",
            "Nicola Coughlanstars in Barbie\n",
            "Emerald Fennellstars in Barbie\n",
            "Ryan Goslingstars in Barbie\n",
            "Simu Liustars in Barbie\n",
            "Kingsley Ben-Adirstars in Barbie\n",
            "Ncuti Gatwastars in Barbie\n",
            "Scott Evansstars in Barbie\n",
            "John Cenastars in Barbie\n",
            "Michael Cerastars in Barbie\n",
            "America Ferrerastars in Barbie\n",
            "Ariana Greenblattstars in Barbie\n",
            "Rhea Perlmanstars in Barbie\n",
            "Helen Mirrenstars in Barbie\n",
            "Will Ferrellstars in Barbie\n",
            "Connor Swindellsstars in Barbie\n",
            "Jamie Demetrioustars in Barbie\n",
            "Andrew Leungstars in Barbie\n",
            "Will Merrickstars in Barbie\n",
            "Zheng Xi Yongstars in Barbie\n",
            "Asim Chaudhrystars in Barbie\n",
            "Ray Fearonstars in Barbie\n",
            "Erica Fordstars in Barbie\n",
            "Hannah Khalique-Brownstars in Barbie\n",
            "Mette Narrativestars in Barbie\n",
            "Marisa Abelastars in Barbie\n",
            "Lucy Boyntonstars in Barbie\n",
            "Rob Brydonstars in Barbie\n",
            "Tom Stourtonstars in Barbie\n",
            "Chris Taylorstars in Barbie\n",
            "David Mumenistars in Barbie\n",
            "Olivia Brodystars in Barbie\n",
            "Isla Ashworthstars in Barbie\n",
            "Eire Farrellstars in Barbie\n",
            "Daisy Duczmalstars in Barbie\n",
            "Genvieve Toussaintstars in Barbie\n",
            "Isabella Nightingale Mercadostars in Barbie\n",
            "Millie-Rose Crossleystars in Barbie\n",
            "Anvita Nehrustars in Barbie\n",
            "Kayla-Mai Alvaresstars in Barbie\n",
            "Luke Mullenstars in Barbie\n",
            "Patrick Luwisstars in Barbie\n",
            "Mac Brandtstars in Barbie\n",
            "Paul Jurewiczstars in Barbie\n",
            "Oraldo Austinstars in Barbie\n",
            "Benjamin Arthurstars in Barbie\n",
            "Carlos Jacottstars in Barbie\n",
            "Adam Raystars in Barbie\n",
            "George Basilstars in Barbie\n",
            "Ptolemy Slocumstars in Barbie\n",
            "Deb Hiettstars in Barbie\n",
            "James Leonstars in Barbie\n",
            "Oliver Vaquerstars in Barbie\n",
            "Tony Notostars in Barbie\n",
            "Christopher T. Woodstars in Barbie\n",
            "Ann Rothstars in Barbie\n",
            "Annie Mumolostars in Barbie\n",
            "Elise Gallupstars in Barbie\n",
            "McKenna Robertsstars in Barbie\n",
            "Brylee Hsustars in Barbie\n",
            "Sasha Milsteinstars in Barbie\n",
            "Lauren Holtstars in Barbie\n",
            "Sterling Jonesstars in Barbie\n",
            "Ryan Piers Williamsstars in Barbie\n",
            "Jamaal Lewisstars in Barbie\n",
            "Kathryn Akinstars in Barbie\n",
            "Grace Jabbaristars in Barbie\n",
            "Ira Mandela Siobhanstars in Barbie\n",
            "Lisa Spencerstars in Barbie\n",
            "Naomi Weijandstars in Barbie\n",
            "Tom Clarkstars in Barbie\n",
            "Ireanne Abenojastars in Barbie\n",
            "Davide Albonettistars in Barbie\n",
            "Michael Andersonstars in Barbie\n",
            "Charlotte Andersonstars in Barbie\n",
            "Rico Bakkerstars in Barbie\n",
            "James Bamfordstars in Barbie\n",
            "William John Banksstars in Barbie\n",
            "Callum Bellstars in Barbie\n",
            "Adam Blaugstars in Barbie\n",
            "Mason Boycestars in Barbie\n",
            "Taylor Bradshawstars in Barbie\n",
            "Alex Brownstars in Barbie\n",
            "Miekaile Brownestars in Barbie\n",
            "Lewis Calcuttstars in Barbie\n",
            "Nikkita Chadhastars in Barbie\n",
            "Oliver Chapmanstars in Barbie\n",
            "Megan Charlesstars in Barbie\n",
            "Callum Clackstars in Barbie\n",
            "Danny Coburnstars in Barbie\n",
            "Kat Collingsstars in Barbie\n",
            "Adam Crossleystars in Barbie\n",
            "Sia Daudastars in Barbie\n",
            "Gustave Diestars in Barbie\n",
            "Grace Durkinstars in Barbie\n",
            "Joelle Dysonstars in Barbie\n",
            "Lewis Easterstars in Barbie\n",
            "Onyemachi Ejimoforstars in Barbie\n",
            "Cameron Everittstars in Barbie\n",
            "Luke Field-Wrightstars in Barbie\n",
            "Sasha Fleschstars in Barbie\n",
            "Adam Fogartystars in Barbie\n",
            "Michael John Frenchstars in Barbie\n",
            "Anna-Kay Gaylestars in Barbie\n",
            "Charlie Goddardstars in Barbie\n",
            "Marlie Goddardstars in Barbie\n",
            "Ellis Harmanstars in Barbie\n",
            "Yasmin Harrisonstars in Barbie\n",
            "Josh Hawkinsstars in Barbie\n",
            "James Healystars in Barbie\n",
            "Tim Hodgesstars in Barbie\n",
            "Mira Jebaristars in Barbie\n",
            "Thomas Kalekstars in Barbie\n",
            "Beccy Jonesstars in Barbie\n",
            "Lily Laightstars in Barbie\n",
            "Maiya Leekestars in Barbie\n",
            "Cristian Libertistars in Barbie\n",
            "Prodromos Marnerosstars in Barbie\n",
            "Nahum McLeanstars in Barbie\n",
            "Jordan Melchorstars in Barbie\n",
            "Ramzan Miahstars in Barbie\n",
            "Andy Monaghanstars in Barbie\n",
            "Florivaldo Mossistars in Barbie\n",
            "Hannah Nazarethstars in Barbie\n",
            "Grant Nealstars in Barbie\n",
            "Freja Nicolestars in Barbie\n",
            "Shaun Nilesstars in Barbie\n",
            "Ella Noninistars in Barbie\n",
            "Jack William Parrystars in Barbie\n",
            "Josie Pocockstars in Barbie\n",
            "Barnaby Quarendonstars in Barbie\n",
            "Redmand Rancestars in Barbie\n",
            "Zara Richardsstars in Barbie\n",
            "Liam Riddickstars in Barbie\n",
            "Alana Rixonstars in Barbie\n",
            "Adam Paul Robertsonstars in Barbie\n",
            "Kingdom Sibandastars in Barbie\n",
            "Sebastian Skov Andersenstars in Barbie\n",
            "Aaron J. Smithstars in Barbie\n",
            "Joshua Smithstars in Barbie\n",
            "Lucia-Rose Sokolowskistars in Barbie\n",
            "Janine Somciostars in Barbie\n",
            "Callum Sterlingstars in Barbie\n",
            "Alex Sturmanstars in Barbie\n",
            "Todd Talbotstars in Barbie\n",
            "Charles Tatmanstars in Barbie\n",
            "Grant Threshstars in Barbie\n",
            "Connor Tidmanstars in Barbie\n",
            "Wahchi Vongstars in Barbie\n",
            "Jerry Wanstars in Barbie\n",
            "Sasha Warehamstars in Barbie\n",
            "Stan Weststars in Barbie\n",
            "Oliver Wheelerstars in Barbie\n",
            "Josh Wildstars in Barbie\n",
            "Joe Wolstenholmestars in Barbie\n",
            "Richard Womersleystars in Barbie\n",
            "Ashley Youngstars in Barbie\n",
            "Sergi Cerverastars in Barbie\n",
            "Jennifer Chanstars in Barbie\n",
            "Jasmine Clarkstars in Barbie\n",
            "Nicholas de Graffenreidstars in Barbie\n",
            "Mike Dickmanstars in Barbie\n",
            "Tanner Kerrinsstars in Barbie\n",
            "Geoff Kinnsstars in Barbie\n",
            "Noor Labellestars in Barbie\n",
            "Kim Manningstars in Barbie\n",
            "Manuela Morastars in Barbie\n",
            "Cadence Murraystars in Barbie\n",
            "Jordan Saria Oramstars in Barbie\n",
            "Tracy Pacanastars in Barbie\n",
            "Kourosh Parsapourstars in Barbie\n",
            "Justin Pricestars in Barbie\n",
            "Richard Pricestars in Barbie\n",
            "Kelly Rian Sansonstars in Barbie\n",
            "Evan Shafranstars in Barbie\n",
            "Chanel Stewartstars in Barbie\n",
            "Molly Peyton Whitestars in Barbie\n",
            "Brian Whitehillstars in Barbie\n",
            "Caroline Wildestars in Barbie\n"
          ]
        }
      ]
    },
    {
      "cell_type": "code",
      "source": [
        "# сохраним краткое описание фильма в переменную\n",
        "\n",
        "synopsis = movie['synopsis'][0]\n",
        "\n",
        "# приведите этот текст к нижнему регистру\n",
        "\n",
        "synopsis_lower = synopsis.lower()\n",
        "\n",
        "# выведите на экран первые 100 символов\n",
        "\n",
        "print(synopsis_lower[:100])\n",
        "print(synopsis_lower.split()[:100])"
      ],
      "metadata": {
        "id": "gWnW9d-9w9fC",
        "colab": {
          "base_uri": "https://localhost:8080/"
        },
        "outputId": "f65801c1-93a0-4ac4-856f-0bc6179a8ebe"
      },
      "execution_count": null,
      "outputs": [
        {
          "output_type": "stream",
          "name": "stdout",
          "text": [
            "the film begins with the narrator (helen mirren) explaining the societal impact of the barbie doll o\n",
            "['the', 'film', 'begins', 'with', 'the', 'narrator', '(helen', 'mirren)', 'explaining', 'the', 'societal', 'impact', 'of', 'the', 'barbie', 'doll', 'on', 'history,', 'accompanied', 'by', 'a', 'clip', 'of', 'the', 'original', '1959', 'barbie', 'towering', 'over', 'a', 'desert', 'landscape,', 'while', 'little', 'girls', 'playing', 'with', 'baby', 'dolls', 'begin', 'to', 'destroy', 'them.hidden', 'from', 'the', 'real', 'world', 'is', 'barbieland,', 'where', 'the', 'barbies', 'and', 'kens,', 'alongside', 'other', 'dolls', 'like', 'allan', '(michael', 'cera)', 'and', 'midge', '(emerald', 'fennell),', 'live.', 'the', 'barbies', 'preside', 'over', 'barbieland', 'in', 'a', 'matriarchal', 'system', 'and', 'work', 'high-position', 'jobs', 'while', 'the', 'kens', 'spend', 'time', 'as', 'futile', 'subordinates', 'living', 'in', 'the', \"barbies'\", 'shadow.', 'beach', 'ken', '(ryan', 'gosling)', 'has', 'feelings', 'for', 'stereotypical']\n"
          ]
        }
      ]
    },
    {
      "cell_type": "code",
      "source": [
        "# посмотрите, сколько раз повторяются слова из заголовка фильма\n",
        "# для этого приведите название фильма к нижнему регистру\n",
        "# и используйте цикл for, если слов в заголовке несколько\n",
        "\n",
        "for word in movie['original title'].lower().split():\n",
        "  print(word)\n",
        "  print(synopsis_lower.count(word))\n",
        "\n"
      ],
      "metadata": {
        "colab": {
          "base_uri": "https://localhost:8080/"
        },
        "id": "RfV_CkuYG7aw",
        "outputId": "2b7435c9-247d-46d6-fcc1-c54fcef595ba"
      },
      "execution_count": null,
      "outputs": [
        {
          "output_type": "stream",
          "name": "stdout",
          "text": [
            "barbie\n",
            "47\n"
          ]
        }
      ]
    },
    {
      "cell_type": "code",
      "source": [
        "# разбейте текст на слова и выведете первые 10 слов на экран, не используйте print\n",
        "\n",
        "words = synopsis_lower.split()\n",
        "words[:10]"
      ],
      "metadata": {
        "colab": {
          "base_uri": "https://localhost:8080/"
        },
        "id": "rlG1Rf6SHGGA",
        "outputId": "ed22f12b-8565-405e-a574-68bad6840a3f"
      },
      "execution_count": null,
      "outputs": [
        {
          "output_type": "execute_result",
          "data": {
            "text/plain": [
              "['the',\n",
              " 'film',\n",
              " 'begins',\n",
              " 'with',\n",
              " 'the',\n",
              " 'narrator',\n",
              " '(helen',\n",
              " 'mirren)',\n",
              " 'explaining',\n",
              " 'the']"
            ]
          },
          "metadata": {},
          "execution_count": 7
        }
      ]
    },
    {
      "cell_type": "markdown",
      "source": [
        "# Задачи на работу со списками"
      ],
      "metadata": {
        "id": "V4_tbOOR7xlZ"
      }
    },
    {
      "cell_type": "code",
      "source": [
        "# создайте список актеров фильма\n",
        "# сначала создайте пустой список\n",
        "# затем используйте цикл for и append\n",
        "\n",
        "actors_list = []\n",
        "for actor in movie['cast']:\n",
        "  actors_list.append(actor['name'])\n",
        "\n",
        "# выведите на экран первые 10 актеров из списка\n",
        "\n",
        "actors_list[:20]"
      ],
      "metadata": {
        "id": "p0XJ2Ib07wqf",
        "colab": {
          "base_uri": "https://localhost:8080/"
        },
        "outputId": "c6d7c22c-1a8d-4625-e110-2598c5dc4ad8"
      },
      "execution_count": null,
      "outputs": [
        {
          "output_type": "execute_result",
          "data": {
            "text/plain": [
              "['Margot Robbie',\n",
              " 'Issa Rae',\n",
              " 'Kate McKinnon',\n",
              " 'Alexandra Shipp',\n",
              " 'Emma Mackey',\n",
              " 'Hari Nef',\n",
              " 'Sharon Rooney',\n",
              " 'Ana Cruz Kayne',\n",
              " 'Ritu Arya',\n",
              " 'Dua Lipa',\n",
              " 'Nicola Coughlan',\n",
              " 'Emerald Fennell',\n",
              " 'Ryan Gosling',\n",
              " 'Simu Liu',\n",
              " 'Kingsley Ben-Adir',\n",
              " 'Ncuti Gatwa',\n",
              " 'Scott Evans',\n",
              " 'John Cena',\n",
              " 'Michael Cera',\n",
              " 'America Ferrera']"
            ]
          },
          "metadata": {},
          "execution_count": 20
        }
      ]
    },
    {
      "cell_type": "code",
      "source": [
        "# сгенерируйте список режиссеров фильма\n",
        "# hint: для запроса к имени используйте x['name']\n",
        "\n",
        "directors_list = [x['name'] for x in movie['directors']]\n",
        "\n",
        "# выведите на экран количество режиссеров фильма и их имена\n",
        "# используйте f-форматирование строк и \\n для переноса на новую строку\n",
        "\n",
        "print(f\"Всего режиссеров: {len(directors_list)} \\nИмена: {' '.join(map(str, directors_list))}\")"
      ],
      "metadata": {
        "id": "aVekoj5u8SgK",
        "colab": {
          "base_uri": "https://localhost:8080/"
        },
        "outputId": "efbb48a9-34bd-448c-dd7f-ad3beacb518d"
      },
      "execution_count": null,
      "outputs": [
        {
          "output_type": "stream",
          "name": "stdout",
          "text": [
            "Всего режиссеров: 1 \n",
            "Имена: Greta Gerwig\n"
          ]
        }
      ]
    },
    {
      "cell_type": "code",
      "source": [
        "# списки тоже можно контатенировать, сложите список актеров и режиссеров\n",
        "# выведите несколько первых и последних элементов списка\n",
        "\n",
        "involved = actors_list + directors_list\n",
        "print(involved[:3])\n",
        "print(involved[-3:])"
      ],
      "metadata": {
        "id": "r4tYj-JE9qDD",
        "colab": {
          "base_uri": "https://localhost:8080/"
        },
        "outputId": "e5e9982c-20b8-474d-b7dd-4bac1c03d36e"
      },
      "execution_count": null,
      "outputs": [
        {
          "output_type": "stream",
          "name": "stdout",
          "text": [
            "['Margot Robbie', 'Issa Rae', 'Kate McKinnon']\n",
            "['Brian Whitehill', 'Caroline Wilde', 'Greta Gerwig']\n"
          ]
        }
      ]
    },
    {
      "cell_type": "code",
      "source": [
        "# выполните сортировку списка актеров по алфавиту\n",
        "\n",
        "sorted(actors_list)"
      ],
      "metadata": {
        "id": "E2EWKiA6_Ech",
        "colab": {
          "base_uri": "https://localhost:8080/"
        },
        "outputId": "20f3c678-53b8-424b-cdf2-3cb7e5f2d329"
      },
      "execution_count": null,
      "outputs": [
        {
          "output_type": "execute_result",
          "data": {
            "text/plain": [
              "['Aaron J. Smith',\n",
              " 'Adam Blaug',\n",
              " 'Adam Crossley',\n",
              " 'Adam Fogarty',\n",
              " 'Adam Paul Robertson',\n",
              " 'Adam Ray',\n",
              " 'Alana Rixon',\n",
              " 'Alex Brown',\n",
              " 'Alex Sturman',\n",
              " 'Alexandra Shipp',\n",
              " 'America Ferrera',\n",
              " 'Ana Cruz Kayne',\n",
              " 'Andrew Leung',\n",
              " 'Andy Monaghan',\n",
              " 'Ann Roth',\n",
              " 'Anna-Kay Gayle',\n",
              " 'Annie Mumolo',\n",
              " 'Anvita Nehru',\n",
              " 'Ariana Greenblatt',\n",
              " 'Ashley Young',\n",
              " 'Asim Chaudhry',\n",
              " 'Barnaby Quarendon',\n",
              " 'Beccy Jones',\n",
              " 'Benjamin Arthur',\n",
              " 'Brian Whitehill',\n",
              " 'Brylee Hsu',\n",
              " 'Cadence Murray',\n",
              " 'Callum Bell',\n",
              " 'Callum Clack',\n",
              " 'Callum Sterling',\n",
              " 'Cameron Everitt',\n",
              " 'Carlos Jacott',\n",
              " 'Caroline Wilde',\n",
              " 'Chanel Stewart',\n",
              " 'Charles Tatman',\n",
              " 'Charlie Goddard',\n",
              " 'Charlotte Anderson',\n",
              " 'Chris Taylor',\n",
              " 'Christopher T. Wood',\n",
              " 'Connor Swindells',\n",
              " 'Connor Tidman',\n",
              " 'Cristian Liberti',\n",
              " 'Daisy Duczmal',\n",
              " 'Danny Coburn',\n",
              " 'David Mumeni',\n",
              " 'Davide Albonetti',\n",
              " 'Deb Hiett',\n",
              " 'Dua Lipa',\n",
              " 'Eire Farrell',\n",
              " 'Elise Gallup',\n",
              " 'Ella Nonini',\n",
              " 'Ellis Harman',\n",
              " 'Emerald Fennell',\n",
              " 'Emma Mackey',\n",
              " 'Erica Ford',\n",
              " 'Evan Shafran',\n",
              " 'Florivaldo Mossi',\n",
              " 'Freja Nicole',\n",
              " 'Genvieve Toussaint',\n",
              " 'Geoff Kinns',\n",
              " 'George Basil',\n",
              " 'Grace Durkin',\n",
              " 'Grace Jabbari',\n",
              " 'Grant Neal',\n",
              " 'Grant Thresh',\n",
              " 'Gustave Die',\n",
              " 'Hannah Khalique-Brown',\n",
              " 'Hannah Nazareth',\n",
              " 'Hari Nef',\n",
              " 'Helen Mirren',\n",
              " 'Ira Mandela Siobhan',\n",
              " 'Ireanne Abenoja',\n",
              " 'Isabella Nightingale Mercado',\n",
              " 'Isla Ashworth',\n",
              " 'Issa Rae',\n",
              " 'Jack William Parry',\n",
              " 'Jamaal Lewis',\n",
              " 'James Bamford',\n",
              " 'James Healy',\n",
              " 'James Leon',\n",
              " 'Jamie Demetriou',\n",
              " 'Janine Somcio',\n",
              " 'Jasmine Clark',\n",
              " 'Jennifer Chan',\n",
              " 'Jerry Wan',\n",
              " 'Joe Wolstenholme',\n",
              " 'Joelle Dyson',\n",
              " 'John Cena',\n",
              " 'Jordan Melchor',\n",
              " 'Jordan Saria Oram',\n",
              " 'Josh Hawkins',\n",
              " 'Josh Wild',\n",
              " 'Joshua Smith',\n",
              " 'Josie Pocock',\n",
              " 'Justin Price',\n",
              " 'Kat Collings',\n",
              " 'Kate McKinnon',\n",
              " 'Kathryn Akin',\n",
              " 'Kayla-Mai Alvares',\n",
              " 'Kelly Rian Sanson',\n",
              " 'Kim Manning',\n",
              " 'Kingdom Sibanda',\n",
              " 'Kingsley Ben-Adir',\n",
              " 'Kourosh Parsapour',\n",
              " 'Lauren Holt',\n",
              " 'Lewis Calcutt',\n",
              " 'Lewis Easter',\n",
              " 'Liam Riddick',\n",
              " 'Lily Laight',\n",
              " 'Lisa Spencer',\n",
              " 'Lucia-Rose Sokolowski',\n",
              " 'Lucy Boynton',\n",
              " 'Luke Field-Wright',\n",
              " 'Luke Mullen',\n",
              " 'Mac Brandt',\n",
              " 'Maiya Leeke',\n",
              " 'Manuela Mora',\n",
              " 'Margot Robbie',\n",
              " 'Marisa Abela',\n",
              " 'Marlie Goddard',\n",
              " 'Mason Boyce',\n",
              " 'McKenna Roberts',\n",
              " 'Megan Charles',\n",
              " 'Mette Narrative',\n",
              " 'Michael Anderson',\n",
              " 'Michael Cera',\n",
              " 'Michael John French',\n",
              " 'Miekaile Browne',\n",
              " 'Mike Dickman',\n",
              " 'Millie-Rose Crossley',\n",
              " 'Mira Jebari',\n",
              " 'Molly Peyton White',\n",
              " 'Nahum McLean',\n",
              " 'Naomi Weijand',\n",
              " 'Ncuti Gatwa',\n",
              " 'Nicholas de Graffenreid',\n",
              " 'Nicola Coughlan',\n",
              " 'Nikkita Chadha',\n",
              " 'Noor Labelle',\n",
              " 'Oliver Chapman',\n",
              " 'Oliver Vaquer',\n",
              " 'Oliver Wheeler',\n",
              " 'Olivia Brody',\n",
              " 'Onyemachi Ejimofor',\n",
              " 'Oraldo Austin',\n",
              " 'Patrick Luwis',\n",
              " 'Paul Jurewicz',\n",
              " 'Prodromos Marneros',\n",
              " 'Ptolemy Slocum',\n",
              " 'Ramzan Miah',\n",
              " 'Ray Fearon',\n",
              " 'Redmand Rance',\n",
              " 'Rhea Perlman',\n",
              " 'Richard Price',\n",
              " 'Richard Womersley',\n",
              " 'Rico Bakker',\n",
              " 'Ritu Arya',\n",
              " 'Rob Brydon',\n",
              " 'Ryan Gosling',\n",
              " 'Ryan Piers Williams',\n",
              " 'Sasha Flesch',\n",
              " 'Sasha Milstein',\n",
              " 'Sasha Wareham',\n",
              " 'Scott Evans',\n",
              " 'Sebastian Skov Andersen',\n",
              " 'Sergi Cervera',\n",
              " 'Sharon Rooney',\n",
              " 'Shaun Niles',\n",
              " 'Sia Dauda',\n",
              " 'Simu Liu',\n",
              " 'Stan West',\n",
              " 'Sterling Jones',\n",
              " 'Tanner Kerrins',\n",
              " 'Taylor Bradshaw',\n",
              " 'Thomas Kalek',\n",
              " 'Tim Hodges',\n",
              " 'Todd Talbot',\n",
              " 'Tom Clark',\n",
              " 'Tom Stourton',\n",
              " 'Tony Noto',\n",
              " 'Tracy Pacana',\n",
              " 'Wahchi Vong',\n",
              " 'Will Ferrell',\n",
              " 'Will Merrick',\n",
              " 'William John Banks',\n",
              " 'Yasmin Harrison',\n",
              " 'Zara Richards',\n",
              " 'Zheng Xi Yong']"
            ]
          },
          "metadata": {},
          "execution_count": 11
        }
      ]
    },
    {
      "cell_type": "code",
      "source": [
        "# удалите в этом списке первый элемент с помощью индексации\n",
        "\n",
        "actors_list.remove(actors_list[3])"
      ],
      "metadata": {
        "id": "SfJNGwdlJKDI"
      },
      "execution_count": null,
      "outputs": []
    },
    {
      "cell_type": "code",
      "source": [
        "# удалите нелюбимого актера с помощью ввода имен\n",
        "\n",
        "actors_list.remove('Daisy Duczmal')\n",
        "\n",
        "# проверьте, есть ли это имя в списке актеров с помощью in\n",
        "\n",
        "'Daisy Duczmal' in actors_list"
      ],
      "metadata": {
        "colab": {
          "base_uri": "https://localhost:8080/"
        },
        "id": "kIKbyAxBJQnP",
        "outputId": "fb28a038-98c4-4341-f420-c5145f875d7f"
      },
      "execution_count": null,
      "outputs": [
        {
          "output_type": "execute_result",
          "data": {
            "text/plain": [
              "False"
            ]
          },
          "metadata": {},
          "execution_count": 13
        }
      ]
    },
    {
      "cell_type": "markdown",
      "source": [
        "# Задачи на работу со словарями"
      ],
      "metadata": {
        "id": "8sRhKPLTFAuF"
      }
    },
    {
      "cell_type": "code",
      "source": [
        "# создадим карточку любого актера из нашего фильма\n",
        "\n",
        "people = ia.search_person(actors_list[12])\n",
        "\n",
        "for person in people:\n",
        "   print(person.personID, person['name'])"
      ],
      "metadata": {
        "id": "2PuExDCoEFG_",
        "colab": {
          "base_uri": "https://localhost:8080/"
        },
        "outputId": "883798d8-bdb4-4c19-8bf2-d736112f8f3f"
      },
      "execution_count": null,
      "outputs": [
        {
          "output_type": "stream",
          "name": "stdout",
          "text": [
            "0331516 Ryan Gosling\n",
            "4148630 Bryan Gosling\n",
            "3140950 Ryan Godling\n",
            "3941568 Bryan Gosline\n",
            "0331502 Ann Gosling\n",
            "0298176 Ben Gosling Fuller\n",
            "0331510 Maureen Gosling\n",
            "13337507 Ryan Dowling\n",
            "2918084 John Gosling\n",
            "0331523 Martin Goslins\n",
            "1527689 Dawn Gosling\n",
            "0331505 Ian Gosling\n",
            "0331517 Simon Gosling\n",
            "5339926 Jake Gosling\n",
            "3666587 John Gosling\n",
            "0331507 John Gosling\n",
            "11599163 Kevin Gosling\n",
            "4015185 Jon Rosling\n",
            "1545999 Alan Gosling\n",
            "0331508 John Gosling\n"
          ]
        }
      ]
    },
    {
      "cell_type": "code",
      "source": [
        "# запишем в перменную только один результат\n",
        "\n",
        "person = ia.get_person(people[0].personID)"
      ],
      "metadata": {
        "id": "2x_WWik8Indr"
      },
      "execution_count": null,
      "outputs": []
    },
    {
      "cell_type": "code",
      "source": [
        "person.keys()"
      ],
      "metadata": {
        "colab": {
          "base_uri": "https://localhost:8080/"
        },
        "id": "HWK3eAaQJL0S",
        "outputId": "e1a4104f-8fa0-4d0f-f987-470703e9640f"
      },
      "execution_count": null,
      "outputs": [
        {
          "output_type": "execute_result",
          "data": {
            "text/plain": [
              "['headshot',\n",
              " 'imdbID',\n",
              " 'name',\n",
              " 'filmography',\n",
              " 'canonical name',\n",
              " 'long imdb name',\n",
              " 'long imdb canonical name',\n",
              " 'full-size headshot']"
            ]
          },
          "metadata": {},
          "execution_count": 38
        }
      ]
    },
    {
      "cell_type": "code",
      "source": [
        "person.items()"
      ],
      "metadata": {
        "id": "jRE3qJuUJoKv"
      },
      "execution_count": null,
      "outputs": []
    },
    {
      "cell_type": "code",
      "source": [
        "# составим из этих элементов карточку следующего вида\n",
        "# [\n",
        "#    актер :\n",
        "#             {\n",
        "#               фильмы : список фильмов\n",
        "#               жанры : список жанров\n",
        "#             }\n",
        "# ]\n",
        "#\n",
        "# начнем с созднания списка фильмов\n",
        "# создаем пустой список\n",
        "\n",
        "films = []\n",
        "\n",
        "# для каждого фильма в person['filmography']['###']\n",
        "# вносим в список новый элемент\n",
        "\n",
        "for title in person['filmography']['actor']:\n",
        "  temp = title['title']\n",
        "  films.append(temp)\n",
        "\n",
        "films[20:26]"
      ],
      "metadata": {
        "id": "rqL8zMq8JrTw",
        "colab": {
          "base_uri": "https://localhost:8080/"
        },
        "outputId": "d8ebfcd7-0fbc-4425-f72a-8e5f684b96b8"
      },
      "execution_count": null,
      "outputs": [
        {
          "output_type": "execute_result",
          "data": {
            "text/plain": [
              "['Crazy, Stupid, Love.',\n",
              " 'Drive',\n",
              " 'All Good Things',\n",
              " 'Blue Valentine',\n",
              " 'Lars and the Real Girl',\n",
              " 'Fracture']"
            ]
          },
          "metadata": {},
          "execution_count": 57
        }
      ]
    },
    {
      "cell_type": "code",
      "source": [
        "# теперь для каждого из найденных фильмов извлечем жанр\n",
        "# и тоже запишем все это в список\n",
        "\n",
        "# создаем пустой список для жанров\n",
        "\n",
        "genres = []\n",
        "\n",
        "# для каждого фильма из списка с фильмами\n",
        "# ищем подходящие фильмы в IMDB: ia.search_movie()\n",
        "# записываем в переменную ID этого фильма: ia.get_movie(movie.movieID)\n",
        "# извлекаем жанры, записываем во временную переменную\n",
        "# записываем жанры в список жанров\n",
        "\n",
        "for title in films[20:26]:\n",
        "  film_list = ia.search_movie(title)\n",
        "  film = ia.get_movie(film_list[0].movieID)\n",
        "  temp = film['genres'][0]\n",
        "  genres.append(temp)\n",
        "\n",
        "genres"
      ],
      "metadata": {
        "id": "MdMA4jSBK5yZ",
        "colab": {
          "base_uri": "https://localhost:8080/"
        },
        "outputId": "a31924fc-0683-4a1e-ad58-9d4388d37b11"
      },
      "execution_count": null,
      "outputs": [
        {
          "output_type": "execute_result",
          "data": {
            "text/plain": [
              "['Comedy', 'Action', 'Crime', 'Drama', 'Comedy', 'Crime']"
            ]
          },
          "metadata": {},
          "execution_count": 60
        }
      ]
    },
    {
      "cell_type": "code",
      "source": [
        "# наши жанры повторяются\n",
        "\n",
        "genres"
      ],
      "metadata": {
        "colab": {
          "base_uri": "https://localhost:8080/"
        },
        "id": "8Z36xTMcK6Xs",
        "outputId": "d4e9b2e4-63a5-4f6e-fe0d-fbdbbd1d1115"
      },
      "execution_count": null,
      "outputs": [
        {
          "output_type": "execute_result",
          "data": {
            "text/plain": [
              "['Comedy', 'Action', 'Crime', 'Drama', 'Comedy', 'Crime']"
            ]
          },
          "metadata": {},
          "execution_count": 61
        }
      ]
    },
    {
      "cell_type": "code",
      "source": [
        "# преобразуем список во множество\n",
        "\n",
        "genres = set(genres)\n",
        "genres"
      ],
      "metadata": {
        "colab": {
          "base_uri": "https://localhost:8080/"
        },
        "id": "CZoZrdoLNs0l",
        "outputId": "3ddda6e6-e5b9-41f7-9d49-9081e149b7f3"
      },
      "execution_count": null,
      "outputs": [
        {
          "output_type": "execute_result",
          "data": {
            "text/plain": [
              "{'Action', 'Comedy', 'Crime', 'Drama'}"
            ]
          },
          "metadata": {},
          "execution_count": 62
        }
      ]
    },
    {
      "cell_type": "code",
      "source": [
        "# теперь мы можем собрать информацию об актере в карточку\n",
        "# [\n",
        "#    актер :\n",
        "#             {\n",
        "#               фильмы : список фильмов\n",
        "#               жанры : список жанров\n",
        "#             }\n",
        "# ]\n",
        "#\n",
        "\n",
        "# сначала создаем словарь с фильмами и жанрами\n",
        "\n",
        "actor = dict()\n",
        "actor['films'] = films\n",
        "actor['genres'] = genres\n",
        "actor"
      ],
      "metadata": {
        "id": "_RtAgCoRN033",
        "colab": {
          "base_uri": "https://localhost:8080/"
        },
        "outputId": "ffd2501d-8278-4774-c2d7-56e55870977b"
      },
      "execution_count": null,
      "outputs": [
        {
          "output_type": "execute_result",
          "data": {
            "text/plain": [
              "{'films': ['Project Hail Mary',\n",
              "  'Wolfman',\n",
              "  \"Untitled Margot Robbie Ocean's Eleven Film\",\n",
              "  'The Fall Guy',\n",
              "  \"Ryan Gosling: I'm Just Ken\",\n",
              "  'Barbie',\n",
              "  'The Chase for Carrera',\n",
              "  'The Gray Man',\n",
              "  'First Man',\n",
              "  'Blade Runner 2049',\n",
              "  'Song to Song',\n",
              "  'La La Land',\n",
              "  'The Nice Guys: The Nice Guys Detective Agency',\n",
              "  'The Nice Guys',\n",
              "  'The Big Short',\n",
              "  'Only God Forgives',\n",
              "  'Gangster Squad',\n",
              "  'The Place Beyond the Pines',\n",
              "  'Drunk History',\n",
              "  'The Ides of March',\n",
              "  'Crazy, Stupid, Love.',\n",
              "  'Drive',\n",
              "  'All Good Things',\n",
              "  'Blue Valentine',\n",
              "  'Lars and the Real Girl',\n",
              "  'Fracture',\n",
              "  'Half Nelson',\n",
              "  'Stay',\n",
              "  \"I'm Still Here: Real Diaries of Young People Who Lived During the Holocaust\",\n",
              "  'The Notebook: Deleted Scenes',\n",
              "  'The Notebook',\n",
              "  'The United States of Leland',\n",
              "  'Murder by Numbers',\n",
              "  'The Slaughter Rule',\n",
              "  'The Believer',\n",
              "  'Remember the Titans',\n",
              "  'The Unbelievables',\n",
              "  'Young Hercules',\n",
              "  'Hercules: The Legendary Journeys',\n",
              "  'Breaker High',\n",
              "  'Nothing Too Good for a Cowboy',\n",
              "  'The Adventures of Shirley Holmes',\n",
              "  'Flash Forward',\n",
              "  'PSI Factor: Chronicles of the Paranormal',\n",
              "  'Frankenstein and Me',\n",
              "  'Ready or Not',\n",
              "  'Kung Fu: The Legend Continues',\n",
              "  'Avonlea',\n",
              "  'Goosebumps',\n",
              "  'Are You Afraid of the Dark?'],\n",
              " 'genres': {'Action', 'Comedy', 'Crime', 'Drama'}}"
            ]
          },
          "metadata": {},
          "execution_count": 63
        }
      ]
    },
    {
      "cell_type": "code",
      "source": [
        "# теперь временный словарь, в котором мы соединим эту информацию с именем актера\n",
        "\n",
        "temp = dict()\n",
        "temp[person['name']] = actor\n",
        "\n",
        "temp"
      ],
      "metadata": {
        "id": "pjxwcxH9OTk3",
        "colab": {
          "base_uri": "https://localhost:8080/"
        },
        "outputId": "11c9295d-7245-4f20-8cff-1eeea0bd8f0d"
      },
      "execution_count": null,
      "outputs": [
        {
          "output_type": "execute_result",
          "data": {
            "text/plain": [
              "{'Ryan Gosling': {'films': ['Project Hail Mary',\n",
              "   'Wolfman',\n",
              "   \"Untitled Margot Robbie Ocean's Eleven Film\",\n",
              "   'The Fall Guy',\n",
              "   \"Ryan Gosling: I'm Just Ken\",\n",
              "   'Barbie',\n",
              "   'The Chase for Carrera',\n",
              "   'The Gray Man',\n",
              "   'First Man',\n",
              "   'Blade Runner 2049',\n",
              "   'Song to Song',\n",
              "   'La La Land',\n",
              "   'The Nice Guys: The Nice Guys Detective Agency',\n",
              "   'The Nice Guys',\n",
              "   'The Big Short',\n",
              "   'Only God Forgives',\n",
              "   'Gangster Squad',\n",
              "   'The Place Beyond the Pines',\n",
              "   'Drunk History',\n",
              "   'The Ides of March',\n",
              "   'Crazy, Stupid, Love.',\n",
              "   'Drive',\n",
              "   'All Good Things',\n",
              "   'Blue Valentine',\n",
              "   'Lars and the Real Girl',\n",
              "   'Fracture',\n",
              "   'Half Nelson',\n",
              "   'Stay',\n",
              "   \"I'm Still Here: Real Diaries of Young People Who Lived During the Holocaust\",\n",
              "   'The Notebook: Deleted Scenes',\n",
              "   'The Notebook',\n",
              "   'The United States of Leland',\n",
              "   'Murder by Numbers',\n",
              "   'The Slaughter Rule',\n",
              "   'The Believer',\n",
              "   'Remember the Titans',\n",
              "   'The Unbelievables',\n",
              "   'Young Hercules',\n",
              "   'Hercules: The Legendary Journeys',\n",
              "   'Breaker High',\n",
              "   'Nothing Too Good for a Cowboy',\n",
              "   'The Adventures of Shirley Holmes',\n",
              "   'Flash Forward',\n",
              "   'PSI Factor: Chronicles of the Paranormal',\n",
              "   'Frankenstein and Me',\n",
              "   'Ready or Not',\n",
              "   'Kung Fu: The Legend Continues',\n",
              "   'Avonlea',\n",
              "   'Goosebumps',\n",
              "   'Are You Afraid of the Dark?'],\n",
              "  'genres': {'Action', 'Comedy', 'Crime', 'Drama'}}}"
            ]
          },
          "metadata": {},
          "execution_count": 64
        }
      ]
    },
    {
      "cell_type": "code",
      "source": [
        "# карточка готова, но мы наверняка захотим добавить туда еще актеров\n",
        "# создаем хранилище карточек в виде списка и вносим туда первую карточку с append\n",
        "\n",
        "cards = []\n",
        "cards.append(temp)\n",
        "\n",
        "cards"
      ],
      "metadata": {
        "colab": {
          "base_uri": "https://localhost:8080/"
        },
        "id": "sPE1W57QPNYp",
        "outputId": "ed2dda88-f22e-4ef5-9f27-e3c0291ba764"
      },
      "execution_count": null,
      "outputs": [
        {
          "output_type": "execute_result",
          "data": {
            "text/plain": [
              "[{'Ryan Gosling': {'films': ['Project Hail Mary',\n",
              "    'Wolfman',\n",
              "    \"Untitled Margot Robbie Ocean's Eleven Film\",\n",
              "    'The Fall Guy',\n",
              "    \"Ryan Gosling: I'm Just Ken\",\n",
              "    'Barbie',\n",
              "    'The Chase for Carrera',\n",
              "    'The Gray Man',\n",
              "    'First Man',\n",
              "    'Blade Runner 2049',\n",
              "    'Song to Song',\n",
              "    'La La Land',\n",
              "    'The Nice Guys: The Nice Guys Detective Agency',\n",
              "    'The Nice Guys',\n",
              "    'The Big Short',\n",
              "    'Only God Forgives',\n",
              "    'Gangster Squad',\n",
              "    'The Place Beyond the Pines',\n",
              "    'Drunk History',\n",
              "    'The Ides of March',\n",
              "    'Crazy, Stupid, Love.',\n",
              "    'Drive',\n",
              "    'All Good Things',\n",
              "    'Blue Valentine',\n",
              "    'Lars and the Real Girl',\n",
              "    'Fracture',\n",
              "    'Half Nelson',\n",
              "    'Stay',\n",
              "    \"I'm Still Here: Real Diaries of Young People Who Lived During the Holocaust\",\n",
              "    'The Notebook: Deleted Scenes',\n",
              "    'The Notebook',\n",
              "    'The United States of Leland',\n",
              "    'Murder by Numbers',\n",
              "    'The Slaughter Rule',\n",
              "    'The Believer',\n",
              "    'Remember the Titans',\n",
              "    'The Unbelievables',\n",
              "    'Young Hercules',\n",
              "    'Hercules: The Legendary Journeys',\n",
              "    'Breaker High',\n",
              "    'Nothing Too Good for a Cowboy',\n",
              "    'The Adventures of Shirley Holmes',\n",
              "    'Flash Forward',\n",
              "    'PSI Factor: Chronicles of the Paranormal',\n",
              "    'Frankenstein and Me',\n",
              "    'Ready or Not',\n",
              "    'Kung Fu: The Legend Continues',\n",
              "    'Avonlea',\n",
              "    'Goosebumps',\n",
              "    'Are You Afraid of the Dark?'],\n",
              "   'genres': {'Action', 'Comedy', 'Crime', 'Drama'}}}]"
            ]
          },
          "metadata": {},
          "execution_count": 65
        }
      ]
    },
    {
      "cell_type": "markdown",
      "source": [
        "Задание:\n",
        "\n",
        "- Создать карточки для 5 актеров одного (любого фильма) - можно больше, главное, чтобы ваш код масштабировался до любого количества актеров\n",
        "- В карточке каждого актера должна содержаться следующая информация:\n",
        " * фильмография в качестве актера\n",
        " * несколько жанров\n",
        " * год выпуска фильмов, где снимался актер\n",
        " * языки, на которых сняты эти фильмы\n",
        " * рейтинги этих фильмов\n",
        "\n",
        "Создание карточек должно быть автоматизировано: за один цикл работы программы должна создаваться одна карточка. Чтобы программа не работала слишком долго, можно сократить количество извлеченных фильмов до пяти, извлекать только один жанр, один язык, где их несколько.\n",
        "\n",
        "Если этого мало: используйте функции для своей работы (аргументами функции может быть количество актеров, количество фильмов и т.д.), добавьте к фильмографии синопсисы."
      ],
      "metadata": {
        "id": "d-Q6tLj6QVUj"
      }
    }
  ]
}