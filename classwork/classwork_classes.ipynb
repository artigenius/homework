{
  "nbformat": 4,
  "nbformat_minor": 0,
  "metadata": {
    "colab": {
      "provenance": [],
      "authorship_tag": "ABX9TyNYh33hTnihzCgrMtiYgOyw",
      "include_colab_link": true
    },
    "kernelspec": {
      "name": "python3",
      "display_name": "Python 3"
    },
    "language_info": {
      "name": "python"
    }
  },
  "cells": [
    {
      "cell_type": "markdown",
      "metadata": {
        "id": "view-in-github",
        "colab_type": "text"
      },
      "source": [
        "<a href=\"https://colab.research.google.com/github/artigenius/homeworke/blob/main/classwork/classwork_classes.ipynb\" target=\"_parent\"><img src=\"https://colab.research.google.com/assets/colab-badge.svg\" alt=\"Open In Colab\"/></a>"
      ]
    },
    {
      "cell_type": "code",
      "execution_count": 2,
      "metadata": {
        "colab": {
          "base_uri": "https://localhost:8080/"
        },
        "id": "SMPfIqH_B-3H",
        "outputId": "ce4043c5-115e-415f-b3ff-3297bb7089d7"
      },
      "outputs": [
        {
          "output_type": "stream",
          "name": "stdout",
          "text": [
            "toke_tokenizer\n"
          ]
        }
      ],
      "source": [
        "class WordTokenizer:\n",
        "  class_type = 'toke_tokenizer'\n",
        "\n",
        "print(WordTokenizer.class_type)"
      ]
    }
  ]
}