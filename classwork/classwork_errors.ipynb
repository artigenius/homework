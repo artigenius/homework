{
  "nbformat": 4,
  "nbformat_minor": 0,
  "metadata": {
    "colab": {
      "provenance": [],
      "authorship_tag": "ABX9TyPYCbGcK9cqr48RM1M5cv1R",
      "include_colab_link": true
    },
    "kernelspec": {
      "name": "python3",
      "display_name": "Python 3"
    },
    "language_info": {
      "name": "python"
    }
  },
  "cells": [
    {
      "cell_type": "markdown",
      "metadata": {
        "id": "view-in-github",
        "colab_type": "text"
      },
      "source": [
        "<a href=\"https://colab.research.google.com/github/artigenius/homeworke/blob/main/classwork/classwork_errors.ipynb\" target=\"_parent\"><img src=\"https://colab.research.google.com/assets/colab-badge.svg\" alt=\"Open In Colab\"/></a>"
      ]
    },
    {
      "cell_type": "code",
      "execution_count": null,
      "metadata": {
        "colab": {
          "base_uri": "https://localhost:8080/"
        },
        "id": "DguPYhjIrIzl",
        "outputId": "1e31bc92-1f5b-40ca-d7f4-d96f4f497e09"
      },
      "outputs": [
        {
          "output_type": "stream",
          "name": "stdout",
          "text": [
            "Error: division by zero\n",
            "Execution completed.\n",
            "Result: None\n"
          ]
        }
      ],
      "source": [
        "\"\"\"\n",
        "TRY, EXCEPT, FINALLY\n",
        "СИНТАКСИС\n",
        "\"\"\"\n",
        "def divide(x, y):\n",
        "    try:\n",
        "        result = x / y\n",
        "    except ZeroDivisionError as e:\n",
        "        print(f\"Error: {e}\")\n",
        "        result = None\n",
        "    finally:\n",
        "        print(\"Execution completed.\")\n",
        "    return result\n",
        "\n",
        "result = divide(10, 2)\n",
        "print(\"Result:\", result)\n",
        "\n",
        "result = divide(10, 0)\n",
        "print(\"Result:\", result)\n"
      ]
    },
    {
      "cell_type": "code",
      "source": [
        "\"\"\"\n",
        "Написать программу, которая принимает на вход 2 числа\n",
        "и выводит на экран результат деления первого числа на второе.\n",
        "Обработать ошибки ValueError, ZeroDivisionError:\n",
        "Вывести на экран ошибку и сообщение.\n",
        "Использовать try, except, finally.\n",
        "Вызывать свою программу так, чтобы проверить все возможные сценарии.\n",
        "\"\"\"\n",
        "def divide(x, y):\n",
        "    \"\"\"\n",
        "    :x: число 1 (float)\n",
        "    :y: число 2 (float)\n",
        "    \"\"\"\n",
        "    try:\n",
        "        # деление\n",
        "        print(f\"Результат деления {x} на {y}: {x / y}\")\n",
        "    except ValueError as ve:\n",
        "        # обработка ошибки ValueError\n",
        "        print(f\"Ошибка ввода данных: {ve}\")\n",
        "    except ZeroDivisionError as zde:\n",
        "        # обработка ошибки ZeroDivisionError\n",
        "        print(f\"Ошибка деления на ноль: {zde}\")\n",
        "    finally:\n",
        "        # блок finally выполняется всегда, независимо от того, были ли ошибки или нет\n",
        "        print(\"Программа завершена.\")\n",
        "\n",
        "divide(10, 2)\n",
        "divide(10, 0)\n"
      ],
      "metadata": {
        "id": "6oHgYa7X18V0"
      },
      "execution_count": null,
      "outputs": []
    },
    {
      "cell_type": "code",
      "source": [
        "def divide(x, y):\n",
        "    try:\n",
        "        result = x / y\n",
        "    except ZeroDivisionError as e:\n",
        "        print(f\"Error: {e}\")\n",
        "        result = None\n",
        "    except TypeError as d:\n",
        "        result = None\n",
        "        print(f\"Error: {d}\")\n",
        "    finally:\n",
        "        print(\"Execution completed.\")\n",
        "    return result\n",
        "\n",
        "\n",
        "result = divide(10, 2)\n",
        "print(\"Result:\", result)\n",
        "\n",
        "result = divide(10, 'a')\n",
        "print(\"Result:\", result)\n",
        "\n",
        "result = divide(10, 0)\n",
        "print(\"Result:\", result)"
      ],
      "metadata": {
        "colab": {
          "base_uri": "https://localhost:8080/"
        },
        "id": "CB-_Bq-ortc8",
        "outputId": "a41a97b9-fbe9-4481-9d71-7e45990c8fe4"
      },
      "execution_count": null,
      "outputs": [
        {
          "output_type": "stream",
          "name": "stdout",
          "text": [
            "Execution completed.\n",
            "Result: 5.0\n",
            "Error: unsupported operand type(s) for /: 'int' and 'str'\n",
            "Execution completed.\n",
            "Result: None\n",
            "Error: division by zero\n",
            "Execution completed.\n",
            "Result: None\n"
          ]
        }
      ]
    },
    {
      "cell_type": "code",
      "source": [
        "\"\"\"\n",
        "Написать программу, которая считывает контент из файла.\n",
        "Программа принимает на вход путь к файлу, например “text.txt”, и считывает файл с помощью:\n",
        "with open(file_path, 'r') as file:\n",
        "            content = file.read()\n",
        "Программа выводит на экран часть контента.\n",
        "Обработать ошибку FileNotFoundError: вывести ошибку и сообщение.\n",
        "Обработать другие исключения (Exception). Используйте type(e).__name__, чтобы вывести ошибку.\n",
        "Добавить блок finally и вызывать функцию, чтобы проверить разные сценарии\n",
        "(правильный путь, неправильный путь, задать число вместо пути).\n",
        "\"\"\"\n",
        "def read_file_content(file_path):\n",
        "    \"\"\"\n",
        "    :file_path: путь к файлу (например 'text.txt')\n",
        "    \"\"\"\n",
        "    try:\n",
        "        # попытка открыть файл для чтения\n",
        "        with open(file_path, 'r') as file:\n",
        "            # чтение и вывод части контента\n",
        "            content = file.read()\n",
        "            print(\"Часть контента из файла:\")\n",
        "            print(content[:100])  # вывести первые 100 символов\n",
        "\n",
        "    except FileNotFoundError as fnfe:\n",
        "        # обработка ошибки FileNotFoundError\n",
        "        print(f\"Ошибка чтения файла: {fnfe}\")\n",
        "\n",
        "    except Exception as e:\n",
        "        # обработка других исключений\n",
        "        print(f\"Произошла ошибка: {type(e).__name__} - {e}\")\n",
        "\n",
        "    finally:\n",
        "        # блок finally выполняется всегда, независимо от того, были ли ошибки или нет\n",
        "        print(\"Программа завершена.\")\n",
        "\n",
        "# ввод пути к файлу от пользователя\n",
        "file_path_right = 'text.txt'\n",
        "file_path_wrong = 'text_.txt'\n",
        "not_file_path = 10\n",
        "\n",
        "# вызываем функцию считывания контента из файла\n",
        "read_file_content(file_path_right)\n",
        "read_file_content(file_path_wrong)\n",
        "read_file_content(not_file_path)\n"
      ],
      "metadata": {
        "id": "XPpy9d712uPp"
      },
      "execution_count": null,
      "outputs": []
    },
    {
      "cell_type": "code",
      "source": [
        "def open_file(file_path):\n",
        "    try:\n",
        "       with open(file_path, 'r') as file:\n",
        "          content = file.read()\n",
        "          print(\"Часть контента из файла:\", content[:50])\n",
        "    except FileNotFoundError as d:\n",
        "          print(f'Произошла ошибка: {d}')\n",
        "          content = None\n",
        "    except Exception as e:\n",
        "          print(f\"Произошла ошибка: {type(e).__name__} - {e}\")\n",
        "          content = None\n",
        "    finally:\n",
        "        print(\"Файл открыт\")\n",
        "    return content\n",
        "\n",
        "open_file('/content/MOV001.txt')\n",
        "\n",
        "open_file(2)\n",
        "\n",
        "open_file('/content/MOV002.txt')\n",
        "\n"
      ],
      "metadata": {
        "colab": {
          "base_uri": "https://localhost:8080/"
        },
        "id": "45OE4trquj-V",
        "outputId": "92e52829-1cfd-4206-f0cb-4631f046cce3"
      },
      "execution_count": null,
      "outputs": [
        {
          "output_type": "stream",
          "name": "stdout",
          "text": [
            "Часть контента из файла: Дополнительный свет не нужен?\n",
            "Ничего нет.\n",
            "Да нет, \n",
            "File opened\n",
            "Произошла ошибка: OSError - [Errno 9] Bad file descriptor\n",
            "File opened\n",
            "Произошла ошибка: [Errno 2] No such file or directory: '/content/MOV002.txt'\n",
            "File opened\n"
          ]
        }
      ]
    }
  ]
}